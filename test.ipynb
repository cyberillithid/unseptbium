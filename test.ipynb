{
 "cells": [
  {
   "cell_type": "code",
   "execution_count": 20,
   "metadata": {},
   "outputs": [],
   "source": [
    "import ss13_usb as ss13\n",
    "\n",
    "from typing import NamedTuple\n",
    "from enum import Enum, IntEnum\n",
    "from typing_extensions import Self\n",
    "import importlib\n",
    "from dataclasses import dataclass\n",
    "\n",
    "import supermattercore.consts as smc\n",
    "import supermattercore.graph as smg\n",
    "import supermattercore.smgraph as smsmg\n",
    "importlib.reload(smc)\n",
    "importlib.reload(smg)\n",
    "importlib.reload(smsmg)\n",
    "from supermattercore.graph import Direction\n",
    "\n",
    "\n",
    "from datetime import datetime"
   ]
  },
  {
   "cell_type": "code",
   "execution_count": 1,
   "metadata": {},
   "outputs": [],
   "source": [
    "ROOT_ROOT = \"E:\\\\Code\\\\opensource\\\\games\\\\\"\n",
    "SCAV_ROOT = ROOT_ROOT+ \"ScavStation\\\\\"\n",
    "NEB_ROOT = ROOT_ROOT + \"Nebula\\\\\"\n",
    "# SCAV_ROOT = \"./instance/\""
   ]
  },
  {
   "cell_type": "code",
   "execution_count": 17,
   "metadata": {},
   "outputs": [],
   "source": [
    "ssm = ss13.Ss13Map(SCAV_ROOT + \"maps/ministation/ministation-0.dmm\")\n",
    "with open (SCAV_ROOT + \"maps/ministation/ministation-0.dmm\", 'rb') as f:\n",
    "    cur_rev = f.read()\n",
    "nodes,edges,objs,pipes = smsmg.do_all(ssm)"
   ]
  },
  {
   "cell_type": "code",
   "execution_count": 22,
   "metadata": {},
   "outputs": [],
   "source": [
    "ssm = ss13.Ss13Map(SCAV_ROOT + \"maps/exodus/exodus-2.dmm\")\n",
    "nodes,edges,objs,pipes = smsmg.do_all(ssm, False)"
   ]
  },
  {
   "cell_type": "code",
   "execution_count": 18,
   "metadata": {},
   "outputs": [],
   "source": [
    "smsmg.plot_graph('Mollusc : <dev>', nodes, edges, 1)"
   ]
  },
  {
   "cell_type": "markdown",
   "metadata": {},
   "source": [
    "# Git trickery"
   ]
  },
  {
   "cell_type": "code",
   "execution_count": 25,
   "metadata": {},
   "outputs": [],
   "source": [
    "import git\n",
    "\n",
    "repo = git.Repo(SCAV_ROOT)"
   ]
  },
  {
   "cell_type": "code",
   "execution_count": 35,
   "metadata": {},
   "outputs": [
    {
     "name": "stdout",
     "output_type": "stream",
     "text": [
      "[2f432d2b] @ 2024-05-23 18:30:25 <Knighted Illithid> \"Merge remote-tracking branch 'mynebula/staging' into ci-dev\" \n",
      "\t -- starting from here\n",
      "[00660e8a] @ 2024-05-09 03:31:15 <MistakeNot4892> \"Fixed the pool on Ministation.\"  --  mapfiles equal\n",
      "[d2e8a272] @ 2024-05-08 03:26:37 <MistakeNot4892> \"Post-update compile fixes.\"  --  mapfile changed, nodes/edges equal\n",
      "[8b1dc629] @ 2024-05-08 03:20:06 <MistakeNot4892> \"Merge branch 'main' of github.com:ScavStation/ScavStation into scavdev\"  --  mapfile changed, nodes/edges equal\n",
      "[09c864f2] @ 2024-05-03 22:49:18 <Armyguy> \"Yinglet Cam Time\"  --  mapfile changed, nodes/edges equal\n",
      "[5dd26fd6] @ 2024-04-22 10:57:35 <Armyguy> \"Fixs the D A R K N E S S\"  --  mapfile changed, nodes/edges equal\n",
      "[c50e97e6] @ 2024-04-20 10:56:43 <Armyguy> \"Woo?\" \n",
      "\t ! Nodes/edges CHANGED\n",
      "\t\tGraph # 2 drawn\n",
      "[164dc202] @ 2024-04-20 10:38:13 <Armyguy> \"Think thats all of em?\"  --  mapfile changed, nodes/edges equal\n",
      "[1c684ec3] @ 2024-04-20 07:32:18 <Armyguy> \"-0 fixed?\"  --  mapfile changed, nodes/edges equal\n",
      "[978c20f5] @ 2024-04-20 07:21:19 <Armyguy> \"How fucked is this map still?\"  --  mapfile changed, nodes/edges equal\n",
      "[6f647640] @ 2024-04-20 06:57:29 <Armyguy> \"Fuck shit\"  --  mapfile changed, nodes/edges equal\n",
      "[e746f7a8] @ 2024-04-20 06:46:50 <Armyguy> \"Maybe fixed now idk\"  --  mapfile changed, nodes/edges equal\n",
      "[e73d880e] @ 2024-04-20 06:28:51 <Armyguy> \"Maybe fixs them? Theres a fucky cable\"  --  mapfile changed, nodes/edges equal\n",
      "[6a49f016] @ 2024-04-20 05:59:27 <Armyguy> \"Time for a new CI!\"  --  mapfile changed, nodes/edges equal\n",
      "[7cb2a658] @ 2024-04-20 05:27:22 <Armyguy> \"Map edits yo\" \n",
      "\t ! Nodes/edges CHANGED\n",
      "\t\tGraph # 3 drawn\n",
      "[a5f79f0b] @ 2024-04-20 05:08:40 <Armyguy> \"Loader back in\" \n",
      "\t !!! No SM Core found (???)\n",
      "[3e24dad9] @ 2024-04-20 03:32:21 <Armyguy> \"Maps and engi thing\" \n",
      "\t !!! No SM Core found (???)\n",
      "[2287acc8] @ 2024-04-08 23:38:36 <Armyguy> \"Fuck you wall!\" \n",
      "\t ! Nodes/edges CHANGED\n",
      "\t\tGraph # 4 drawn\n",
      "[1d0607c1] @ 2024-04-04 03:35:36 <Armyguy> \"Map edits\"  --  mapfile changed, nodes/edges equal\n",
      "[d461b5c6] @ 2024-03-30 14:52:19 <MistakeNot4892> \"Merge branch 'dev' of github.com:ScavStation/ScavStation into scavdev\"  --  mapfile changed, nodes/edges equal\n",
      "[5d89f9f6] @ 2024-03-30 14:32:31 <MistakeNot4892> \"Merge branch 'staging' of github.com:NebulaSS13/Nebula into scavdev\" \n",
      "\t ! Nodes/edges CHANGED\n",
      "\t\tGraph # 5 drawn\n",
      "[5d89f9f6] @ 2024-03-30 14:32:31 <MistakeNot4892> \"Merge branch 'staging' of github.com:NebulaSS13/Nebula into scavdev\" \n",
      "\t ! Nodes/edges CHANGED\n",
      "\t\tGraph # 6 drawn\n",
      "[a85ad21a] @ 2024-03-30 07:43:18 <MistakeNot4892> \"Replacing ministation with ministation2.\"  --  mapfile changed, nodes/edges equal\n",
      "[7da57a81] @ 2024-02-29 05:29:18 <MistakeNot4892> \"Tidying/cleaning up/normalizing recipe definitions.\" \n",
      "\t ! Nodes/edges CHANGED\n",
      "\t\tGraph # 7 drawn\n",
      "[2b6c1aad] @ 2024-03-07 05:42:00 <Penelope Haze> \"Merge pull request #3655 from MistakeNot4892/atomhealth\n",
      "\n",
      "Moves /mob and /obj health vars to /atom.\"  --  mapfile changed, nodes/edges equal\n",
      "[2365618d] @ 2024-03-02 07:06:50 <MistakeNot4892> \"Generalizing the tool system and adding tool crafting.\"  --  mapfile changed, nodes/edges equal\n",
      "[10dd780e] @ 2024-03-02 04:23:56 <MistakeNot4892> \"Converting pickaxes to a tool subtype.\"  --  mapfile changed, nodes/edges equal\n",
      "[8ebe5115] @ 2024-02-03 06:28:54 <MistakeNot4892> \"Merging health vars from /obj and /mob to /atom.\"  --  mapfile changed, nodes/edges equal\n",
      "[a9a5fd4e] @ 2024-03-01 08:25:52 <MistakeNot4892> \"Compile fixes following water turf PR.\"  --  mapfile changed, nodes/edges equal\n",
      "[6a59cfa4] @ 2024-02-25 05:40:33 <MistakeNot4892> \"Removes several simulated floor turfs in favour of exterior turfs.\"  --  mapfile changed, nodes/edges equal\n",
      "[3244437b] @ 2023-12-27 06:58:55 <Penelope Haze> \"Fix Ministation wall objects\"  --  mapfile changed, nodes/edges equal\n",
      "[d65e49bc] @ 2023-10-22 11:52:36 <MistakeNot4892> \"Pulling in Scav's updated ministation to replace the existing ministation.\"  --  mapfile changed, nodes/edges equal\n"
     ]
    }
   ],
   "source": [
    "commit = repo.commit(\"HEAD\")\n",
    "commit_repr = f'[{commit.hexsha[:8]}] @ {datetime.fromtimestamp(commit.authored_date).isoformat(\" \")} <{commit.author.name}> \"{commit.message.strip()}\"'\n",
    "graph_hist = [(\"<HEAD:dev> \"+commit_repr, nodes, edges)]\n",
    "smsmg.plot_graph(*graph_hist[0], 1)\n",
    "print(commit_repr,'\\n\\t', '-- starting from here')\n",
    "for commit in repo.iter_commits(all=True, max_count=60, paths='maps/ministation/ministation-0.dmm'):\n",
    "    commit_repr = f'[{commit.hexsha[:8]}] @ {datetime.fromtimestamp(commit.authored_date).isoformat(\" \")} <{commit.author.name}> \"{commit.message.strip()}\"'\n",
    "    blobs = [(t.name, t['ministation-0.dmm']) for t in repo.tree(commit)['maps'].trees if 'ministat' in t.name]\n",
    "    for dirname, blob in blobs:\n",
    "        ds = blob.data_stream.read()\n",
    "        if ds != cur_rev:\n",
    "            fn = f'./instance/maptree/{commit.hexsha[:8]}.dmm'\n",
    "            cur_rev = ds\n",
    "            with open(fn, 'wb') as f:\n",
    "                f.write(ds)\n",
    "            ssm = ss13.Ss13Map(fn)\n",
    "            try:\n",
    "                node2, edge2,_,_ = smsmg.do_all(ssm)\n",
    "                if nodes!=node2 and edges!=edge2:\n",
    "                    graph_hist.append((commit_repr, node2, edge2))\n",
    "                    histlen = len(graph_hist)\n",
    "                    nodes,edges = node2,edge2\n",
    "                    smsmg.plot_graph(*graph_hist[histlen-1], histlen)\n",
    "                    print(commit_repr, '\\n\\t', '! Nodes/edges CHANGED\\n\\t\\tGraph #', histlen, 'drawn')\n",
    "                else: \n",
    "                    print(commit_repr, ' -- ', 'mapfile changed, nodes/edges equal')\n",
    "            except AssertionError:\n",
    "                print(commit_repr, '\\n\\t', '!!! No SM Core found (???)')\n",
    "        else: print(commit_repr, ' -- ', 'mapfiles equal')"
   ]
  },
  {
   "cell_type": "markdown",
   "metadata": {},
   "source": [
    "# Single impl"
   ]
  },
  {
   "cell_type": "code",
   "execution_count": 141,
   "metadata": {},
   "outputs": [
    {
     "name": "stdout",
     "output_type": "stream",
     "text": [
      "core_volume=37.5 m³\n"
     ]
    }
   ],
   "source": [
    "core_room = [k for k in ssm.find(smc.VACUUM_FLOOR) if smc.AIRLOCK not in dict(ssm[k])]\n",
    "smcore = [smg.StoredObj(k, smc.SM_CORE, dict(ssm[k])[smc.SM_CORE], 'SM') for k in core_room if smc.SM_CORE in dict(ssm[k])]\n",
    "assert len(smcore)>0, \"SM core not located\"\n",
    "core_volume = 2.5 * len(core_room)\n",
    "print(f'{core_volume=} m³')"
   ]
  },
  {
   "cell_type": "code",
   "execution_count": 142,
   "metadata": {},
   "outputs": [],
   "source": [
    "first = smg.find_amid(ssm, core_room)\n",
    "\n",
    "stored_objs, pipes0 = smg.split_to_obj_pipes(smg.follow_networks(ssm, first, smcore))\n",
    "\n",
    "pipenetset = smg.merge_pipes(pipes0)\n",
    "\n",
    "smsmg.custom_rename(ssm, stored_objs, pipenetset)"
   ]
  },
  {
   "cell_type": "code",
   "execution_count": 143,
   "metadata": {},
   "outputs": [
    {
     "data": {
      "text/plain": [
       "PipeNetsSet(segment_map=<381 coordinates>,\n",
       "\tnets_resolve=<44 segments>,\n",
       "\tnets_defs={'black': (385.0 L, 5 tiles, 3 segms) : {'///black': 4, 'manifold//black': 1},\n",
       " 'black_2': (350.0 L, 4 tiles, 2 segms) : {'///black': 2, 'manifold//black': 2},\n",
       " 'black_3': (70 L, 1 tiles, 1 segms) : {'///black': 1},\n",
       " 'cooled': (175.0 L, 2 tiles, 2 segms) : {'///green': 1, 'manifold//green': 1},\n",
       " 'cooling': (11620.0 L, 164 tiles, 14 segms) : {   '///black': 15,\n",
       "    '///green': 6,\n",
       "    '//heat_exchanging': 119,\n",
       "    '//heat_exchanging/junction': 2,\n",
       "    '//hidden/black': 4,\n",
       "    '//hidden/green': 14,\n",
       "    'manifold//black': 2,\n",
       "    'manifold//green': 1,\n",
       "    'manifold/hidden/green': 1},\n",
       " 'heat_exchanging': (12215.0 L, 173 tiles, 8 segms) : {   '///black': 6,\n",
       "    '//heat_exchanging': 157,\n",
       "    '//heat_exchanging/junction': 2,\n",
       "    '//hidden/black': 5,\n",
       "    'manifold//black': 3},\n",
       " 'scalding': (315.0 L, 4 tiles, 2 segms) : {'///yellow': 3, 'manifold//yellow': 1},\n",
       " 'warm': (2345.0 L, 30 tiles, 12 segms) : {'///cyan': 21, '//hidden/cyan': 2, 'manifold//cyan': 7}}\n",
       ")"
      ]
     },
     "execution_count": 143,
     "metadata": {},
     "output_type": "execute_result"
    }
   ],
   "source": [
    "pipenetset"
   ]
  },
  {
   "cell_type": "code",
   "execution_count": 144,
   "metadata": {},
   "outputs": [
    {
     "name": "stdout",
     "output_type": "stream",
     "text": [
      "SM1 @ (126, 69); d=2; dir_in=<Direction.NORTH: 1>\n",
      "\t2 -- NOCONN\n",
      "PI1 @ (128, 70); d=4; dir_in=<Direction.WEST: 8>\n",
      "\t4 -- scalding(315.0L)\n",
      "PO1 @ (124, 70); d=1; dir_in=<Direction.SOUTH: 2>\n",
      "\t1 -- warm(2345.0L)\n",
      "M1 @ (130, 70); d=2; dir_in=<Direction.NORTH: 1>\n",
      "\tNone -- scalding(315.0L)\n",
      "M2 @ (132, 72); d=2; dir_in=<Direction.NORTH: 1>\n",
      "\tNone -- warm(2345.0L)\n",
      "M3 @ (119, 69); d=2; dir_in=<Direction.NORTH: 1>\n",
      "\tNone -- black_2(350.0L)\n",
      "V1 @ (130, 67); d=1; dir_in=<Direction.SOUTH: 2>\n",
      "\t1 -- scalding(315.0L)\n",
      "\t2 <- cooling(11620.0L)\n",
      "V2 @ (131, 65); d=4; dir_in=<Direction.WEST: 8>\n",
      "\t8 <- cooling(11620.0L)\n",
      "\t4 -- cooled(175.0L)\n",
      "V3 @ (139, 76); d=4; dir_in=<Direction.WEST: 8>\n",
      "\t8 <- warm(2345.0L)\n",
      "\t4 -- cooling(11620.0L)\n",
      "F1 @ (121, 72); d=2; dir_in=<Direction.EAST: 4>\n",
      "\t8 -- black(385.0L)\n",
      "\t1 -- warm(2345.0L)\n",
      "\t2 -- NOCONN\n",
      "\t4 <- warm(2345.0L)\n",
      "F2 @ (121, 74); d=2; dir_in=<Direction.EAST: 4>\n",
      "\t8 -- black(385.0L)\n",
      "\t1 -- OBJs: ['P1']\n",
      "\t2 -- warm(2345.0L)\n",
      "\t4 <- warm(2345.0L)\n",
      "P1 @ (121, 75); d=8; dir_in=<Direction.EAST: 4>\n",
      "\t8 -- OBJs: ['C1']\n",
      "\t4 <- warm(2345.0L)\n",
      "P2 @ (133, 66); d=8; dir_in=<Direction.EAST: 4>\n",
      "\t8 -- cooled(175.0L)\n",
      "\t4 <- cooling(11620.0L)\n",
      "P3 @ (119, 70); d=2; dir_in=<Direction.NORTH: 1>\n",
      "\t1 <- black(385.0L)\n",
      "\t2 -- black_2(350.0L)\n",
      "P4 @ (121, 66); d=8; dir_in=<Direction.EAST: 4>\n",
      "\t8 -- heat_exchanging(12215.0L)\n",
      "\t4 <- black_3(70L)\n",
      "P5 @ (138, 77); d=2; dir_in=<Direction.NORTH: 1>\n",
      "\t1 <- OBJs: ['C4']\n",
      "\t2 -- warm(2345.0L)\n",
      "P6 @ (140, 77); d=2; dir_in=<Direction.NORTH: 1>\n",
      "\t1 <- OBJs: ['C5']\n",
      "\t2 -- cooling(11620.0L)\n",
      "C1 @ (120, 75); d=4; dir_in=<Direction.WEST: 8>\n",
      "\t4 -- OBJs: ['P1']\n",
      "C2 @ (122, 70); d=2; dir_in=<Direction.NORTH: 1>\n",
      "\t2 -- black_2(350.0L)\n",
      "C3 @ (122, 67); d=2; dir_in=<Direction.NORTH: 1>\n",
      "\t2 -- black_3(70L)\n",
      "C4 @ (138, 78); d=2; dir_in=<Direction.NORTH: 1>\n",
      "\t2 -- OBJs: ['P5']\n",
      "C5 @ (140, 78); d=2; dir_in=<Direction.NORTH: 1>\n",
      "\t2 -- OBJs: ['P6']\n",
      "HE1 @ (119, 68); d=1; dir_in=<Direction.SOUTH: 2>\n",
      "\t1 -- black_2(350.0L)\n",
      "\t2 <- OBJs: ['HE2']\n",
      "HE2 @ (119, 67); d=2; dir_in=<Direction.NORTH: 1>\n",
      "\t1 <- OBJs: ['HE1']\n",
      "\t2 -- heat_exchanging(12215.0L)\n",
      "HE3 @ (120, 68); d=1; dir_in=<Direction.SOUTH: 2>\n",
      "\t1 -- black_2(350.0L)\n",
      "\t2 <- OBJs: ['HE4']\n",
      "HE4 @ (120, 67); d=2; dir_in=<Direction.NORTH: 1>\n",
      "\t1 <- OBJs: ['HE3']\n",
      "\t2 -- heat_exchanging(12215.0L)\n",
      "T(hot)1 @ (131, 68); d=4; dir_in=<Direction.WEST: 8>\n",
      "\t8 <- scalding(315.0L)\n",
      "\t4 -- warm(2345.0L)\n",
      "T(cold)1 @ (131, 66); d=8; dir_in=<Direction.EAST: 4>\n",
      "\t8 -- cooling(11620.0L)\n",
      "\t4 <- cooled(175.0L)\n",
      "G1 @ (131, 67); d=2; dir_in=<Direction.NORTH: 1>\n",
      "\t1 <- OBJs: ['T(hot)1']\n",
      "\t2 -- OBJs: ['T(cold)1']\n"
     ]
    }
   ],
   "source": [
    "newnodes,newedges=smsmg.gen_graph(stored_objs, pipenetset, True)"
   ]
  }
 ],
 "metadata": {
  "kernelspec": {
   "display_name": ".venv",
   "language": "python",
   "name": "python3"
  },
  "language_info": {
   "codemirror_mode": {
    "name": "ipython",
    "version": 3
   },
   "file_extension": ".py",
   "mimetype": "text/x-python",
   "name": "python",
   "nbconvert_exporter": "python",
   "pygments_lexer": "ipython3",
   "version": "3.10.5"
  }
 },
 "nbformat": 4,
 "nbformat_minor": 2
}
