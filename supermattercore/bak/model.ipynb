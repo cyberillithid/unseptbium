{
 "cells": [
  {
   "cell_type": "code",
   "execution_count": 193,
   "metadata": {},
   "outputs": [
    {
     "data": {
      "text/plain": [
       "<module 'ct.sm' from 'e:\\\\Code\\\\autism\\\\ss13\\\\supermattercore\\\\ct\\\\sm.py'>"
      ]
     },
     "execution_count": 193,
     "metadata": {},
     "output_type": "execute_result"
    }
   ],
   "source": [
    "import ct.sm as sm\n",
    "import cantera as ct\n",
    "import scipy.constants as C\n",
    "import matplotlib.pyplot as plt\n",
    "# import CoolProp.CoolProp as cp\n",
    "import importlib\n",
    "# import sm\n",
    "import numpy as np\n",
    "# import pint\n",
    "importlib.reload(sm)"
   ]
  },
  {
   "cell_type": "code",
   "execution_count": 194,
   "metadata": {},
   "outputs": [],
   "source": [
    "new_he = sm.HeatExchanger(191,0,0)\n",
    "s = ct.Solution('./ct/xgm.yaml')\n",
    "nu_N2 = sm.CANISTER_VOLUME*sm.ENG_CANISTER_PRESSURE/8.314/293\n",
    "cool_V = .77 + 1.47 + 13.37"
   ]
  },
  {
   "cell_type": "code",
   "execution_count": 195,
   "metadata": {},
   "outputs": [
    {
     "data": {
      "text/plain": [
       "15.610868591456823"
      ]
     },
     "execution_count": 195,
     "metadata": {},
     "output_type": "execute_result"
    }
   ],
   "source": [
    "s.TPX = 300, nu_N2*8.314*300/cool_V, 'N2: 1'\n",
    "q = ct.Quantity(s, moles=nu_N2/1e3)\n",
    "q.volume"
   ]
  },
  {
   "cell_type": "code",
   "execution_count": 196,
   "metadata": {},
   "outputs": [
    {
     "data": {
      "text/plain": [
       "8.340183043677058"
      ]
     },
     "execution_count": 196,
     "metadata": {},
     "output_type": "execute_result"
    }
   ],
   "source": [
    "q2 = ct.Quantity(s, moles=2)\n",
    "q2.volume"
   ]
  },
  {
   "cell_type": "code",
   "execution_count": 197,
   "metadata": {},
   "outputs": [
    {
     "data": {
      "text/plain": [
       "23.95105163513388"
      ]
     },
     "execution_count": 197,
     "metadata": {},
     "output_type": "execute_result"
    }
   ],
   "source": [
    "q.constant = q2.constant = 'TV'\n",
    "q3 = q + q2\n",
    "q3.volume"
   ]
  },
  {
   "cell_type": "code",
   "execution_count": 198,
   "metadata": {},
   "outputs": [
    {
     "data": {
      "text/plain": [
       "300.0"
      ]
     },
     "execution_count": 198,
     "metadata": {},
     "output_type": "execute_result"
    }
   ],
   "source": [
    "q.T"
   ]
  },
  {
   "cell_type": "markdown",
   "metadata": {},
   "source": [
    "improved mathmodel soln attempt"
   ]
  },
  {
   "cell_type": "code",
   "execution_count": 199,
   "metadata": {},
   "outputs": [],
   "source": [
    "#constants\n",
    "Vc1 = .67 #cool turbine inp\n",
    "Vc2 = 13.37+1.47+0.77 + 3*.2 # this is wat is cooled/ cool turb out\n",
    "Vh2 = 1.995 + .2 +.7 + 2 # filters / hot turb out\n",
    "Vh1 = .315 + .4 + .2 # hot turb in\n",
    "Vh0 = 37.5 # room\n",
    "\n",
    "N_space = 191\n",
    "\n",
    "R = 8.314\n",
    "cv = 20\n",
    "\n",
    "eta_T = .65 # TEG\n",
    "\n",
    "nu_canister = 3743 # not precise\n",
    "\n",
    "AIR_PCRIT = 3771e3 # Pa\n",
    "AIR_TCRIT = 132.65 # K, \n",
    "AIR_VMOLAR = R * AIR_TCRIT / AIR_PCRIT\n",
    "\n",
    "#parameters\n",
    "Eer = 112\n",
    "N_hot=N_cold=3"
   ]
  },
  {
   "cell_type": "code",
   "execution_count": 200,
   "metadata": {},
   "outputs": [],
   "source": [
    "def est_dTcooled(T: float, n: int, nu: float):\n",
    "    Td = T - 3.15 #-TCMB\n",
    "    Cve = cv*max(Vc1/AIR_VMOLAR, nu)\n",
    "    k1 = 3*n*C.sigma*2/Cve\n",
    "    k2 = n*0.08*200/Cve\n",
    "    return Td*(1 - (k1*Td**3+1)**(-1/3))-k2\n",
    "\n",
    "def est_turbine(Vistar, Pi, Ti, Po):\n",
    "    eta_K, kappa, Vi, fv = .04, .66, .4, .2\n",
    "    eta_V = eta_K/kappa * (1-fv**kappa)\n",
    "    dP = max(Pi-Po-5e3, 0)\n",
    "    if dP == 0: return 0, 0\n",
    "    dnu_max = dP * Vistar / 3 / Ti / R\n",
    "    Ei = min(dP*Vistar, Pi*Vi)\n",
    "    E = Ei * eta_V\n",
    "    nu = min(dnu_max, Pi*Vi/R/Ti)\n",
    "    return nu, Ei\n",
    "\n",
    "def est_S(T, P):\n",
    "    if P==0: return 15e3\n",
    "    c1 = (0.028*cv)**(2/3)*R\n",
    "    return R*(15 + np.log(\n",
    "        1 + c1*T**(2/3)/P\n",
    "    ))\n",
    "\n",
    "def est_pump(Vi, Vo, Nmax, Pi, Ti, Po, To, Vostar):\n",
    "    Pstar = 15e6\n",
    "    dP = Pstar - Po\n",
    "    if dP < 100: return 0,0\n",
    "    nu_in = Pi*Vi/R/Ti\n",
    "    nu_a = dP*Vostar/R/To\n",
    "    Co = cv*Po*Vo/R/To\n",
    "    C1 = cv*nu_a\n",
    "    T1 = (To*Co+Ti*C1)/(Co+C1)\n",
    "    nu_tgt = dP*Vostar/R/T1\n",
    "    nu_all = min(Pi*Vi/R/Ti,nu_tgt)\n",
    "    S_spec = est_S(To,Po) - est_S(Ti,Pi)\n",
    "    N_s = 0\n",
    "    if S_spec < 0:\n",
    "        Ns = -S_spec*To/2.5\n",
    "        nu_all = min(nu_all, Nmax/Ns)\n",
    "    return nu_all, N_s*nu_all"
   ]
  },
  {
   "cell_type": "code",
   "execution_count": 201,
   "metadata": {},
   "outputs": [
    {
     "data": {
      "text/plain": [
       "(0, 0)"
      ]
     },
     "execution_count": 201,
     "metadata": {},
     "output_type": "execute_result"
    }
   ],
   "source": [
    "est_pump(Vh0, .2, 30e3, 102e5,5e3,153e5,5e3,Vh1)"
   ]
  },
  {
   "cell_type": "code",
   "execution_count": 202,
   "metadata": {},
   "outputs": [],
   "source": [
    "def try_soln(x, showE = False):\n",
    "    NTh = Eer * 5.5e3\n",
    "    fh0,fh1,fc1,Tc,Th,Tw = x\n",
    "    \n",
    "    # normalize mass fractions\n",
    "    if fc1>1 or fc1<0: fc1=abs(fc1/(1+fc1**2))\n",
    "    if fh0>1 or fh0<0: fh0=abs(fh0/(1+fh0**2))\n",
    "    if fh1>1 or fh1<0: fh1=abs(fh1/(1+fh1**2))\n",
    "    if (fh0+fh1)>1: fh0=fh1=fh0+fh1/(1+fh0+fh1)/2\n",
    "\n",
    "    nu_h = N_hot*nu_canister\n",
    "    nu_c = N_cold*nu_canister\n",
    "    # nu_h = ((Ph0*Vh0+Ph1*Vh1)/Th+Ph2*Vh2/Tw)/R\n",
    "    nu_h0 = nu_h*fh0\n",
    "    nu_h1 = nu_h*fh1\n",
    "    nu_h2 = nu_h*(1-fh0-fh1)\n",
    "    Ph0 = nu_h0 *R*Th/Vh0\n",
    "    Ph1 = nu_h1 *R*Th/Vh1\n",
    "    Ph2 = nu_h2 *R*Tw/Vh2\n",
    "    # nu_c = nu_c1 + (Pc2*Vc2)/R/Tc\n",
    "    nu_c1 = nu_c*fc1\n",
    "    nu_c2 = nu_c*(1-fc1)\n",
    "    Pc1 = nu_c1 *R*Tc/Vc1\n",
    "    Pc2 = nu_c2 *R*Tc/Vc2\n",
    "    if showE:\n",
    "        print(f'{nu_h0*.028:.3g} kg @{Ph0/1e5:.3g} bar in room, {nu_h1*.028:.3g} kg @{Ph1/1e5:.3g} bar  in scalding, {nu_h2*.028:.3g} kg  @{Ph2/1e5:.3g} bar  in warm')\n",
    "        print(f'{nu_c1*.028:.3g} kg @{Pc1/1e5:.3g} bar in smol, {nu_c2*.028:.3g} kg @{Pc2/1e5:.3g} bar in cooling w/rad')\n",
    "\n",
    "    dT_radiat = est_dTcooled(Tc, N_space, nu_c2)\n",
    "    if showE: print('radiated',dT_radiat,'K')\n",
    "\n",
    "    dnu_h, E1 = est_turbine(Vh1, Ph1, Th, Ph2) # nu T1\n",
    "    dnu_c, E2 = est_turbine(Vc1, Pc1, Tc, Pc2) # nu T2\n",
    "    if showE: \n",
    "        print('T1 pumped',dnu_h,'mole and stored',E1/1e3, 'kJ')\n",
    "        print('T2 pumped',dnu_c,'mole and stored',E2/1e3, 'kJ')\n",
    "    \n",
    "    dnu_HP1, E_HP1 = est_pump(.2, .2,  45e3, Pc2,Tc,Pc1,Tc,Vc1) # HP1\n",
    "    dnu_PI1, E_PI1 = est_pump(Vh0, .2, 30e3, Ph0,Th,Ph1,Th,Vh1) # PI1 -- ?? check\n",
    "    dnu_PO1, E_PO1 = est_pump(.7, Vh0, 45e3, Ph2,Tw,Ph0,Th,Vh0) # PO1\n",
    "    if showE:\n",
    "        print('HP1',dnu_HP1,'PI1',dnu_PI1,'PO1',dnu_PO1)\n",
    "    dT_TEG = Th - Tc\n",
    "    tilde_C = cv * dnu_h * dnu_c / (dnu_h+dnu_c) if (dnu_h+dnu_c)!=0 else 0\n",
    "    dE_TEG = dT_TEG * tilde_C\n",
    "\n",
    "    if showE:\n",
    "        print ('TEG exchd: ', dE_TEG/1e3, 'kJ')\n",
    "        print ('Produced:',(dE_TEG*eta_T + E1 + E2)/1e3,'kW')\n",
    "        print ('Pumps ate:',[E_HP1, E_PI1, E_PO1])\n",
    "\n",
    "\n",
    "    return [\n",
    "        # mass balance  \n",
    "        (dnu_PO1 - dnu_PI1)/nu_h, #fh0 change\n",
    "        (dnu_PI1 - dnu_h)/nu_h, #fh1 change\n",
    "        (dnu_HP1 - dnu_c)/nu_c, # fc1 change\n",
    "        # temp balance   --> Tc, Th, Tw\n",
    "        # (1-eta_T)*NTh/cv/nu_c - dT_radiat, # Tc rough\n",
    "        (1-eta_T)*dE_TEG/cv/nu_c - dT_radiat, # Tc rough\n",
    "        (NTh - dE_TEG)/cv/nu_h, #Th rough \n",
    "        ((Th - Tw)*cv*dnu_h - dE_TEG)/cv/nu_h2, #Tw rough\n",
    "        # heat balance (1)\n",
    "    ]"
   ]
  },
  {
   "cell_type": "code",
   "execution_count": 203,
   "metadata": {},
   "outputs": [],
   "source": [
    "x0 = np.array([0.14,0.143,0.02, 300, 1000, 580])"
   ]
  },
  {
   "cell_type": "code",
   "execution_count": 210,
   "metadata": {},
   "outputs": [
    {
     "name": "stdout",
     "output_type": "stream",
     "text": [
      "152 kg @7.39 bar in room, 60.8 kg @121 bar  in scalding, 102 kg  @34.2 bar  in warm\n",
      "22.9 kg @31.9 bar in smol, 292 kg @16.8 bar in cooling w/rad\n",
      "radiated 0.9600142516257577 K\n",
      "T1 pumped 518.8979425932883 mole and stored 4842.253437342026 kJ\n",
      "T2 pumped 128.46361429542534 mole and stored 1008.5529675585584 kJ\n",
      "HP1 128.46361429543023 PI1 518.897942608967 PO1 518.8979425670375\n",
      "TEG exchd:  616.0000009841368 kJ\n",
      "Produced: 6251.2064055402725 kW\n",
      "Pumps ate: [0.0, 0.0, 0.0]\n",
      "Temps [314.76562669 613.87879798 554.52223186]\n",
      "dmfs [-3.734039072146722e-12, 1.3962655158095812e-12, 4.353490089971938e-16]\n",
      "dTs [-1.2719957309670349e-09, -4.382121427037251e-09, -3.57543161677653e-09]\n"
     ]
    }
   ],
   "source": [
    "for i in range(1000):\n",
    "    dx1 = try_soln(x0)\n",
    "    x0 += np.array(dx1)*.5\n",
    "dx1 = try_soln(x0, True)\n",
    "print('Temps', x0[-3:])\n",
    "print('dmfs', dx1[:3])\n",
    "print('dTs', dx1[-3:])"
   ]
  },
  {
   "cell_type": "code",
   "execution_count": 43,
   "metadata": {},
   "outputs": [],
   "source": [
    "from scipy.optimize import root"
   ]
  },
  {
   "cell_type": "code",
   "execution_count": 95,
   "metadata": {},
   "outputs": [
    {
     "name": "stderr",
     "output_type": "stream",
     "text": [
      "C:\\Users\\emera\\AppData\\Local\\Temp\\ipykernel_3020\\1742409440.py:23: RuntimeWarning: invalid value encountered in scalar power\n",
      "  1 + c1*T**(2/3)/P\n"
     ]
    },
    {
     "data": {
      "text/plain": [
       " message: The iteration is not making good progress, as measured by the \n",
       "            improvement from the last ten iterations.\n",
       " success: False\n",
       "  status: 5\n",
       "     fun: [ 1.460e-01 -1.212e-01  1.248e-07 -1.816e-02 -3.320e+00\n",
       "            0.000e+00]\n",
       "       x: [ 7.164e-01  1.098e-01  7.276e-02  3.162e+02 -1.292e+04\n",
       "           -1.883e+03]\n",
       "  method: hybr\n",
       "    nfev: 24\n",
       "    fjac: [[-5.315e-03 -4.997e-05 ... -9.541e-02  9.954e-01]\n",
       "           [ 3.315e-02  3.093e-03 ... -9.949e-01 -9.518e-02]\n",
       "           ...\n",
       "           [-7.065e-01  7.073e-01 ... -2.080e-02 -5.731e-03]\n",
       "           [ 7.069e-01  7.069e-01 ...  2.516e-02  6.221e-03]]\n",
       "       r: [ 3.038e+01 -2.459e+03 ...  2.553e-06  4.128e-14]\n",
       "     qtf: [ 3.160e-01  3.307e+00  1.736e-02  5.946e-03 -1.199e-01\n",
       "           -6.596e-02]"
      ]
     },
     "execution_count": 95,
     "metadata": {},
     "output_type": "execute_result"
    }
   ],
   "source": [
    "root(try_soln, [.82,.03,.05, 300, 5000, 2800], options={'maxfev': 5000})"
   ]
  },
  {
   "cell_type": "code",
   "execution_count": 47,
   "metadata": {},
   "outputs": [
    {
     "name": "stdout",
     "output_type": "stream",
     "text": [
      "19.3 kg in room, 0.44 kg in scalding, 295 kg in warm\n",
      "296 kg in smol postpump, 18.7 kg in cooling w/rad\n",
      "radiated 1.0032823798073216 K\n",
      "T1 pumped 0.3548161570048222 mole and stored 867.282809625399 kJ\n",
      "T2 pumped 0 mole and stored 0.0 kJ\n",
      "HP1 199.40253028817912 PI1 1.1230135547122386 PO1 0.0\n",
      "Produced: 867.282809625399 kW\n",
      "Pumps ate: [0.0, 0.0, 0.0]\n"
     ]
    },
    {
     "data": {
      "text/plain": [
       "[-199.40253028817912,\n",
       " -0.7681973977074164,\n",
       " 0.3548161570048222,\n",
       " 690259.3518371811,\n",
       " -616000.0,\n",
       " -3686.665166389139]"
      ]
     },
     "execution_count": 47,
     "metadata": {},
     "output_type": "execute_result"
    }
   ],
   "source": [
    "try_soln([1.5e7,1.4e7,2.6e6,4.8e2,9.8e4,7.3e2], True)"
   ]
  },
  {
   "cell_type": "code",
   "execution_count": null,
   "metadata": {},
   "outputs": [],
   "source": []
  },
  {
   "cell_type": "code",
   "execution_count": null,
   "metadata": {},
   "outputs": [],
   "source": []
  }
 ],
 "metadata": {
  "kernelspec": {
   "display_name": ".venv",
   "language": "python",
   "name": "python3"
  },
  "language_info": {
   "codemirror_mode": {
    "name": "ipython",
    "version": 3
   },
   "file_extension": ".py",
   "mimetype": "text/x-python",
   "name": "python",
   "nbconvert_exporter": "python",
   "pygments_lexer": "ipython3",
   "version": "3.10.5"
  }
 },
 "nbformat": 4,
 "nbformat_minor": 2
}
