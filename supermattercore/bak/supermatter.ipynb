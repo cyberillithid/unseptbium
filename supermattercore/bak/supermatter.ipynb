{
 "cells": [
  {
   "cell_type": "code",
   "execution_count": 2,
   "metadata": {},
   "outputs": [],
   "source": [
    "import scipy.constants as C\n",
    "import numpy as np\n",
    "import matplotlib.pyplot as plt\n",
    "from dataclasses import dataclass\n",
    "# import typing_extensions\n",
    "# from typing import Self"
   ]
  },
  {
   "cell_type": "markdown",
   "metadata": {},
   "source": [
    "$pV = \\nu RT$; $\\nu = pV / RT$"
   ]
  },
  {
   "cell_type": "code",
   "execution_count": 3,
   "metadata": {},
   "outputs": [
    {
     "data": {
      "text/plain": [
       "1.2269006705940171e+17"
      ]
     },
     "execution_count": 3,
     "metadata": {},
     "output_type": "execute_result"
    }
   ],
   "source": [
    "5120 * np.pi * C.G**2 / C.c**4 / C.hbar * (1e6)**3 # black hole total evaporation speed\n",
    "C.hbar * C.c**3 / 8 / np.pi / C.G / 1e6 / C.k # black hole temperature"
   ]
  },
  {
   "cell_type": "code",
   "execution_count": 291,
   "metadata": {},
   "outputs": [],
   "source": [
    "Cvs = np.array([20, 20, 200])\n",
    "gases = ['N2', 'O2', 'Exotic']\n",
    "mus = [28, 32, 405]"
   ]
  },
  {
   "cell_type": "code",
   "execution_count": null,
   "metadata": {},
   "outputs": [],
   "source": []
  },
  {
   "cell_type": "code",
   "execution_count": 300,
   "metadata": {},
   "outputs": [],
   "source": [
    "class GasQty:\n",
    "    moles: np.ndarray\n",
    "    T: float\n",
    "    V: float\n",
    "    x: int\n",
    "    @classmethod\n",
    "    def mk_pressure(cls, T: float, V: float = 2.5, p: float = 101325, Xs: list[float] = [0.79, 0.21, 0]):\n",
    "        xs = np.array(Xs)\n",
    "        n = p*V/C.R/T \n",
    "        return GasQty(T, V, 1, n * xs)\n",
    "    def __init__(self, T: float, V: float = 2.5, x = 1, moles: list[float] = [22.4, 0, 0]):\n",
    "        self.T = T\n",
    "        self.V = V\n",
    "        self.x = x\n",
    "        self.moles = np.array(moles)\n",
    "    def split_p(self, frac: float): # -> Self:\n",
    "        \"\"\"keeeping the pressure constants, splits a frac of volume to new obj\"\"\"\n",
    "        mx = self.moles * frac\n",
    "        vx = self.V * frac\n",
    "        self.moles -= mx / self.x \n",
    "        self.V -= vx / self.x \n",
    "        return GasQty(self.T, vx, 1, mx)\n",
    "    @property\n",
    "    def N(self):\n",
    "        \"\"\"Moles total\"\"\"\n",
    "        return self.moles.sum()\n",
    "    @property\n",
    "    def X(self):\n",
    "        \"\"\"Molar fractions\"\"\"\n",
    "        return dict(zip(gases, self.moles / self.N if self.N > 0 else np.zeros_like(self.moles))) \n",
    "    @property\n",
    "    def p(self):\n",
    "        \"\"\"Ideal gas pressure\"\"\"\n",
    "        return self.N * C.R * self.T / self.V\n",
    "    @property\n",
    "    def Cv(self):\n",
    "        \"\"\"Heat capacity of this constant volume, J/K\"\"\"\n",
    "        return Cvs @ self.moles\n",
    "    def merge(self, other):\n",
    "        Q0 = self.Cv * self.T * self.x\n",
    "        Q1 = other.Cv * other.T * other.x\n",
    "        self.moles += other.moles * other.x / self.x\n",
    "        self.T = (Q0 + Q1) / self.Cv\n",
    "        self.V += other.V\n",
    "        other.moles *= 0\n",
    "        other.T = 0\n",
    "        other.V = 0\n",
    "        del other\n",
    "    @property\n",
    "    def epr(self):\n",
    "        return self.N/(self.V/2.5)/self.x/23.1\n",
    "    def __mul__(self, x: int):\n",
    "        return GasQty(self.T, self.V, self.x*x, self.moles)\n",
    "    def __repr__(self) -> str:\n",
    "        return f'GasQty(T={self.T}, V={self.V}, x={self.x}, moles={list(self.moles)})'"
   ]
  },
  {
   "cell_type": "code",
   "execution_count": 301,
   "metadata": {},
   "outputs": [],
   "source": [
    "class SupermatterCore:\n",
    "    gas_eff = 0.25 # 1\n",
    "    decay = 700   # Pa^[2/3]???\n",
    "    reaction = 1.1 # `reaction_power_modified`\n",
    "    k_thermal = 10e3\n",
    "    k_exotic = 15e2\n",
    "    k_o2 = 15e3\n",
    "    k_n2_ret = 0.15 # 1\n",
    "    k_damage = 4.5e-3 # scaled by 1000\n",
    "    T_crit = 5000 # K\n",
    "\n",
    "    damage: float # scaled by 1000 to 0..1 interval; integrity = 1-damage\n",
    "    power: float # EER, MeV / cm3 -- meaningless!\n",
    "\n",
    "    def __init__(self, damage = 0, power = 0):\n",
    "        self.damage = damage\n",
    "        self.power = power\n",
    "\n",
    "    def powerup(self, dmg: float):\n",
    "        self.power += dmg/10.\n",
    "    \n",
    "    def tick_damage(self, N: float, T: float) -> bool:\n",
    "        if N == 0:\n",
    "            self.damage += max((self.power - 15)/10e3, 0)\n",
    "            return True\n",
    "        max_dmg = SupermatterCore.k_damage * self.power/300\n",
    "        techn_dmg = (T - SupermatterCore.T_crit) / 150e3\n",
    "        self.damage = max(0, self.damage + np.clip(techn_dmg, -SupermatterCore.k_damage, max_dmg))\n",
    "        return False\n",
    "\n",
    "    def react(self, o2: float, n2: float, T: float) -> float:\n",
    "        o2_eff = max(o2 - SupermatterCore.k_n2_ret * n2, 0)\n",
    "        P_eq = 250 if o2_eff <= 0.8 else 400 # Target equilibrium power?\n",
    "        fT = T/800 * (P_eq / SupermatterCore.decay)**3\n",
    "        return o2_eff * fT + self.power\n",
    "\n",
    "    def tick(self, air: GasQty) -> GasQty:\n",
    "        if self.damage >= 1:\n",
    "            air.moles = np.array([0, 0, 0]) # exploded\n",
    "            air.T = 0\n",
    "            return air\n",
    "        if self.tick_damage(air.N, air.T):\n",
    "            return air\n",
    "        P = self.react(air.X['O2'], air.X['N2'], air.T)\n",
    "        \n",
    "        E = P * SupermatterCore.reaction # ????\n",
    "        new_Ex = E / SupermatterCore.k_exotic\n",
    "        new_O2 = max((E + air.T - 273.15) / SupermatterCore.k_o2, 0)\n",
    "        \n",
    "        reag = air.split_p(SupermatterCore.gas_eff)\n",
    "        reag.moles += [0, new_O2, new_Ex]\n",
    "        reag.T += E * SupermatterCore.k_thermal / reag.Cv\n",
    "        if reag.T > 10e3: reag.T = 10e3\n",
    "        air.merge(reag)\n",
    "        \n",
    "        self.power = P - (P/SupermatterCore.decay)**3\n",
    "        return air        "
   ]
  },
  {
   "cell_type": "code",
   "execution_count": 308,
   "metadata": {},
   "outputs": [
    {
     "data": {
      "text/plain": [
       "2.1981595192873056"
      ]
     },
     "execution_count": 308,
     "metadata": {},
     "output_type": "execute_result"
    }
   ],
   "source": [
    "(GasQty.mk_pressure(300) * 2).epr"
   ]
  },
  {
   "cell_type": "code",
   "execution_count": null,
   "metadata": {},
   "outputs": [],
   "source": []
  },
  {
   "cell_type": "code",
   "execution_count": 289,
   "metadata": {},
   "outputs": [],
   "source": [
    "core_air = GasQty.mk_pressure(300)*15 #, p=300e3, Xs=[1,0,0])\n",
    "core = SupermatterCore(0,14)\n",
    "ret = []\n",
    "for t in range(2000):\n",
    "    ret.append([t/10., core.power, core_air.N/core_air.x/23.1, core_air.p, core_air.T, core.damage, *(core_air.X.values()), *(core_air.moles)])\n",
    "    core_air = core.tick(core_air)\n",
    "    # core_air.moles[1] = 0\n",
    "ret = np.array(ret)"
   ]
  },
  {
   "cell_type": "code",
   "execution_count": 290,
   "metadata": {},
   "outputs": [
    {
     "data": {
      "image/png": "[encoded data removed]",
      "text/plain": [
       "<Figure size 1296x576 with 6 Axes>"
      ]
     },
     "metadata": {
      "needs_background": "light"
     },
     "output_type": "display_data"
    }
   ],
   "source": [
    "f, ax = plt.subplots(2, 3, figsize=(18, 8))\n",
    "f.suptitle('No O2 scrubbing from closed-room core (starting with standard-conditions atmosphere at 25°C, energized with one emitter shot)')\n",
    "ax[0, 0].plot(ret[:, 0], ret[:, 4])\n",
    "ax[0, 0].set_ylabel('Temperature, K')\n",
    "ax[1, 0].plot(ret[:, 0], ret[:, 3]/101325)\n",
    "ax[1, 0].set_ylabel('Pressure, atm')\n",
    "ax[1, 0].set_xlabel('Time, sec')\n",
    "\n",
    "ax[0, 1].plot(ret[:, 0], ret[:, 1])\n",
    "ax[0, 1].set_ylabel('EER, <<MeV/cm3>>')\n",
    "ax[1, 1].plot(ret[:, 0], ret[:, 2])\n",
    "ax[1, 1].set_ylabel('EPR')\n",
    "ax[1, 1].set_xlabel('Time, sec')\n",
    "\n",
    "ax[0, 2].plot(ret[:, 0], (1 - ret[:, 5])*100)\n",
    "ax[0, 2].set_ylabel('Integrity, %')\n",
    "ax[1, 2].plot(ret[:, 0], ret[:, 7])\n",
    "ax[1, 2].set_ylabel('O2, mole frac')\n",
    "ax[1, 2].set_xlabel('Time, sec')\n",
    "\n",
    "# ax[1, 2].plot(ret[:, 0], np.cumsum(ret[:, 10] * 0.032))\n",
    "# ax[1, 2].set_ylabel('O2, kg scrubbed total')\n",
    "# ax[1, 2].set_xlabel('Time, sec')\n",
    "\n",
    "for k in ax:\n",
    "    for c in k:\n",
    "        c.grid(True)"
   ]
  },
  {
   "cell_type": "code",
   "execution_count": 237,
   "metadata": {},
   "outputs": [],
   "source": [
    "import cantera as ct    "
   ]
  },
  {
   "cell_type": "code",
   "execution_count": 41,
   "metadata": {},
   "outputs": [
    {
     "name": "stdout",
     "output_type": "stream",
     "text": [
      "\n",
      "  gri30:\n",
      "\n",
      "       temperature   300 K\n",
      "          pressure   1e+05 Pa\n",
      "           density   1.1231 kg/m^3\n",
      "  mean mol. weight   28.014 kg/kmol\n",
      "   phase of matter   gas\n",
      "\n",
      "                          1 kg             1 kmol     \n",
      "                     ---------------   ---------------\n",
      "          enthalpy              1971             55215  J\n",
      "   internal energy            -87068       -2.4391e+06  J\n",
      "           entropy            6846.6         1.918e+05  J/K\n",
      "    Gibbs function        -2.052e+06       -5.7485e+07  J\n",
      " heat capacity c_p            1037.9             29075  J/K\n",
      " heat capacity c_v            741.09             20761  J/K\n",
      "\n",
      "                      mass frac. Y      mole frac. X     chem. pot. / RT\n",
      "                     ---------------   ---------------   ---------------\n",
      "                N2                 1                 1           -23.046\n",
      "     [  +52 minor]                 0                 0  \n",
      "\n"
     ]
    }
   ],
   "source": [
    "s = ct.Solution('gri30.yaml')\n",
    "s.TPX = 300, 1e5, 'N2: 1'\n",
    "s()"
   ]
  },
  {
   "cell_type": "code",
   "execution_count": null,
   "metadata": {},
   "outputs": [],
   "source": []
  }
 ],
 "metadata": {
  "kernelspec": {
   "display_name": "ct-env",
   "language": "python",
   "name": "python3"
  },
  "language_info": {
   "codemirror_mode": {
    "name": "ipython",
    "version": 3
   },
   "file_extension": ".py",
   "mimetype": "text/x-python",
   "name": "python",
   "nbconvert_exporter": "python",
   "pygments_lexer": "ipython3",
   "version": "3.9.15"
  }
 },
 "nbformat": 4,
 "nbformat_minor": 2
}
