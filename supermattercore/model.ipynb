{
 "cells": [
  {
   "cell_type": "code",
   "execution_count": 1,
   "metadata": {},
   "outputs": [
    {
     "data": {
      "text/plain": [
       "<module 'ct.sm' from 'e:\\\\Code\\\\autism\\\\ss13\\\\supermattercore\\\\ct\\\\sm.py'>"
      ]
     },
     "execution_count": 1,
     "metadata": {},
     "output_type": "execute_result"
    }
   ],
   "source": [
    "import ct.sm as sm\n",
    "import cantera as ct\n",
    "import scipy.constants as C\n",
    "import matplotlib.pyplot as plt\n",
    "# import CoolProp.CoolProp as cp\n",
    "import importlib\n",
    "# import sm\n",
    "import numpy as np\n",
    "# import pint\n",
    "importlib.reload(sm)"
   ]
  },
  {
   "cell_type": "code",
   "execution_count": 2,
   "metadata": {},
   "outputs": [],
   "source": [
    "new_he = sm.HeatExchanger(191,0,0)\n",
    "s = ct.Solution('./ct/xgm.yaml')\n",
    "nu_N2 = sm.CANISTER_VOLUME*sm.ENG_CANISTER_PRESSURE/8.314/293\n",
    "cool_V = .77 + 1.47 + 13.37"
   ]
  },
  {
   "cell_type": "code",
   "execution_count": 3,
   "metadata": {},
   "outputs": [
    {
     "data": {
      "text/plain": [
       "15.610868591456823"
      ]
     },
     "execution_count": 3,
     "metadata": {},
     "output_type": "execute_result"
    }
   ],
   "source": [
    "s.TPX = 300, nu_N2*8.314*300/cool_V, 'N2: 1'\n",
    "q = ct.Quantity(s, moles=nu_N2/1e3)\n",
    "q.volume"
   ]
  },
  {
   "cell_type": "code",
   "execution_count": 4,
   "metadata": {},
   "outputs": [
    {
     "data": {
      "text/plain": [
       "(15.61, 3743.5314092517165)"
      ]
     },
     "execution_count": 4,
     "metadata": {},
     "output_type": "execute_result"
    }
   ],
   "source": [
    "cool_V, nu_N2"
   ]
  },
  {
   "cell_type": "code",
   "execution_count": 32,
   "metadata": {},
   "outputs": [
    {
     "name": "stdout",
     "output_type": "stream",
     "text": [
      "\n",
      "  xgm:\n",
      "\n",
      "       temperature   300 K\n",
      "          pressure   5.9815e+05 Pa\n",
      "           density   6.7178 kg/m^3\n",
      "  mean mol. weight   28.014 kg/kmol\n",
      "   phase of matter   gas\n",
      "\n",
      "                          1 kg             1 kmol     \n",
      "                     ---------------   ---------------\n",
      "          enthalpy            1869.8             52381  J\n",
      "   internal energy            -87169        -2.442e+06  J\n",
      "           entropy           -520.71            -14587  J/K\n",
      "    Gibbs function        1.5808e+05        4.4286e+06  J\n",
      " heat capacity c_p            1010.7             28314  J/K\n",
      " heat capacity c_v            713.91             20000  J/K\n",
      "\n",
      "                      mass frac. Y      mole frac. X     chem. pot. / RT\n",
      "                     ---------------   ---------------   ---------------\n",
      "                N2                 1                 1            1.7754\n",
      "     [   +3 minor]                 0                 0  \n",
      "\n"
     ]
    }
   ],
   "source": [
    "s()"
   ]
  },
  {
   "cell_type": "code",
   "execution_count": null,
   "metadata": {},
   "outputs": [],
   "source": []
  }
 ],
 "metadata": {
  "kernelspec": {
   "display_name": ".venv",
   "language": "python",
   "name": "python3"
  },
  "language_info": {
   "codemirror_mode": {
    "name": "ipython",
    "version": 3
   },
   "file_extension": ".py",
   "mimetype": "text/x-python",
   "name": "python",
   "nbconvert_exporter": "python",
   "pygments_lexer": "ipython3",
   "version": "3.10.5"
  }
 },
 "nbformat": 4,
 "nbformat_minor": 2
}
