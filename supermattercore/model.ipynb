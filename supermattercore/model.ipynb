{
 "cells": [
  {
   "cell_type": "code",
   "execution_count": 1,
   "metadata": {},
   "outputs": [],
   "source": [
    "%config Application.logging_config = {'loggers': {'ct.sm': {'propagate': True, 'level': 'DEBUG', 'handlers': ['console']}}}"
   ]
  },
  {
   "cell_type": "code",
   "execution_count": 2,
   "metadata": {},
   "outputs": [
    {
     "data": {
      "text/plain": [
       "<module 'ct.sm' from 'e:\\\\Code\\\\autism\\\\ss13\\\\supermattercore\\\\ct\\\\sm.py'>"
      ]
     },
     "execution_count": 2,
     "metadata": {},
     "output_type": "execute_result"
    }
   ],
   "source": [
    "import ct.sm as sm\n",
    "import cantera as ct\n",
    "import scipy.constants as C\n",
    "import matplotlib.pyplot as plt\n",
    "# import CoolProp.CoolProp as cp\n",
    "import importlib\n",
    "# import sm\n",
    "import numpy as np\n",
    "# import pint\n",
    "importlib.reload(sm)"
   ]
  },
  {
   "cell_type": "code",
   "execution_count": 3,
   "metadata": {},
   "outputs": [
    {
     "data": {
      "text/plain": [
       "8.31446261815324"
      ]
     },
     "execution_count": 3,
     "metadata": {},
     "output_type": "execute_result"
    }
   ],
   "source": [
    "ct_R = ct.constants.gas_constant/1e3\n",
    "ct_R"
   ]
  },
  {
   "cell_type": "code",
   "execution_count": 16,
   "metadata": {},
   "outputs": [
    {
     "data": {
      "text/plain": [
       "3743.323118509828"
      ]
     },
     "execution_count": 16,
     "metadata": {},
     "output_type": "execute_result"
    }
   ],
   "source": [
    "s = ct.Solution('./ct/xgm.yaml')\n",
    "ct_R = ct.constants.gas_constant/1e3\n",
    "\n",
    "nu_N2 = sm.CANISTER_VOLUME*sm.ENG_CANISTER_PRESSURE/ct_R/293\n",
    "\"\"\"Amount of substance in a single engine N2 canister.\"\"\"\n",
    "\n",
    "s.TPX = 293, sm.ENG_CANISTER_PRESSURE, 'N2: 1'\n",
    "q = ct.Quantity(s, moles=nu_N2/1e3)\n",
    "assert q.V == sm.CANISTER_VOLUME\n",
    "nu_N2"
   ]
  },
  {
   "cell_type": "code",
   "execution_count": 11,
   "metadata": {},
   "outputs": [
    {
     "name": "stdout",
     "output_type": "stream",
     "text": [
      "\n",
      "  xgm:\n",
      "\n",
      "       temperature   293 K\n",
      "          pressure   9.1192e+06 Pa\n",
      "           density   104.87 kg/m^3\n",
      "  mean mol. weight   28.014 kg/kmol\n",
      "   phase of matter   gas\n",
      "\n",
      "                          1 kg             1 kmol     \n",
      "                     ---------------   ---------------\n",
      "          enthalpy           -5205.2       -1.4582e+05  J\n",
      "   internal energy            -92167        -2.582e+06  J\n",
      "           entropy           -1353.1            -37907  J/K\n",
      "    Gibbs function        3.9126e+05        1.0961e+07  J\n",
      " heat capacity c_p            1010.7             28314  J/K\n",
      " heat capacity c_v            713.91             20000  J/K\n",
      "\n",
      "                      mass frac. Y      mole frac. X     chem. pot. / RT\n",
      "                     ---------------   ---------------   ---------------\n",
      "                N2                 1                 1            4.4993\n",
      "     [   +3 minor]                 0                 0  \n",
      "\n"
     ]
    }
   ],
   "source": [
    "s()"
   ]
  },
  {
   "cell_type": "code",
   "execution_count": 12,
   "metadata": {},
   "outputs": [],
   "source": [
    "p = sm.PipeNet(sm.CANISTER_VOLUME, q)\n",
    "# vOldHot = .2+2.345+.7+37.5+.2+.315+.6+2\n",
    "vNewCold = 1.47 + 13.37 + 0.77 + 3*.2\n",
    "pLoop = sm.PipeNet(vNewCold, None)\n",
    "# 1.96+1.12+7.35+1.19+.4"
   ]
  },
  {
   "cell_type": "code",
   "execution_count": 13,
   "metadata": {},
   "outputs": [
    {
     "data": {
      "text/plain": [
       "(1.2, 1.2, 3.7433231185098275)"
      ]
     },
     "execution_count": 13,
     "metadata": {},
     "output_type": "execute_result"
    }
   ],
   "source": [
    "p.grow(0.2)\n",
    "p.qty.V, p.qty.volume, p.Nu"
   ]
  },
  {
   "cell_type": "code",
   "execution_count": 14,
   "metadata": {},
   "outputs": [],
   "source": [
    "pmp = sm.Pump()\n",
    "he = sm.HeatExchanger(191,0)"
   ]
  },
  {
   "cell_type": "code",
   "execution_count": 15,
   "metadata": {},
   "outputs": [
    {
     "name": "stderr",
     "output_type": "stream",
     "text": [
      "[ct.sm.Pump] Source entropy 155.13 J/mol/K -> Sink entropy 1.5e+05 J/mol/K\n",
      "[ct.sm.Pump] Specific entropy change 1.4984e+05 J/mol/K\n",
      "[ct.sm.Pump] Specific power 0 W/mol\n",
      "[ct.sm.Pump] Transferred 623.887 mols\n",
      "[ct.sm.Pump] Source entropy 156.61 J/mol/K -> Sink entropy 191.45 J/mol/K\n",
      "[ct.sm.Pump] Specific entropy change 34.834 J/mol/K\n",
      "[ct.sm.Pump] Specific power 0 W/mol\n",
      "[ct.sm.Pump] Transferred 519.906 mols\n"
     ]
    },
    {
     "data": {
      "text/plain": [
       "1.7165201551512024"
      ]
     },
     "execution_count": 15,
     "metadata": {},
     "output_type": "execute_result"
    }
   ],
   "source": [
    "%config Application.log_level = 10\n",
    "pmp.process(p, pLoop)\n",
    "pLoop.qty, *_ = he.cool_iter(pLoop.qty)\n",
    "pLoop.qty, *_ = he.cool_iter(pLoop.qty)\n",
    "pmp.process(p, pLoop)\n",
    "pLoop.qty, *_ = he.cool_iter(pLoop.qty)\n",
    "pLoop.qty, *_ = he.cool_iter(pLoop.qty)\n",
    "%config Application.log_level = 30\n",
    "pLoop.P/1e5"
   ]
  },
  {
   "cell_type": "code",
   "execution_count": 141,
   "metadata": {},
   "outputs": [
    {
     "data": {
      "text/plain": [
       "270.01642414383286"
      ]
     },
     "execution_count": 141,
     "metadata": {},
     "output_type": "execute_result"
    }
   ],
   "source": [
    "pLoop.T"
   ]
  },
  {
   "cell_type": "code",
   "execution_count": 120,
   "metadata": {},
   "outputs": [
    {
     "data": {
      "text/plain": [
       "276.6759784424249"
      ]
     },
     "execution_count": 120,
     "metadata": {},
     "output_type": "execute_result"
    }
   ],
   "source": [
    "for i in range(10):\n",
    "    pLoop.qty, *_ = he.cool_iter(pLoop.qty)\n",
    "# q.T,q.P\n",
    "pLoop.T"
   ]
  },
  {
   "cell_type": "code",
   "execution_count": 110,
   "metadata": {},
   "outputs": [
    {
     "data": {
      "text/plain": [
       "354580.5717895382"
      ]
     },
     "execution_count": 110,
     "metadata": {},
     "output_type": "execute_result"
    }
   ],
   "source": [
    "pLoop.P"
   ]
  },
  {
   "cell_type": "code",
   "execution_count": null,
   "metadata": {},
   "outputs": [],
   "source": []
  }
 ],
 "metadata": {
  "kernelspec": {
   "display_name": ".venv",
   "language": "python",
   "name": "python3"
  },
  "language_info": {
   "codemirror_mode": {
    "name": "ipython",
    "version": 3
   },
   "file_extension": ".py",
   "mimetype": "text/x-python",
   "name": "python",
   "nbconvert_exporter": "python",
   "pygments_lexer": "ipython3",
   "version": "3.10.5"
  }
 },
 "nbformat": 4,
 "nbformat_minor": 2
}
