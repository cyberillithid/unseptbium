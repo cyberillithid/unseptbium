{
 "cells": [
  {
   "cell_type": "code",
   "execution_count": 14,
   "metadata": {},
   "outputs": [],
   "source": [
    "%config Application.logging_config = {'loggers': {'ct.sm': {'propagate': True, 'level': 'DEBUG', 'handlers': ['console']}}}"
   ]
  },
  {
   "cell_type": "code",
   "execution_count": 15,
   "metadata": {},
   "outputs": [
    {
     "data": {
      "text/plain": [
       "<module 'ct.sm' from 'g:\\\\Autism\\\\ss13\\\\supermattercore\\\\supermattercore\\\\ct\\\\sm.py'>"
      ]
     },
     "execution_count": 15,
     "metadata": {},
     "output_type": "execute_result"
    }
   ],
   "source": [
    "import ct.sm as sm\n",
    "import cantera as ct\n",
    "import scipy.constants as C\n",
    "import matplotlib.pyplot as plt\n",
    "# import CoolProp.CoolProp as cp\n",
    "import importlib\n",
    "# import sm\n",
    "import numpy as np\n",
    "# import pint\n",
    "importlib.reload(sm)"
   ]
  },
  {
   "cell_type": "code",
   "execution_count": 142,
   "metadata": {},
   "outputs": [
    {
     "data": {
      "text/plain": [
       "8.31446261815324"
      ]
     },
     "execution_count": 142,
     "metadata": {},
     "output_type": "execute_result"
    }
   ],
   "source": [
    "ct_R = ct.constants.gas_constant/1e3\n",
    "ct_R"
   ]
  },
  {
   "cell_type": "code",
   "execution_count": 16,
   "metadata": {},
   "outputs": [],
   "source": [
    "s = ct.Solution('./ct/xgm.yaml')\n",
    "ct_R = ct.constants.gas_constant/1e3\n",
    "\n",
    "nu_N2 = sm.CANISTER_VOLUME*sm.ENG_CANISTER_PRESSURE/ct_R/293\n",
    "\"\"\"Amount of substance in a single engine N2 canister.\"\"\"\n",
    "\n",
    "s.TPX = 293, sm.ENG_CANISTER_PRESSURE, 'N2: 1'\n",
    "q = ct.Quantity(s, moles=nu_N2/1e3)\n",
    "assert q.V == sm.CANISTER_VOLUME"
   ]
  },
  {
   "cell_type": "code",
   "execution_count": 143,
   "metadata": {},
   "outputs": [
    {
     "name": "stdout",
     "output_type": "stream",
     "text": [
      "\n",
      "  xgm:\n",
      "\n",
      "       temperature   270.02 K\n",
      "          pressure   5.1841e+05 Pa\n",
      "           density   6.4688 kg/m^3\n",
      "  mean mol. weight   28.014 kg/kmol\n",
      "   phase of matter   gas\n",
      "\n",
      "                          1 kg             1 kmol     \n",
      "                     ---------------   ---------------\n",
      "          enthalpy            -28435       -7.9657e+05  J\n",
      "   internal energy       -1.0857e+05       -3.0416e+06  J\n",
      "           entropy           -584.67            -16379  J/K\n",
      "    Gibbs function        1.2944e+05         3.626e+06  J\n",
      " heat capacity c_p            1010.7             28314  J/K\n",
      " heat capacity c_v            713.91             20000  J/K\n",
      "\n",
      "                      mass frac. Y      mole frac. X     chem. pot. / RT\n",
      "                     ---------------   ---------------   ---------------\n",
      "                N2                 1                 1            1.6151\n",
      "     [   +3 minor]                 0                 0  \n",
      "\n"
     ]
    }
   ],
   "source": [
    "s()"
   ]
  },
  {
   "cell_type": "code",
   "execution_count": 38,
   "metadata": {},
   "outputs": [],
   "source": [
    "p = sm.PipeNet(sm.CANISTER_VOLUME, q)\n",
    "# vOldHot = .2+2.345+.7+37.5+.2+.315+.6+2\n",
    "vNewCold = 1.47 + 13.37 + 0.77 + 3*.2\n",
    "pLoop = sm.PipeNet(vNewCold, None)\n",
    "# 1.96+1.12+7.35+1.19+.4"
   ]
  },
  {
   "cell_type": "code",
   "execution_count": 39,
   "metadata": {},
   "outputs": [
    {
     "data": {
      "text/plain": [
       "(1.2, 1.2, 3.7433231185098275)"
      ]
     },
     "execution_count": 39,
     "metadata": {},
     "output_type": "execute_result"
    }
   ],
   "source": [
    "p.grow(0.2)\n",
    "p.qty.V, p.qty.volume, p.Nu"
   ]
  },
  {
   "cell_type": "code",
   "execution_count": 40,
   "metadata": {},
   "outputs": [],
   "source": [
    "pmp = sm.Pump()\n",
    "he = sm.HeatExchanger(191,0)"
   ]
  },
  {
   "cell_type": "code",
   "execution_count": 140,
   "metadata": {},
   "outputs": [
    {
     "name": "stderr",
     "output_type": "stream",
     "text": [
      "[ct.sm.Pump] Source entropy 231.83 J/mol/K -> Sink entropy 176.79 J/mol/K\n",
      "[ct.sm.Pump] Specific entropy change -55.042 J/mol/K\n",
      "[ct.sm.Pump] Specific power 14883.4 W/mol\n",
      "[ct.sm.Pump] Transferred 0.059628 mols\n",
      "[ct.sm.Pump] Source entropy 233.35 J/mol/K -> Sink entropy 176.79 J/mol/K\n",
      "[ct.sm.Pump] Specific entropy change -56.555 J/mol/K\n",
      "[ct.sm.Pump] Specific power 15281.7 W/mol\n",
      "[ct.sm.Pump] Transferred 0.04969 mols\n"
     ]
    },
    {
     "data": {
      "text/plain": [
       "5.184057888438605"
      ]
     },
     "execution_count": 140,
     "metadata": {},
     "output_type": "execute_result"
    }
   ],
   "source": [
    "pmp.process(p, pLoop)\n",
    "pLoop.qty, *_ = he.cool_iter(pLoop.qty)\n",
    "pLoop.qty, *_ = he.cool_iter(pLoop.qty)\n",
    "pmp.process(p, pLoop)\n",
    "pLoop.qty, *_ = he.cool_iter(pLoop.qty)\n",
    "pLoop.qty, *_ = he.cool_iter(pLoop.qty)\n",
    "pLoop.P/1e5"
   ]
  },
  {
   "cell_type": "code",
   "execution_count": 141,
   "metadata": {},
   "outputs": [
    {
     "data": {
      "text/plain": [
       "270.01642414383286"
      ]
     },
     "execution_count": 141,
     "metadata": {},
     "output_type": "execute_result"
    }
   ],
   "source": [
    "pLoop.T"
   ]
  },
  {
   "cell_type": "code",
   "execution_count": 120,
   "metadata": {},
   "outputs": [
    {
     "data": {
      "text/plain": [
       "276.6759784424249"
      ]
     },
     "execution_count": 120,
     "metadata": {},
     "output_type": "execute_result"
    }
   ],
   "source": [
    "for i in range(10):\n",
    "    pLoop.qty, *_ = he.cool_iter(pLoop.qty)\n",
    "# q.T,q.P\n",
    "pLoop.T"
   ]
  },
  {
   "cell_type": "code",
   "execution_count": 110,
   "metadata": {},
   "outputs": [
    {
     "data": {
      "text/plain": [
       "354580.5717895382"
      ]
     },
     "execution_count": 110,
     "metadata": {},
     "output_type": "execute_result"
    }
   ],
   "source": [
    "pLoop.P"
   ]
  },
  {
   "cell_type": "code",
   "execution_count": null,
   "metadata": {},
   "outputs": [],
   "source": []
  }
 ],
 "metadata": {
  "kernelspec": {
   "display_name": ".venv",
   "language": "python",
   "name": "python3"
  },
  "language_info": {
   "codemirror_mode": {
    "name": "ipython",
    "version": 3
   },
   "file_extension": ".py",
   "mimetype": "text/x-python",
   "name": "python",
   "nbconvert_exporter": "python",
   "pygments_lexer": "ipython3",
   "version": "3.12.2"
  }
 },
 "nbformat": 4,
 "nbformat_minor": 2
}
