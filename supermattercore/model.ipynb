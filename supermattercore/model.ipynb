{
 "cells": [
  {
   "cell_type": "code",
   "execution_count": 78,
   "metadata": {},
   "outputs": [
    {
     "data": {
      "text/plain": [
       "<module 'ct.sm' from 'e:\\\\Code\\\\autism\\\\ss13\\\\supermattercore\\\\ct\\\\sm.py'>"
      ]
     },
     "execution_count": 78,
     "metadata": {},
     "output_type": "execute_result"
    }
   ],
   "source": [
    "import ct.sm as sm\n",
    "import cantera as ct\n",
    "import scipy.constants as C\n",
    "import matplotlib.pyplot as plt\n",
    "# import CoolProp.CoolProp as cp\n",
    "import importlib\n",
    "# import sm\n",
    "import numpy as np\n",
    "# import pint\n",
    "importlib.reload(sm)"
   ]
  },
  {
   "cell_type": "code",
   "execution_count": 79,
   "metadata": {},
   "outputs": [],
   "source": [
    "s = ct.Solution('./ct/xgm.yaml')\n",
    "ct_R = ct.constants.gas_constant/1e3\n",
    "\n",
    "nu_N2 = sm.CANISTER_VOLUME*sm.ENG_CANISTER_PRESSURE/ct_R/293\n",
    "\"\"\"Amount of substance in a single engine N2 canister.\"\"\"\n",
    "\n",
    "s.TPX = 293, sm.ENG_CANISTER_PRESSURE, 'N2: 1'\n",
    "q = ct.Quantity(s, moles=nu_N2/1e3)\n",
    "assert q.V == sm.CANISTER_VOLUME"
   ]
  },
  {
   "cell_type": "code",
   "execution_count": 80,
   "metadata": {},
   "outputs": [
    {
     "data": {
      "text/plain": [
       "<bound method SpeciesThermo.cp of <cantera.speciesthermo.ConstantCp object at 0x0000018061EB75D0>>"
      ]
     },
     "execution_count": 80,
     "metadata": {},
     "output_type": "execute_result"
    }
   ],
   "source": [
    "s.species(0).thermo.cp"
   ]
  },
  {
   "cell_type": "code",
   "execution_count": 129,
   "metadata": {},
   "outputs": [],
   "source": [
    "p = sm.PipeNet(sm.CANISTER_VOLUME, q)\n",
    "vOldHot = .2+2.345+.7+37.5+.2+.315+.6+2\n",
    "pLoop = sm.PipeNet(vOldHot, None)\n",
    "# 1.96+1.12+7.35+1.19+.4"
   ]
  },
  {
   "cell_type": "code",
   "execution_count": 130,
   "metadata": {},
   "outputs": [
    {
     "data": {
      "text/plain": [
       "(1.2, 1.2, 3.7433231185098275)"
      ]
     },
     "execution_count": 130,
     "metadata": {},
     "output_type": "execute_result"
    }
   ],
   "source": [
    "p.grow(0.2)\n",
    "p.qty.V, p.qty.volume, p.Nu"
   ]
  },
  {
   "cell_type": "code",
   "execution_count": 122,
   "metadata": {},
   "outputs": [],
   "source": [
    "%config Application.logging_config = {'loggers': {'ct': {'propagate': True, 'level': 'DEBUG', 'handlers': ['console']}}}"
   ]
  },
  {
   "cell_type": "code",
   "execution_count": 131,
   "metadata": {},
   "outputs": [],
   "source": [
    "pmp = sm.Pump()"
   ]
  },
  {
   "cell_type": "code",
   "execution_count": 142,
   "metadata": {},
   "outputs": [
    {
     "name": "stderr",
     "output_type": "stream",
     "text": [
      "INFO:ct.sm.Pump:Source entropy 185.23 J/mol/K -> Sink entropy 185.05 J/mol/K\n",
      "INFO:ct.sm.Pump:Specific entropy change -0.17704 J/mol/K\n",
      "INFO:ct.sm.Pump:Specific power 51.874 W/mol\n",
      "INFO:ct.sm.Pump:Transferred 16.2735 mols\n",
      "INFO:ct.sm.Pump:Source entropy 186.74 J/mol/K -> Sink entropy 185.01 J/mol/K\n",
      "INFO:ct.sm.Pump:Specific entropy change -1.7282 J/mol/K\n",
      "INFO:ct.sm.Pump:Specific power 506.356 W/mol\n",
      "INFO:ct.sm.Pump:Transferred 13.5613 mols\n"
     ]
    },
    {
     "data": {
      "text/plain": [
       "2.0415103924263636"
      ]
     },
     "execution_count": 142,
     "metadata": {},
     "output_type": "execute_result"
    }
   ],
   "source": [
    "pmp.process(p, pLoop)\n",
    "pmp.process(p, pLoop)\n",
    "pLoop.P/1e5"
   ]
  },
  {
   "cell_type": "code",
   "execution_count": null,
   "metadata": {},
   "outputs": [],
   "source": []
  }
 ],
 "metadata": {
  "language_info": {
   "name": "python"
  }
 },
 "nbformat": 4,
 "nbformat_minor": 2
}
