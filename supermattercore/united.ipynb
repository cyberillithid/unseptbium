{
 "cells": [
  {
   "cell_type": "code",
   "execution_count": 231,
   "metadata": {},
   "outputs": [],
   "source": [
    "import importlib\n",
    "import logging\n",
    "from IPython.display import display_latex\n",
    "\n",
    "import astropy.units as u\n",
    "import astropy.constants as C\n",
    "from tqdm import tqdm\n",
    "\n",
    "from datetime import datetime, timedelta\n",
    "\n",
    "import units.smm as smu\n",
    "importlib.reload(smu)\n",
    "# logging config\n",
    "smu.PumpLogger.setLevel(logging.DEBUG)\n",
    "smu.SmLogger.setLevel(logging.DEBUG)\n",
    "%config Application.logging_config = {'loggers': {'ct.sm': {'propagate': True, 'level': 'DEBUG', 'handlers': ['console']}}}"
   ]
  },
  {
   "cell_type": "code",
   "execution_count": 232,
   "metadata": {},
   "outputs": [
    {
     "data": {
      "text/latex": [
       "Gas mixture:\n",
       " $T = 293.15 \\; \\mathrm{K}$,  $V = 1000 \\; \\mathrm{\\mathcal{l}}$;\n",
       " $p = 9119.25 \\; \\mathrm{kPa}$,  $\\nu = 3743.42 \\; \\mathrm{mol}$\n",
       "(Mole fractions:\n",
       "N2: 100.00%)"
      ],
      "text/plain": [
       "GasMixture(T=<Quantity 293.15 K>, V=<Quantity 1000. l>, nus={'N2': <Quantity 3743.41692471 mol>})"
      ]
     },
     "execution_count": 232,
     "metadata": {},
     "output_type": "execute_result"
    }
   ],
   "source": [
    "canist_ref = smu.GasMixture.pure('N2', 293.15*u.K, 1000*u.L, 90*smu.atm)\n",
    "canist_ref"
   ]
  },
  {
   "cell_type": "code",
   "execution_count": 275,
   "metadata": {},
   "outputs": [],
   "source": [
    "class SmModel:\n",
    "    he_i = None\n",
    "    teg_pwr = 0*u.J\n",
    "    def __init__(self):\n",
    "        self.core_room = smu.GasMixture(smu.T_MINIMAL, 15*smu.CELL_VOLUME, {})\n",
    "        self.core_room._gr = 15\n",
    "        self.smcore = smu.Supermatter(self.core_room) #\n",
    "        # pipe networks with pipelines as base\n",
    "        self.cooled   = smu.PipeNetwork({'cooled':   smu.GasMixture(0*u.K, 70*u.L)})\n",
    "        self.cooling  = smu.PipeNetwork({'cooling':  smu.GasMixture(0*u.K, 15680*u.L)})\n",
    "        self.warm     = smu.PipeNetwork({'warm':     smu.GasMixture(0*u.K, 1890*u.L)})\n",
    "        self.warm.add('filter1', 1*u.m**3)\n",
    "        self.warm.add('filter2', 1*u.m**3)\n",
    "        self.warm.add('nopump', .2*u.m**3) # empty for waste or whatever\n",
    "        self.scalding = smu.PipeNetwork({'scalding': smu.GasMixture(0*u.K, 315*u.L)})\n",
    "        # connectors\n",
    "        self.c_hot =  smu.PipeNetwork({'':canist_ref*1})\n",
    "        self.c_cold = smu.PipeNetwork({'':canist_ref*1})\n",
    "        # pumps\n",
    "        self.po1 = smu.OutletInjector('PO1', P_max=30*u.kW, target_V=700*u.L) # Outlet Injector\n",
    "        self.pi1 = smu.VentPump('PI1', V_out=700*u.L, ex_P = 100*u.kPa) # , V_in=0*u.L, V_out=0.2*u.m**3) # Vent Pump\n",
    "        self.hp1 = smu.Pump('HP1', P_max=45*u.kW)\n",
    "        self.pc_hot =  smu.Pump('P[C]hot') # C2-P2 on pic\n",
    "        self.pc_cold = smu.Pump('P[C]cold') # C5-P6 on pic\n",
    "        # TEG and HE\n",
    "        self.t_hot =  smu.Turbine('T(hot)1')\n",
    "        self.t_cold = smu.Turbine('T(cold)2')\n",
    "        self.teg = smu.TEG(self.t_hot, self.t_cold)\n",
    "        self.he = smu.HeatExchanger(191)\n",
    "        # -- connecting devices --\n",
    "        self.pc_hot.connect( self.c_hot,     self.warm)\n",
    "        self.pc_cold.connect(self.c_cold,    self.cooling)\n",
    "        self.hp1.connect(    self.cooling,   self.cooled)\n",
    "        self.pi1.connect(    self.core_room, self.scalding)\n",
    "        self.po1.connect(    self.warm,      self.core_room)\n",
    "        self.t_hot.connect(  self.scalding,  self.warm)\n",
    "        self.t_cold.connect( self.cooled,    self.cooling)\n",
    "\n",
    "    def energize_core(self, n_pulses: int):\n",
    "        self.smcore.eer = smu.POWERED_EMITTER_DMG*n_pulses/smu.SM_EER_EMIT\n",
    "\n",
    "    def pump_cold(self):\n",
    "        if self.he_i is None: self.he_i = 0\n",
    "        if self.he_i > 1: \n",
    "            self.he.cool(self.cooling.gases['cooling'])\n",
    "        [x.equalize() for x in [self.c_cold, self.cooling]]\n",
    "        self.pc_cold.pump()\n",
    "        pass\n",
    "        self.he_i += 1\n",
    "\n",
    "    def pump_hot_teg(self):\n",
    "        pwr_lost = [x.pump() for x in [self.pc_hot, self.pi1, self.po1]]\n",
    "        self.teg_pwr = self.teg.process()\n",
    "        [x.equalize() for x in [self.c_hot, self.warm, self.scalding]]\n",
    "\n",
    "    def full_tick(self):\n",
    "        self.pump_cold()\n",
    "        self.hp1.pump()\n",
    "        self.pump_hot_teg()\n",
    "        self.smcore.process()\n",
    "        [x.equalize() for x in [self.c_hot, self.warm, self.scalding, self.c_cold, self.cooling, self.cooled]]\n",
    "        self.core_room.react()\n",
    "\n",
    "    @property\n",
    "    def reftime(self):\n",
    "        # t0 = time(0,0,0)\n",
    "        if self.he_i is None: return timedelta(seconds=0)\n",
    "        dt = timedelta(seconds=self.he_i*2)\n",
    "        return (dt)\n",
    "\n",
    "    def _repr_latex_(self) -> str:\n",
    "        return '\\n\\n'.join([\n",
    "            f'Ticks spent: {self.he_i} ; server time: {self.reftime}; ',\n",
    "            'Last power: ' + (self.teg_pwr/u.s).to(u.kW).round(2)._repr_latex_(),\n",
    "            self.smcore._repr_latex_(),\n",
    "            # 'C[hot]: '  + self.c_hot._repr_latex_()[25:],\n",
    "            # 'C[cold]: ' + self.c_cold._repr_latex_()[25:],\n",
    "            'scalding: '+ self.scalding._repr_latex_()[25:],\n",
    "            'warm: ' +    self.warm._repr_latex_()[25:],\n",
    "            'cooling: ' + self.cooling._repr_latex_()[25:],\n",
    "            'cooled: ' +  self.cooled._repr_latex_()[25:],\n",
    "        ])\n"
   ]
  },
  {
   "cell_type": "code",
   "execution_count": 276,
   "metadata": {},
   "outputs": [],
   "source": [
    "m = SmModel()"
   ]
  },
  {
   "cell_type": "code",
   "execution_count": 277,
   "metadata": {},
   "outputs": [
    {
     "name": "stderr",
     "output_type": "stream",
     "text": [
      "[ct.sm.Pump] P[C]cold: Source entropy 155.129 J / (K mol) -> Sink entropy 150000 J / (K mol)\n",
      "[ct.sm.Pump] P[C]cold: Specific entropy change 149845 J / (K mol)\n",
      "[ct.sm.Pump] P[C]cold: Specific power 0 J / mol\n",
      "[ct.sm.Pump] P[C]cold: Transferred 623.903 mol in fact\n",
      "[ct.sm.Pump] P[C]cold: Sink stat = 0 K, 0 mol, 0 kPa\n",
      "[ct.sm.Pump] P[C]cold Merged-sink stat: 293.15 K, 623.9 mol, 7599.37 kPa\n",
      "[ct.sm.Pump] P[C]cold: Source entropy 156.608 J / (K mol) -> Sink entropy 191.475 J / (K mol)\n",
      "[ct.sm.Pump] P[C]cold: Specific entropy change 34.8669 J / (K mol)\n",
      "[ct.sm.Pump] P[C]cold: Specific power 0 J / mol\n",
      "[ct.sm.Pump] P[C]cold: Transferred 519.919 mol in fact\n",
      "[ct.sm.Pump] P[C]cold: Sink stat = 293.15 K, 7.66465 mol, 93.3584 kPa\n",
      "[ct.sm.Pump] P[C]cold Merged-sink stat: 293.15 K, 527.6 mol, 6426.17 kPa\n",
      "[ct.sm] last -9.18464423578679 J; Per 191 pipes 293.15 K -> 293.00 K (0.1461 K loss)\n",
      "[ct.sm.Pump] P[C]cold: Source entropy 158.094 J / (K mol) -> Sink entropy 186.441 J / (K mol)\n",
      "[ct.sm.Pump] P[C]cold: Specific entropy change 28.3474 J / (K mol)\n",
      "[ct.sm.Pump] P[C]cold: Specific power 0 J / mol\n",
      "[ct.sm.Pump] P[C]cold: Transferred 433.266 mol in fact\n",
      "[ct.sm.Pump] P[C]cold: Sink stat = 293.07 K, 14.0519 mol, 171.112 kPa\n",
      "[ct.sm.Pump] P[C]cold Merged-sink stat: 293.0732 K, 447.3 mol, 5447.07 kPa\n",
      "[ct.sm] last -16.820567877876698 J; Per 191 pipes 293.07 K -> 292.93 K (0.146 K loss)\n",
      "[ct.sm.Pump] P[C]cold: Source entropy 159.584 J / (K mol) -> Sink entropy 183.775 J / (K mol)\n",
      "[ct.sm.Pump] P[C]cold: Specific entropy change 24.1907 J / (K mol)\n",
      "[ct.sm.Pump] P[C]cold: Specific power 0 J / mol\n",
      "[ct.sm.Pump] P[C]cold: Transferred 361.055 mol in fact\n",
      "[ct.sm.Pump] P[C]cold: Sink stat = 292.97 K, 19.3745 mol, 235.845 kPa\n",
      "[ct.sm.Pump] P[C]cold Merged-sink stat: 292.9713 K, 380.4 mol, 4630.95 kPa\n",
      "[ct.sm] last -23.159158125431965 J; Per 191 pipes 292.97 K -> 292.83 K (0.1458 K loss)\n",
      "[ct.sm.Pump] P[C]cold: Source entropy 161.078 J / (K mol) -> Sink entropy 182.064 J / (K mol)\n",
      "[ct.sm.Pump] P[C]cold: Specific entropy change 20.9858 J / (K mol)\n",
      "[ct.sm.Pump] P[C]cold: Specific power 0 J / mol\n",
      "[ct.sm.Pump] P[C]cold: Transferred 300.879 mol in fact\n",
      "[ct.sm.Pump] P[C]cold: Sink stat = 292.86 K, 23.8101 mol, 289.726 kPa\n",
      "[ct.sm.Pump] P[C]cold Merged-sink stat: 292.857 K, 324.7 mol, 3950.89 kPa\n"
     ]
    }
   ],
   "source": [
    "%config Application.log_level = 10\n",
    "for _ in range(5):\n",
    "    m.pump_cold()\n",
    "%config Application.log_level = 30"
   ]
  },
  {
   "cell_type": "code",
   "execution_count": 236,
   "metadata": {},
   "outputs": [
    {
     "data": {
      "text/latex": [
       "Supermatter Core: temp $293.15 \\; \\mathrm{K}$, pres $236.1 \\; \\mathrm{kPa}$, $0 \\; \\mathrm{EER}$, EPR $0.7 \\; \\mathrm{}$, N2: 100.00%"
      ]
     },
     "metadata": {},
     "output_type": "display_data"
    },
    {
     "data": {
      "text/latex": [
       "Supermatter Core: temp $293.15 \\; \\mathrm{K}$, pres $460.32 \\; \\mathrm{kPa}$, $0 \\; \\mathrm{EER}$, EPR $1.36 \\; \\mathrm{}$, N2: 100.00%"
      ]
     },
     "metadata": {},
     "output_type": "display_data"
    },
    {
     "data": {
      "text/latex": [
       "Supermatter Core: temp $293.15 \\; \\mathrm{K}$, pres $673.18 \\; \\mathrm{kPa}$, $0 \\; \\mathrm{EER}$, EPR $1.99 \\; \\mathrm{}$, N2: 100.00%"
      ]
     },
     "metadata": {},
     "output_type": "display_data"
    }
   ],
   "source": [
    "for i in range(3):\n",
    "    for _ in range(60):\n",
    "        m.pump_cold()\n",
    "        m.pump_hot_teg()\n",
    "    #reload canister twice\n",
    "    if i < 2:\n",
    "        m.c_hot.gases['']  = canist_ref*1\n",
    "        m.c_cold.gases[''] = canist_ref*1\n",
    "    # print('Cooling [HE]')\n",
    "    # display_latex(m.cooling.gases['cooling'].p.to(u.kPa).round(2))\n",
    "    # print('Warm')\n",
    "    # display_latex(m.warm.gases['warm'].p.to(u.kPa).round(2))\n",
    "    # print('Core room')\n",
    "    display_latex(m.smcore)"
   ]
  },
  {
   "cell_type": "code",
   "execution_count": 266,
   "metadata": {},
   "outputs": [
    {
     "data": {
      "text/latex": [
       "Supermatter Core: temp $3343.13 \\; \\mathrm{K}$, pres $6978.35 \\; \\mathrm{kPa}$, $113.78 \\; \\mathrm{EER}$, EPR $1.81 \\; \\mathrm{}$, O2: 0.39%, N2: 99.61%, Ex*: 0.00%"
      ],
      "text/plain": [
       "Supermatter(room=GasMixture(T=<Quantity 3343.12883709 K>, V=<Quantity 37500. l>, nus={'O2': <Quantity 36.9924316 mol>, 'N2': <Quantity 9382.54697178 mol>, 'Ex*': <Quantity 0. mol>}), eer=<Quantity 113.776 EER>)"
      ]
     },
     "execution_count": 266,
     "metadata": {},
     "output_type": "execute_result"
    }
   ],
   "source": [
    "m.energize_core(8)\n",
    "m.smcore"
   ]
  },
  {
   "cell_type": "code",
   "execution_count": 273,
   "metadata": {},
   "outputs": [
    {
     "name": "stderr",
     "output_type": "stream",
     "text": [
      "100%|██████████| 60/60 [00:32<00:00,  1.84it/s]\n"
     ]
    }
   ],
   "source": [
    "T0 = m.smcore.room.T * 1\n",
    "for i in tqdm(range(60)):\n",
    "    m.full_tick()"
   ]
  },
  {
   "cell_type": "code",
   "execution_count": 274,
   "metadata": {},
   "outputs": [
    {
     "data": {
      "text/latex": [
       "Ticks spent: 1747 ; server time: 0:58:14; \n",
       "\n",
       "Last power: $957.68 \\; \\mathrm{kW}$\n",
       "\n",
       "Supermatter Core: temp $3375.51 \\; \\mathrm{K}$, pres $7052.73 \\; \\mathrm{kPa}$, $107.56 \\; \\mathrm{EER}$, EPR $1.81 \\; \\mathrm{}$, O2: 0.50%, N2: 99.50%, Ex*: 0.00%\n",
       "\n",
       "scalding:  {scalding $(V=315 \\; \\mathrm{\\mathcal{l}}$ ) , PI1 $(V=700 \\; \\mathrm{\\mathcal{l}}$ ) , T(hot)1 $(V=400 \\; \\mathrm{\\mathcal{l}}$ ) }, total volume $1415 \\; \\mathrm{\\mathcal{l}}$;\n",
       "- first member props: \n",
       " $T = 3373.81 \\; \\mathrm{K}$,  $V = 315 \\; \\mathrm{\\mathcal{l}}$;\n",
       " $p = 5943.76 \\; \\mathrm{kPa}$,  $\\nu = 66.78 \\; \\mathrm{mol}$\n",
       "(Mole fractions:\n",
       "O2: 0.49%, N2: 99.51%, Ex*: 0.00%)\n",
       "\n",
       "warm:  {warm $(V=1890 \\; \\mathrm{\\mathcal{l}}$ ) , filter1 $(V=1000 \\; \\mathrm{\\mathcal{l}}$ ) , filter2 $(V=1000 \\; \\mathrm{\\mathcal{l}}$ ) , nopump $(V=200 \\; \\mathrm{\\mathcal{l}}$ ) , P[C]hot $(V=200 \\; \\mathrm{\\mathcal{l}}$ ) , PO1 $(V=700 \\; \\mathrm{\\mathcal{l}}$ ) , T(hot)1 $(V=200 \\; \\mathrm{\\mathcal{l}}$ ) }, total volume $5190 \\; \\mathrm{\\mathcal{l}}$;\n",
       "- first member props: \n",
       " $T = 1548.86 \\; \\mathrm{K}$,  $V = 1890 \\; \\mathrm{\\mathcal{l}}$;\n",
       " $p = 3861.42 \\; \\mathrm{kPa}$,  $\\nu = 567.02 \\; \\mathrm{mol}$\n",
       "(Mole fractions:\n",
       "O2: 0.45%, N2: 99.55%, Ex*: 0.00%)\n",
       "\n",
       "cooling:  {cooling $(V=15680 \\; \\mathrm{\\mathcal{l}}$ ) , P[C]cold $(V=200 \\; \\mathrm{\\mathcal{l}}$ ) , HP1 $(V=200 \\; \\mathrm{\\mathcal{l}}$ ) , T(cold)2 $(V=200 \\; \\mathrm{\\mathcal{l}}$ ) }, total volume $16280 \\; \\mathrm{\\mathcal{l}}$;\n",
       "- first member props: \n",
       " $T = 573.31 \\; \\mathrm{K}$,  $V = 15680 \\; \\mathrm{\\mathcal{l}}$;\n",
       " $p = 3101.64 \\; \\mathrm{kPa}$,  $\\nu = 10208.05 \\; \\mathrm{mol}$\n",
       "(Mole fractions:\n",
       "N2: 100.00%)\n",
       "\n",
       "cooled:  {cooled $(V=70 \\; \\mathrm{\\mathcal{l}}$ ) , HP1 $(V=200 \\; \\mathrm{\\mathcal{l}}$ ) , T(cold)2 $(V=400 \\; \\mathrm{\\mathcal{l}}$ ) }, total volume $670 \\; \\mathrm{\\mathcal{l}}$;\n",
       "- first member props: \n",
       " $T = 570.74 \\; \\mathrm{K}$,  $V = 70 \\; \\mathrm{\\mathcal{l}}$;\n",
       " $p = 4469.62 \\; \\mathrm{kPa}$,  $\\nu = 65.97 \\; \\mathrm{mol}$\n",
       "(Mole fractions:\n",
       "N2: 100.00%)\n",
       "\n",
       "Room :Gas mixture:\n",
       " $T = 3375.51 \\; \\mathrm{K}$,  $V = 37500 \\; \\mathrm{\\mathcal{l}}$;\n",
       " $p = 7052.73 \\; \\mathrm{kPa}$,  $\\nu = 9428.62 \\; \\mathrm{mol}$\n",
       "(Mole fractions:\n",
       "O2: 0.50%, N2: 99.50%, Ex*: 0.00%)"
      ]
     },
     "metadata": {},
     "output_type": "display_data"
    }
   ],
   "source": [
    "display_latex(m._repr_latex_() + '\\n\\nRoom :' + m.core_room._repr_latex_(), raw=True)"
   ]
  },
  {
   "cell_type": "code",
   "execution_count": 153,
   "metadata": {},
   "outputs": [
    {
     "name": "stderr",
     "output_type": "stream",
     "text": [
      "100%|██████████| 500/500 [04:10<00:00,  1.99it/s]\n"
     ]
    }
   ],
   "source": [
    "T0 = m.smcore.room.T * 1\n",
    "for i in tqdm(range(500)):\n",
    "    m.full_tick()\n",
    "    if i % 50 == 0:\n",
    "        if m.smcore.room.T < T0:\n",
    "            print('stable-ish?')\n",
    "            break\n",
    "        T0 = m.smcore.room.T * 1"
   ]
  },
  {
   "cell_type": "code",
   "execution_count": 167,
   "metadata": {},
   "outputs": [
    {
     "name": "stdout",
     "output_type": "stream",
     "text": [
      "0:22:40\n"
     ]
    }
   ],
   "source": [
    "print(timedelta(seconds=m.he_i*2))"
   ]
  },
  {
   "cell_type": "code",
   "execution_count": 154,
   "metadata": {},
   "outputs": [
    {
     "data": {
      "text/latex": [
       "Supermatter Core: temp $2251.35 \\; \\mathrm{K}$, pres $4706.11 \\; \\mathrm{kPa}$, $111.69 \\; \\mathrm{EER}$, EPR $1.81 \\; \\mathrm{}$"
      ],
      "text/plain": [
       "Supermatter(room=GasMixture(T=<Quantity 2251.35232729 K>, V=<Quantity 37500. l>, nus={'O2': <Quantity 2.77555756e-17 mol>, 'N2': <Quantity 9421.96387231 mol>, 'Ex*': <Quantity 11.00567041 mol>}), eer=<Quantity 111.68782855 EER>)"
      ]
     },
     "execution_count": 154,
     "metadata": {},
     "output_type": "execute_result"
    }
   ],
   "source": [
    "m.smcore"
   ]
  },
  {
   "cell_type": "markdown",
   "metadata": {},
   "source": [
    "probably worth it to make a parser of neb debug logs to match with own debug logs\n",
    "\n",
    "current error for cold loop on its own is sub 1e-6. probably good enough."
   ]
  },
  {
   "cell_type": "markdown",
   "metadata": {},
   "source": [
    "together pumps"
   ]
  },
  {
   "cell_type": "code",
   "execution_count": 170,
   "metadata": {},
   "outputs": [
    {
     "data": {
      "text/latex": [
       "$293.15 \\; \\mathrm{K}$"
      ],
      "text/plain": [
       "<Quantity 293.15 K>"
      ]
     },
     "execution_count": 170,
     "metadata": {},
     "output_type": "execute_result"
    }
   ],
   "source": [
    "m.core_room.T"
   ]
  },
  {
   "cell_type": "code",
   "execution_count": 45,
   "metadata": {},
   "outputs": [],
   "source": []
  },
  {
   "cell_type": "code",
   "execution_count": 56,
   "metadata": {},
   "outputs": [
    {
     "name": "stdout",
     "output_type": "stream",
     "text": [
      "Core dT -0.15667315126302128 K\n",
      "Canisters: 0.112 kPa hot, 0.104 kPa cold\n",
      "Core: 99.696 EER, 2650.89 K, 6025.85 kPa\n",
      "warm 3638.273988585842 kPa 1431.3612617585973 K \n",
      "cooling 3025.6115073830306 kPa 559.3343982114376 K \n",
      "scalding 5418.442898313371 kPa 2647.7938893836035 K\n",
      "4393.945905589115 kPa\n"
     ]
    }
   ],
   "source": [
    "for _ in range(15):\n",
    "    ([x.pump() for x in [pc_hot, pc_cold, po1, pi1, hp1]])\n",
    "    (teg.process())\n",
    "    smcore.process()\n",
    "    if i>1 : he.cool(cooling.gases['cooling'])\n",
    "    [x.equalize() for x in [chot,  warm, scalding, ccold, cooling, cooled]]\n",
    "    if cT0 is not None:\n",
    "        print('Core dT', (core_room.T - cT0))\n",
    "        cT0 = None\n",
    "    (pc_cold.pump())\n",
    "\n",
    "print(f'Canisters: {pc_hot.inlet.gases[\"\"].p.to(u.kPa):.3g} hot, {pc_cold.inlet.gases[\"\"].p.to(u.kPa):.3g} cold')\n",
    "print(f'Core: {smcore.eer:.3f}, {core_room.T:.2f}, {core_room.p.to(u.kPa):.2f}')\n",
    "print('warm',    warm.gases['warm'].p.to(u.kPa), warm.gases['warm'].T,       '')\n",
    "print('cooling', cooling.gases['cooling'].p.to(u.kPa), cooling.gases['cooling'].T, '')\n",
    "print('scalding',scalding.gases['scalding'].p.to(u.kPa), scalding.gases['scalding'].T)\n",
    "print(cooled.gases['cooled'].p.to(u.kPa))\n",
    "cT0 = core_room.T"
   ]
  },
  {
   "cell_type": "code",
   "execution_count": 57,
   "metadata": {},
   "outputs": [
    {
     "data": {
      "text/plain": [
       "{'O2': <Quantity 0.05351593>,\n",
       " 'Ph': <Quantity 0.02564187>,\n",
       " 'N2': <Quantity 0.9208422>}"
      ]
     },
     "execution_count": 57,
     "metadata": {},
     "output_type": "execute_result"
    }
   ],
   "source": [
    "{k: v/core_room.Nu for k,v in core_room.nus.items()}"
   ]
  },
  {
   "cell_type": "code",
   "execution_count": 73,
   "metadata": {},
   "outputs": [
    {
     "data": {
      "text/latex": [
       "$5.870051 \\; \\mathrm{MPa}$"
      ],
      "text/plain": [
       "<Quantity 5.87005104 MPa>"
      ]
     },
     "execution_count": 73,
     "metadata": {},
     "output_type": "execute_result"
    }
   ],
   "source": [
    "testn = 10000*u.mol\n",
    "test = smu.GasMixture(2650*u.K, (37.5*u.m**3).to(u.L), {\n",
    "    'O2': 0.053  * testn,\n",
    "    'Ex*': 0.0256* testn,\n",
    "    'N2': 0.921  * testn\n",
    "})\n",
    "test.p.to(u.MPa)"
   ]
  },
  {
   "cell_type": "code",
   "execution_count": 119,
   "metadata": {},
   "outputs": [
    {
     "data": {
      "text/plain": [
       "GasMixture(T=<Quantity 4668.64044463 K>, V=<Quantity 37500. l>, nus={'O2': <Quantity 146. mol>, 'Ex*': <Quantity 0. mol>, 'N2': <Quantity 9210. mol>})"
      ]
     },
     "execution_count": 119,
     "metadata": {},
     "output_type": "execute_result"
    }
   ],
   "source": [
    "test.react()\n",
    "test"
   ]
  },
  {
   "cell_type": "code",
   "execution_count": 75,
   "metadata": {},
   "outputs": [
    {
     "data": {
      "text/latex": [
       "$6.1190789 \\; \\mathrm{MPa}$"
      ],
      "text/plain": [
       "<Quantity 6.11907894 MPa>"
      ]
     },
     "execution_count": 75,
     "metadata": {},
     "output_type": "execute_result"
    }
   ],
   "source": [
    "test.p.to(u.MPa)"
   ]
  },
  {
   "cell_type": "code",
   "execution_count": 120,
   "metadata": {},
   "outputs": [
    {
     "data": {
      "text/plain": [
       "{'O2': <Quantity 0.01560496>,\n",
       " 'Ex*': <Quantity 0.>,\n",
       " 'N2': <Quantity 0.98439504>}"
      ]
     },
     "execution_count": 120,
     "metadata": {},
     "output_type": "execute_result"
    }
   ],
   "source": [
    "{k: v/test.Nu for k,v in test.nus.items()}"
   ]
  },
  {
   "cell_type": "code",
   "execution_count": null,
   "metadata": {},
   "outputs": [],
   "source": []
  }
 ],
 "metadata": {
  "kernelspec": {
   "display_name": ".venv",
   "language": "python",
   "name": "python3"
  },
  "language_info": {
   "codemirror_mode": {
    "name": "ipython",
    "version": 3
   },
   "file_extension": ".py",
   "mimetype": "text/x-python",
   "name": "python",
   "nbconvert_exporter": "python",
   "pygments_lexer": "ipython3",
   "version": "3.10.5"
  }
 },
 "nbformat": 4,
 "nbformat_minor": 2
}
