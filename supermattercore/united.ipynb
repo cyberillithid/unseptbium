{
 "cells": [
  {
   "cell_type": "code",
   "execution_count": 18,
   "metadata": {},
   "outputs": [
    {
     "data": {
      "text/plain": [
       "<module 'units.smm' from 'e:\\\\Code\\\\autism\\\\ss13\\\\supermattercore\\\\units\\\\smm.py'>"
      ]
     },
     "execution_count": 18,
     "metadata": {},
     "output_type": "execute_result"
    }
   ],
   "source": [
    "import astropy.units as u\n",
    "import astropy.constants as C\n",
    "import importlib\n",
    "import units.smm as smu\n",
    "import logging\n",
    "importlib.reload(smu)"
   ]
  },
  {
   "cell_type": "code",
   "execution_count": 19,
   "metadata": {},
   "outputs": [],
   "source": [
    "smu.PumpLogger.setLevel(logging.DEBUG)\n",
    "%config Application.logging_config = {'loggers': {'ct.sm': {'propagate': True, 'level': 'DEBUG', 'handlers': ['console']}}}"
   ]
  },
  {
   "cell_type": "code",
   "execution_count": 20,
   "metadata": {},
   "outputs": [],
   "source": [
    "core_room = smu.GasMixture(smu.T_MINIMAL, 15*smu.CELL_VOLUME, {})\n",
    "smcore = smu.Supermatter(core_room, smu.POWERED_EMITTER_DMG*8 / smu.SM_EER_EMIT)"
   ]
  },
  {
   "cell_type": "code",
   "execution_count": 21,
   "metadata": {},
   "outputs": [
    {
     "data": {
      "text/plain": [
       "GasMixture(T=<Quantity 293.15 K>, V=<Quantity 1000. l>, nus={'N2': <Quantity 3743.41692471 mol>})"
      ]
     },
     "execution_count": 21,
     "metadata": {},
     "output_type": "execute_result"
    }
   ],
   "source": [
    "canist_ref = smu.GasMixture.pure('N2', 293.15*u.K, 1000*u.L, 90*smu.atm)\n",
    "canist_ref"
   ]
  },
  {
   "cell_type": "code",
   "execution_count": 22,
   "metadata": {},
   "outputs": [],
   "source": [
    "cooled   = smu.PipeNetwork({'cooled': smu.GasMixture(smu.T_MINIMAL, 70*u.L)})\n",
    "cooling  = smu.PipeNetwork({'cooling': smu.GasMixture(smu.T_MINIMAL, 15680*u.L)})\n",
    "warm     = smu.PipeNetwork({'warm': smu.GasMixture(smu.T_MINIMAL, 1890*u.L)})\n",
    "scalding = smu.PipeNetwork({'scalding': smu.GasMixture(smu.T_MINIMAL, 315*u.L)})\n",
    "# core_    = smu.PipeNetwork({'room': core_room})"
   ]
  },
  {
   "cell_type": "code",
   "execution_count": 23,
   "metadata": {},
   "outputs": [],
   "source": [
    "po1 = smu.OutletInjector('PO1', P_max=30*u.kW, target_V=700*u.L) # Outlet Injector\n",
    "pi1 = smu.VentPump('PI1', V_out=700*u.L, ex_P = 100*u.kPa) # , V_in=0*u.L, V_out=0.2*u.m**3) # Vent Pump\n",
    "hp1 = smu.Pump('HP1', P_max=45*u.kW)\n",
    "pc_hot =  smu.Pump('P[C]hot') # C2-P2 on pic\n",
    "pc_cold = smu.Pump('P[C]cold') # C5-P6 on pic\n",
    "thot =  smu.Turbine('T(hot)1')\n",
    "tcold = smu.Turbine('T(cold)2')\n",
    "teg = smu.TEG(thot, tcold)\n",
    "he = smu.HeatExchanger(191)\n"
   ]
  },
  {
   "cell_type": "code",
   "execution_count": 24,
   "metadata": {},
   "outputs": [],
   "source": [
    "chot = smu.PipeNetwork({'':canist_ref*1})\n",
    "ccold = smu.PipeNetwork({'':canist_ref*1})\n",
    "pc_hot.connect (chot, warm)\n",
    "pc_cold.connect(ccold, cooling)\n",
    "hp1.connect(cooling, cooled)\n",
    "pi1.connect(core_room, scalding)\n",
    "po1.connect(warm, core_room)\n",
    "thot.connect(scalding, warm)\n",
    "tcold.connect(cooled, cooling)\n",
    "# warm.V += 2*u.m**3 # Filters\n",
    "warm.add('filter1', 1*u.m**3)\n",
    "warm.add('filter2', 1*u.m**3)\n",
    "warm.add('nopump', .2*u.m**3) # empty for waste or whatever"
   ]
  },
  {
   "cell_type": "markdown",
   "metadata": {},
   "source": [
    "probably worth it to make a parser of neb debug logs to match with own debug logs\n",
    "\n",
    "current error for cold loop on its own is sub 1e-6. probably good enough."
   ]
  },
  {
   "cell_type": "code",
   "execution_count": 43,
   "metadata": {},
   "outputs": [
    {
     "data": {
      "text/plain": [
       "GasMixture(T=<Quantity 293.15 K>, V=<Quantity 37500. l>, nus={'N2': <Quantity 1699.48861633 mol>})"
      ]
     },
     "execution_count": 43,
     "metadata": {},
     "output_type": "execute_result"
    }
   ],
   "source": [
    "for _ in range(10):\n",
    "    ([x.pump() for x in [pc_hot, pi1, po1]])\n",
    "    (teg.process())\n",
    "    [x.equalize() for x in [chot,  warm, scalding]]\n",
    "core_room"
   ]
  },
  {
   "cell_type": "code",
   "execution_count": 44,
   "metadata": {},
   "outputs": [
    {
     "data": {
      "text/plain": [
       "{'scalding': GasMixture(T=<Quantity 2.7 K>, V=<Quantity 315. l>, nus={}),\n",
       " 'PI1': GasMixture(T=<Quantity 2.7 K>, V=<Quantity 700. l>, nus={}),\n",
       " 'T(hot)1': GasMixture(T=<Quantity 2.7 K>, V=<Quantity 400. l>, nus={})}"
      ]
     },
     "execution_count": 44,
     "metadata": {},
     "output_type": "execute_result"
    }
   ],
   "source": [
    "scalding.gases"
   ]
  },
  {
   "cell_type": "code",
   "execution_count": 46,
   "metadata": {},
   "outputs": [
    {
     "name": "stderr",
     "output_type": "stream",
     "text": [
      "[ct.sm.Pump] P[C]hot: Source entropy 171.609 J / (K mol) -> Sink entropy 175.601 J / (K mol)\n",
      "[ct.sm.Pump] P[C]hot: Specific entropy change 3.99219 J / (K mol)\n",
      "[ct.sm.Pump] P[C]hot: Specific power 0 J / mol\n",
      "[ct.sm.Pump] P[C]hot: Transferred 83.9698 mol in fact\n",
      "[ct.sm.Pump] P[C]hot: Sink stat = 293.15 K, 51.8681 mol, 631.774 kPa\n",
      "[ct.sm.Pump] P[C]hot Merged-sink stat: 293.15 K, 135.8 mol, 1654.56 kPa\n",
      "[ct.sm.Pump] PI1 target dP=22.97430600859011 kPa\n",
      "[ct.sm.Pump] PI1: Source entropy 189.186 J / (K mol) -> Sink entropy 228.872 J / (K mol)\n",
      "[ct.sm.Pump] PI1: Specific entropy change 39.6857 J / (K mol)\n",
      "[ct.sm.Pump] PI1: Specific power 0 J / mol\n",
      "[ct.sm.Pump] PI1: Transferred 1.32975 mol in fact\n",
      "[ct.sm.Pump] PI1: Sink stat = 293.15 K, 0.29785 mol, 1.03655 kPa\n",
      "[ct.sm.Pump] PI1 Merged-sink stat: 293.15 K, 1.628 mol, 5.66423 kPa\n",
      "[ct.sm.Pump] PO1: Source entropy 175.601 J / (K mol) -> Sink entropy 189.192 J / (K mol)\n",
      "[ct.sm.Pump] PO1: Specific entropy change 13.5911 J / (K mol)\n",
      "[ct.sm.Pump] PO1: Specific power 0 J / mol\n",
      "[ct.sm.Pump] PO1: Transferred 181.538 mol in fact\n",
      "[ct.sm.Pump] PO1: Sink stat = 293.15 K, 1891.69 mol, 122.888 kPa\n",
      "[ct.sm.Pump] PO1 Merged-sink stat: 293.15 K, 138.2 mol, 134.681 kPa\n",
      "[ct.sm] T(cold)2: merged: inP=0 Pa, outP=0 Pa\n",
      "[ct.sm] T(hot)1: merged: inP=1036.5 Pa, outP=6.3177e+05 Pa\n"
     ]
    },
    {
     "name": "stdout",
     "output_type": "stream",
     "text": [
      "[<Quantity 0. J>, <Quantity 0. J>, <Quantity 0. J>]\n",
      "0.0 J\n",
      "852.3204784538345 kPa 7599.375 kPa\n",
      "134.68103102219777 kPa 585.9770074146468 kPa 3.3258615130490004 kPa\n"
     ]
    }
   ],
   "source": [
    "%config Application.log_level = 'INFO'\n",
    "for _ in range(1):\n",
    "    print([x.pump() for x in [pc_hot, pi1, po1]])\n",
    "    print(teg.process())\n",
    "    [x.equalize() for x in [chot,  warm, scalding]]\n",
    "%config Application.log_level = 30\n",
    "print(pc_hot.inlet.gases[''].p.to(u.kPa), pc_cold.inlet.gases[''].p.to(u.kPa))\n",
    "print(core_room.p.to(u.kPa), warm.gases['warm'].p.to(u.kPa), scalding.gases['scalding'].p.to(u.kPa))"
   ]
  },
  {
   "cell_type": "code",
   "execution_count": 47,
   "metadata": {},
   "outputs": [
    {
     "name": "stderr",
     "output_type": "stream",
     "text": [
      "[ct.sm.Pump] P[C]cold: Source entropy 155.129 J / (K mol) -> Sink entropy 150000 J / (K mol)\n",
      "[ct.sm.Pump] P[C]cold: Specific entropy change 149845 J / (K mol)\n",
      "[ct.sm.Pump] P[C]cold: Specific power 0 J / mol\n",
      "[ct.sm.Pump] P[C]cold: Transferred 623.903 mol in fact\n"
     ]
    },
    {
     "name": "stderr",
     "output_type": "stream",
     "text": [
      "[ct.sm.Pump] P[C]cold: Sink stat = 2.7 K, 0 mol, 0 kPa\n",
      "[ct.sm.Pump] P[C]cold Merged-sink stat: 293.15 K, 623.9 mol, 7599.37 kPa\n",
      "[ct.sm.Pump] P[C]cold: Source entropy 156.608 J / (K mol) -> Sink entropy 191.475 J / (K mol)\n",
      "[ct.sm.Pump] P[C]cold: Specific entropy change 34.8669 J / (K mol)\n",
      "[ct.sm.Pump] P[C]cold: Specific power 0 J / mol\n",
      "[ct.sm.Pump] P[C]cold: Transferred 519.919 mol in fact\n",
      "[ct.sm.Pump] P[C]cold: Sink stat = 293.15 K, 7.66465 mol, 93.3584 kPa\n",
      "[ct.sm.Pump] P[C]cold Merged-sink stat: 293.15 K, 527.6 mol, 6426.17 kPa\n",
      "[ct.sm] last -9.18464423578679 J; Per 191 pipes 293.15 K -> 293.00 K (0.1461 K loss)\n",
      "[ct.sm.Pump] P[C]cold: Source entropy 158.094 J / (K mol) -> Sink entropy 186.441 J / (K mol)\n",
      "[ct.sm.Pump] P[C]cold: Specific entropy change 28.3474 J / (K mol)\n",
      "[ct.sm.Pump] P[C]cold: Specific power 0 J / mol\n",
      "[ct.sm.Pump] P[C]cold: Transferred 433.266 mol in fact\n",
      "[ct.sm.Pump] P[C]cold: Sink stat = 293.07 K, 14.0519 mol, 171.112 kPa\n",
      "[ct.sm.Pump] P[C]cold Merged-sink stat: 293.0732 K, 447.3 mol, 5447.07 kPa\n",
      "[ct.sm] last -16.820567877876698 J; Per 191 pipes 293.07 K -> 292.93 K (0.146 K loss)\n",
      "[ct.sm.Pump] P[C]cold: Source entropy 159.584 J / (K mol) -> Sink entropy 183.775 J / (K mol)\n",
      "[ct.sm.Pump] P[C]cold: Specific entropy change 24.1907 J / (K mol)\n",
      "[ct.sm.Pump] P[C]cold: Specific power 0 J / mol\n",
      "[ct.sm.Pump] P[C]cold: Transferred 361.055 mol in fact\n",
      "[ct.sm.Pump] P[C]cold: Sink stat = 292.97 K, 19.3745 mol, 235.845 kPa\n",
      "[ct.sm.Pump] P[C]cold Merged-sink stat: 292.9713 K, 380.4 mol, 4630.95 kPa\n",
      "[ct.sm] last -23.159158125431965 J; Per 191 pipes 292.97 K -> 292.83 K (0.1458 K loss)\n",
      "[ct.sm.Pump] P[C]cold: Source entropy 161.078 J / (K mol) -> Sink entropy 182.064 J / (K mol)\n",
      "[ct.sm.Pump] P[C]cold: Specific entropy change 20.9858 J / (K mol)\n",
      "[ct.sm.Pump] P[C]cold: Specific power 0 J / mol\n",
      "[ct.sm.Pump] P[C]cold: Transferred 300.879 mol in fact\n",
      "[ct.sm.Pump] P[C]cold: Sink stat = 292.86 K, 23.8101 mol, 289.726 kPa\n",
      "[ct.sm.Pump] P[C]cold Merged-sink stat: 292.857 K, 324.7 mol, 3950.89 kPa\n",
      "[ct.sm] last -28.416001952673586 J; Per 191 pipes 292.86 K -> 292.71 K (0.1455 K loss)\n",
      "[ct.sm.Pump] P[C]cold: Source entropy 162.576 J / (K mol) -> Sink entropy 180.867 J / (K mol)\n",
      "[ct.sm.Pump] P[C]cold: Specific entropy change 18.2913 J / (K mol)\n",
      "[ct.sm.Pump] P[C]cold: Specific power 0 J / mol\n",
      "[ct.sm.Pump] P[C]cold: Transferred 250.733 mol in fact\n",
      "[ct.sm.Pump] P[C]cold: Sink stat = 292.74 K, 27.5064 mol, 334.565 kPa\n",
      "[ct.sm.Pump] P[C]cold Merged-sink stat: 292.7357 K, 278.2 mol, 3384.27 kPa\n",
      "[ct.sm] last -32.77198299462917 J; Per 191 pipes 292.74 K -> 292.59 K (0.1453 K loss)\n",
      "[ct.sm.Pump] P[C]cold: Source entropy 164.077 J / (K mol) -> Sink entropy 179.988 J / (K mol)\n",
      "[ct.sm.Pump] P[C]cold: Specific entropy change 15.9108 J / (K mol)\n",
      "[ct.sm.Pump] P[C]cold: Specific power 0 J / mol\n",
      "[ct.sm.Pump] P[C]cold: Transferred 208.944 mol in fact\n",
      "[ct.sm.Pump] P[C]cold: Sink stat = 292.61 K, 30.5867 mol, 371.871 kPa\n",
      "[ct.sm.Pump] P[C]cold Merged-sink stat: 293.081 K, 239.5 mol, 2916.89 kPa\n",
      "[ct.sm] last -36.37814161501108 J; Per 191 pipes 292.61 K -> 292.46 K (0.145 K loss)\n",
      "[ct.sm.Pump] P[C]cold: Source entropy 165.58 J / (K mol) -> Sink entropy 179.32 J / (K mol)\n",
      "[ct.sm.Pump] P[C]cold: Specific entropy change 13.7399 J / (K mol)\n",
      "[ct.sm.Pump] P[C]cold: Specific power 0 J / mol\n",
      "[ct.sm.Pump] P[C]cold: Transferred 174.12 mol in fact\n",
      "[ct.sm.Pump] P[C]cold: Sink stat = 292.52 K, 33.1535 mol, 402.959 kPa\n",
      "[ct.sm.Pump] P[C]cold Merged-sink stat: 293.0497 K, 207.3 mol, 2523.8 kPa\n",
      "[ct.sm] last -39.38329979647036 J; Per 191 pipes 292.52 K -> 292.38 K (0.1448 K loss)\n",
      "[ct.sm.Pump] P[C]cold: Source entropy 167.085 J / (K mol) -> Sink entropy 178.802 J / (K mol)\n",
      "[ct.sm.Pump] P[C]cold: Specific entropy change 11.7169 J / (K mol)\n",
      "[ct.sm.Pump] P[C]cold: Specific power 0 J / mol\n",
      "[ct.sm.Pump] P[C]cold: Transferred 145.1 mol in fact\n",
      "[ct.sm.Pump] P[C]cold: Sink stat = 292.43 K, 35.2926 mol, 428.821 kPa\n",
      "[ct.sm.Pump] P[C]cold Merged-sink stat: 293.0091 K, 180.4 mol, 2196.19 kPa\n",
      "[ct.sm] last -41.870027780146735 J; Per 191 pipes 292.43 K -> 292.29 K (0.1447 K loss)\n",
      "[ct.sm.Pump] P[C]cold: Source entropy 168.592 J / (K mol) -> Sink entropy 178.394 J / (K mol)\n",
      "[ct.sm.Pump] P[C]cold: Specific entropy change 9.80226 J / (K mol)\n",
      "[ct.sm.Pump] P[C]cold: Specific power 0 J / mol\n",
      "[ct.sm.Pump] P[C]cold: Transferred 120.917 mol in fact\n",
      "[ct.sm.Pump] P[C]cold: Sink stat = 292.33 K, 37.0752 mol, 450.329 kPa\n",
      "[ct.sm.Pump] P[C]cold Merged-sink stat: 292.958 K, 158 mol, 1923.14 kPa\n",
      "[ct.sm] last -43.92478959113117 J; Per 191 pipes 292.33 K -> 292.19 K (0.1445 K loss)\n",
      "[ct.sm.Pump] P[C]cold: Source entropy 170.1 J / (K mol) -> Sink entropy 178.069 J / (K mol)\n",
      "[ct.sm.Pump] P[C]cold: Specific entropy change 7.9692 J / (K mol)\n",
      "[ct.sm.Pump] P[C]cold: Specific power 0 J / mol\n",
      "[ct.sm.Pump] P[C]cold: Transferred 100.764 mol in fact\n",
      "[ct.sm.Pump] P[C]cold: Sink stat = 292.23 K, 38.5606 mol, 468.208 kPa\n",
      "[ct.sm.Pump] P[C]cold Merged-sink stat: 292.8952 K, 139.3 mol, 1695.55 kPa\n",
      "[ct.sm] last -45.61963874917816 J; Per 191 pipes 292.23 K -> 292.09 K (0.1443 K loss)\n",
      "[ct.sm.Pump] P[C]cold: Source entropy 171.609 J / (K mol) -> Sink entropy 177.808 J / (K mol)\n",
      "[ct.sm.Pump] P[C]cold: Specific entropy change 6.1988 J / (K mol)\n",
      "[ct.sm.Pump] P[C]cold: Specific power 0 J / mol\n",
      "[ct.sm.Pump] P[C]cold: Transferred 83.9698 mol in fact\n",
      "[ct.sm.Pump] P[C]cold: Sink stat = 292.12 K, 39.7985 mol, 483.064 kPa\n",
      "[ct.sm.Pump] P[C]cold Merged-sink stat: 292.8199 K, 123.8 mol, 1505.85 kPa\n"
     ]
    }
   ],
   "source": [
    "%config Application.log_level = 'INFO'\n",
    "(pc_cold.pump())\n",
    "ccold.equalize()\n",
    "cooling.equalize()\n",
    "(pc_cold.pump())\n",
    "for _ in range(10):\n",
    "    # smu.SmLogger.info(he.approx_cool(cooling.gases['cooling']))\n",
    "    he.cool(cooling.gases['cooling'])\n",
    "    ccold.equalize()\n",
    "    cooling.equalize()\n",
    "    (pc_cold.pump())\n",
    "    # cooling.equalize()\n",
    "    # he2.cool(cooling.gases['cooling'])\n",
    "    # cooling.equalize()\n",
    "%config Application.log_level = 30"
   ]
  },
  {
   "cell_type": "code",
   "execution_count": 35,
   "metadata": {},
   "outputs": [
    {
     "name": "stderr",
     "output_type": "stream",
     "text": [
      "[ct.sm] last -51.46478810844523 J; Per 191 pipes 288.31 K -> 288.17 K (0.1365 K loss)\n",
      "[ct.sm.Pump] P[C]cold: Source entropy 218.548 J / (K mol) -> Sink entropy 176.65 J / (K mol)\n",
      "[ct.sm.Pump] P[C]cold: Specific entropy change -41.8975 J / (K mol)\n",
      "[ct.sm.Pump] P[C]cold: Specific power 4829.6 J / mol\n",
      "[ct.sm.Pump] P[C]cold: Transferred 0.294784 mol in fact\n",
      "[ct.sm.Pump] P[C]cold: Sink stat = 288.18 K, 45.9662 mol, 550.393 kPa\n",
      "[ct.sm.Pump] P[C]cold: Source entropy 218.548 J / (K mol) -> Sink entropy 176.65 J / (K mol)\n",
      "[ct.sm.Pump] P[C]cold: Specific entropy change -41.8975 J / (K mol)\n",
      "[ct.sm.Pump] P[C]cold: Specific power 4829.6 J / mol\n",
      "[ct.sm.Pump] P[C]cold: Transferred 0.294784 mol in fact\n",
      "[ct.sm.Pump] P[C]cold: Sink stat = 288.18 K, 45.9662 mol, 550.393 kPa\n",
      "[ct.sm.Pump] P[C]cold Merged-sink stat: 288.2113 K, 46.26 mol, 553.983 kPa\n",
      "[ct.sm] last -51.37434032492347 J; Per 191 pipes 288.18 K -> 288.04 K (0.1363 K loss)\n",
      "[ct.sm.Pump] P[C]cold: Source entropy 220.063 J / (K mol) -> Sink entropy 176.651 J / (K mol)\n",
      "[ct.sm.Pump] P[C]cold: Specific entropy change -43.4119 J / (K mol)\n",
      "[ct.sm.Pump] P[C]cold: Specific power 5001.9 J / mol\n",
      "[ct.sm.Pump] P[C]cold: Transferred 0.245654 mol in fact\n",
      "[ct.sm.Pump] P[C]cold: Sink stat = 288.05 K, 45.9698 mol, 550.186 kPa\n",
      "[ct.sm.Pump] P[C]cold Merged-sink stat: 288.0758 K, 46.22 mol, 553.178 kPa\n",
      "[ct.sm] last -51.28332351929893 J; Per 191 pipes 288.05 K -> 287.91 K (0.136 K loss)\n",
      "[ct.sm.Pump] P[C]cold: Source entropy 221.578 J / (K mol) -> Sink entropy 176.651 J / (K mol)\n",
      "[ct.sm.Pump] P[C]cold: Specific entropy change -44.9263 J / (K mol)\n",
      "[ct.sm.Pump] P[C]cold: Specific power 5174.04 J / mol\n",
      "[ct.sm.Pump] P[C]cold: Transferred 0.204711 mol in fact\n",
      "[ct.sm.Pump] P[C]cold: Sink stat = 287.92 K, 45.9728 mol, 549.973 kPa\n",
      "[ct.sm.Pump] P[C]cold Merged-sink stat: 287.9413 K, 46.18 mol, 552.466 kPa\n",
      "[ct.sm] last -51.1918825282521 J; Per 191 pipes 287.92 K -> 287.78 K (0.1358 K loss)\n",
      "[ct.sm.Pump] P[C]cold: Source entropy 223.093 J / (K mol) -> Sink entropy 176.652 J / (K mol)\n",
      "[ct.sm.Pump] P[C]cold: Specific entropy change -46.4406 J / (K mol)\n",
      "[ct.sm.Pump] P[C]cold: Specific power 5346.01 J / mol\n",
      "[ct.sm.Pump] P[C]cold: Transferred 0.170593 mol in fact\n",
      "[ct.sm.Pump] P[C]cold: Sink stat = 287.79 K, 45.9753 mol, 549.754 kPa\n",
      "[ct.sm.Pump] P[C]cold Merged-sink stat: 287.8074 K, 46.15 mol, 551.832 kPa\n",
      "[ct.sm] last -51.10013781296629 J; Per 191 pipes 287.79 K -> 287.65 K (0.1355 K loss)\n",
      "[ct.sm.Pump] P[C]cold: Source entropy 224.608 J / (K mol) -> Sink entropy 176.653 J / (K mol)\n",
      "[ct.sm.Pump] P[C]cold: Specific entropy change -47.9548 J / (K mol)\n",
      "[ct.sm.Pump] P[C]cold: Specific power 5517.82 J / mol\n",
      "[ct.sm.Pump] P[C]cold: Transferred 0.142161 mol in fact\n",
      "[ct.sm.Pump] P[C]cold: Sink stat = 287.66 K, 45.9774 mol, 549.53 kPa\n",
      "[ct.sm.Pump] P[C]cold Merged-sink stat: 287.6743 K, 46.12 mol, 551.261 kPa\n",
      "[ct.sm] last -51.00818952424905 J; Per 191 pipes 287.66 K -> 287.52 K (0.1353 K loss)\n",
      "[ct.sm.Pump] P[C]cold: Source entropy 226.123 J / (K mol) -> Sink entropy 176.654 J / (K mol)\n",
      "[ct.sm.Pump] P[C]cold: Specific entropy change -49.4689 J / (K mol)\n",
      "[ct.sm.Pump] P[C]cold: Specific power 5689.47 J / mol\n",
      "[ct.sm.Pump] P[C]cold: Transferred 0.118467 mol in fact\n",
      "[ct.sm.Pump] P[C]cold: Sink stat = 287.53 K, 45.9792 mol, 549.302 kPa\n",
      "[ct.sm.Pump] P[C]cold Merged-sink stat: 287.5417 K, 46.1 mol, 550.745 kPa\n",
      "[ct.sm] last -50.916120889969356 J; Per 191 pipes 287.53 K -> 287.39 K (0.135 K loss)\n",
      "[ct.sm.Pump] P[C]cold: Source entropy 227.638 J / (K mol) -> Sink entropy 176.655 J / (K mol)\n",
      "[ct.sm.Pump] P[C]cold: Specific entropy change -50.983 J / (K mol)\n",
      "[ct.sm.Pump] P[C]cold: Specific power 5860.96 J / mol\n",
      "[ct.sm.Pump] P[C]cold: Transferred 0.0987227 mol in fact\n",
      "[ct.sm.Pump] P[C]cold: Sink stat = 287.4 K, 45.9806 mol, 549.072 kPa\n",
      "[ct.sm.Pump] P[C]cold Merged-sink stat: 287.4097 K, 46.08 mol, 550.274 kPa\n",
      "[ct.sm] last -50.82400103777435 J; Per 191 pipes 287.40 K -> 287.26 K (0.1348 K loss)\n",
      "[ct.sm.Pump] P[C]cold: Source entropy 229.153 J / (K mol) -> Sink entropy 176.656 J / (K mol)\n",
      "[ct.sm.Pump] P[C]cold: Specific entropy change -52.4971 J / (K mol)\n",
      "[ct.sm.Pump] P[C]cold: Specific power 6032.29 J / mol\n",
      "[ct.sm.Pump] P[C]cold: Transferred 0.0822689 mol in fact\n",
      "[ct.sm.Pump] P[C]cold: Sink stat = 287.27 K, 45.9819 mol, 548.838 kPa\n",
      "[ct.sm.Pump] P[C]cold Merged-sink stat: 287.2782 K, 46.06 mol, 549.84 kPa\n",
      "[ct.sm] last -50.731887347220066 J; Per 191 pipes 287.27 K -> 287.13 K (0.1345 K loss)\n",
      "[ct.sm.Pump] P[C]cold: Source entropy 230.668 J / (K mol) -> Sink entropy 176.657 J / (K mol)\n",
      "[ct.sm.Pump] P[C]cold: Specific entropy change -54.0111 J / (K mol)\n",
      "[ct.sm.Pump] P[C]cold: Specific power 6203.46 J / mol\n",
      "[ct.sm.Pump] P[C]cold: Transferred 0.0685574 mol in fact\n",
      "[ct.sm.Pump] P[C]cold: Sink stat = 287.14 K, 45.9829 mol, 548.603 kPa\n",
      "[ct.sm.Pump] P[C]cold Merged-sink stat: 287.1473 K, 46.05 mol, 549.438 kPa\n",
      "[ct.sm] last -50.63982740976796 J; Per 191 pipes 287.14 K -> 287.00 K (0.1343 K loss)\n",
      "[ct.sm.Pump] P[C]cold: Source entropy 232.183 J / (K mol) -> Sink entropy 176.658 J / (K mol)\n",
      "[ct.sm.Pump] P[C]cold: Specific entropy change -55.5251 J / (K mol)\n",
      "[ct.sm.Pump] P[C]cold: Specific power 6374.48 J / mol\n",
      "[ct.sm.Pump] P[C]cold: Transferred 0.0571312 mol in fact\n",
      "[ct.sm.Pump] P[C]cold: Sink stat = 287.01 K, 45.9837 mol, 548.366 kPa\n",
      "[ct.sm.Pump] P[C]cold Merged-sink stat: 287.0167 K, 46.04 mol, 549.062 kPa\n"
     ]
    }
   ],
   "source": [
    "%config Application.log_level = 'INFO'\n",
    "for _ in range(10):\n",
    "    # smu.SmLogger.info(he.approx_cool(cooling.gases['cooling']))\n",
    "    he.cool(cooling.gases['cooling'])\n",
    "    ccold.equalize()\n",
    "    cooling.equalize()\n",
    "    (pc_cold.pump())\n",
    "    # cooling.equalize()\n",
    "    # he2.cool(cooling.gases['cooling'])\n",
    "    # cooling.equalize()\n",
    "%config Application.log_level = 30"
   ]
  },
  {
   "cell_type": "markdown",
   "metadata": {},
   "source": [
    "technically prev level"
   ]
  },
  {
   "cell_type": "code",
   "execution_count": 274,
   "metadata": {},
   "outputs": [
    {
     "name": "stderr",
     "output_type": "stream",
     "text": [
      "[ct.sm.Pump] P[C]hot: Source entropy 164.077 J / (K mol) -> Sink entropy 170.505 J / (K mol)\n",
      "[ct.sm.Pump] P[C]hot: Specific entropy change 6.42846 J / (K mol)\n",
      "[ct.sm.Pump] P[C]hot: Specific power 0 J / mol\n",
      "[ct.sm.Pump] P[C]hot: Transferred 208.944 mol in fact\n",
      "[ct.sm.Pump] P[C]hot: Sink stat = 293.15 K, 95.9443 mol, 1168.64 kPa\n",
      "[ct.sm.Pump] Merged-sink stat: 293.15 K, 304.9 mol, 3713.65 kPa\n",
      "[ct.sm.Pump] PO1: Source entropy 170.505 J / (K mol) -> Sink entropy 150000 J / (K mol)\n"
     ]
    },
    {
     "name": "stderr",
     "output_type": "stream",
     "text": [
      "[ct.sm.Pump] PO1: Specific entropy change 149829 J / (K mol)\n",
      "[ct.sm.Pump] PO1: Specific power 0 J / mol\n",
      "[ct.sm.Pump] PO1: Transferred 0 mol in fact\n",
      "[ct.sm.Pump] PO1: Sink stat = 2.7 K, 0 mol, 0 kPa\n",
      "[ct.sm] T(cold)2: merged: inP=0 Pa, outP=5.4717e+05 Pa\n",
      "[ct.sm] T(hot)1: merged: inP=0 Pa, outP=1.1686e+06 Pa\n"
     ]
    },
    {
     "name": "stdout",
     "output_type": "stream",
     "text": [
      "[<Quantity 0. J>, <Quantity 0. J>, <Quantity 0. W>]\n",
      "0.0 J\n",
      "2120.846092946246 kPa 0.27965854715851235 kPa\n",
      "0.0 kPa 547.1681974842829 kPa 1266.7118860239893 kPa 0.0 kPa\n"
     ]
    }
   ],
   "source": [
    "%config Application.log_level = 'INFO'\n",
    "for _ in range(1):\n",
    "    print([x.pump() for x in [pc_hot, po1, pi1]])\n",
    "    print(teg.process())\n",
    "    # print(he.cool(cooling.gases['cooling']).T)\n",
    "    # ccold, cooled, cooling,\n",
    "    [x.equalize() for x in [chot,  warm, scalding]]\n",
    "%config Application.log_level = 30\n",
    "print(pc_hot.inlet.gases[''].p.to(u.kPa), pc_cold.inlet.gases[''].p.to(u.kPa))\n",
    "print(core_room.p.to(u.kPa), warm.gases['warm'].p.to(u.kPa), scalding.gases['scalding'].p.to(u.kPa))"
   ]
  },
  {
   "cell_type": "markdown",
   "metadata": {},
   "source": [
    "together pumps"
   ]
  },
  {
   "cell_type": "code",
   "execution_count": 30,
   "metadata": {},
   "outputs": [],
   "source": [
    "chot.gases[''] = canist_ref * 1\n",
    "ccold.gases[''] = canist_ref * 1"
   ]
  },
  {
   "cell_type": "code",
   "execution_count": 45,
   "metadata": {},
   "outputs": [],
   "source": []
  },
  {
   "cell_type": "code",
   "execution_count": 56,
   "metadata": {},
   "outputs": [
    {
     "name": "stdout",
     "output_type": "stream",
     "text": [
      "Core dT -0.15667315126302128 K\n",
      "Canisters: 0.112 kPa hot, 0.104 kPa cold\n",
      "Core: 99.696 EER, 2650.89 K, 6025.85 kPa\n",
      "warm 3638.273988585842 kPa 1431.3612617585973 K \n",
      "cooling 3025.6115073830306 kPa 559.3343982114376 K \n",
      "scalding 5418.442898313371 kPa 2647.7938893836035 K\n",
      "4393.945905589115 kPa\n"
     ]
    }
   ],
   "source": [
    "for _ in range(15):\n",
    "    ([x.pump() for x in [pc_hot, pc_cold, po1, pi1, hp1]])\n",
    "    (teg.process())\n",
    "    smcore.process()\n",
    "    if i>1 : he.cool(cooling.gases['cooling'])\n",
    "    [x.equalize() for x in [chot,  warm, scalding, ccold, cooling, cooled]]\n",
    "    if cT0 is not None:\n",
    "        print('Core dT', (core_room.T - cT0))\n",
    "        cT0 = None\n",
    "    (pc_cold.pump())\n",
    "\n",
    "print(f'Canisters: {pc_hot.inlet.gases[\"\"].p.to(u.kPa):.3g} hot, {pc_cold.inlet.gases[\"\"].p.to(u.kPa):.3g} cold')\n",
    "print(f'Core: {smcore.eer:.3f}, {core_room.T:.2f}, {core_room.p.to(u.kPa):.2f}')\n",
    "print('warm',    warm.gases['warm'].p.to(u.kPa), warm.gases['warm'].T,       '')\n",
    "print('cooling', cooling.gases['cooling'].p.to(u.kPa), cooling.gases['cooling'].T, '')\n",
    "print('scalding',scalding.gases['scalding'].p.to(u.kPa), scalding.gases['scalding'].T)\n",
    "print(cooled.gases['cooled'].p.to(u.kPa))\n",
    "cT0 = core_room.T"
   ]
  },
  {
   "cell_type": "code",
   "execution_count": 57,
   "metadata": {},
   "outputs": [
    {
     "data": {
      "text/plain": [
       "{'O2': <Quantity 0.05351593>,\n",
       " 'Ph': <Quantity 0.02564187>,\n",
       " 'N2': <Quantity 0.9208422>}"
      ]
     },
     "execution_count": 57,
     "metadata": {},
     "output_type": "execute_result"
    }
   ],
   "source": [
    "{k: v/core_room.Nu for k,v in core_room.nus.items()}"
   ]
  },
  {
   "cell_type": "code",
   "execution_count": 58,
   "metadata": {},
   "outputs": [
    {
     "data": {
      "text/latex": [
       "$863013.95 \\; \\mathrm{J}$"
      ],
      "text/plain": [
       "<Quantity 863013.9503749 J>"
      ]
     },
     "execution_count": 58,
     "metadata": {},
     "output_type": "execute_result"
    }
   ],
   "source": [
    "teg.process()"
   ]
  },
  {
   "cell_type": "code",
   "execution_count": 53,
   "metadata": {},
   "outputs": [
    {
     "data": {
      "text/latex": [
       "$2657.9365 \\; \\mathrm{K}$"
      ],
      "text/plain": [
       "<Quantity 2657.93654546 K>"
      ]
     },
     "execution_count": 53,
     "metadata": {},
     "output_type": "execute_result"
    }
   ],
   "source": [
    "core_room.T"
   ]
  },
  {
   "cell_type": "code",
   "execution_count": null,
   "metadata": {},
   "outputs": [],
   "source": []
  }
 ],
 "metadata": {
  "kernelspec": {
   "display_name": ".venv",
   "language": "python",
   "name": "python3"
  },
  "language_info": {
   "codemirror_mode": {
    "name": "ipython",
    "version": 3
   },
   "file_extension": ".py",
   "mimetype": "text/x-python",
   "name": "python",
   "nbconvert_exporter": "python",
   "pygments_lexer": "ipython3",
   "version": "3.10.5"
  }
 },
 "nbformat": 4,
 "nbformat_minor": 2
}
