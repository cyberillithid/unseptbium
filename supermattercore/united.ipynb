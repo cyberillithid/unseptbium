{
 "cells": [
  {
   "cell_type": "code",
   "execution_count": 1,
   "metadata": {},
   "outputs": [
    {
     "data": {
      "text/plain": [
       "<module 'units.smm' from 'e:\\\\Code\\\\autism\\\\ss13\\\\supermattercore\\\\units\\\\smm.py'>"
      ]
     },
     "execution_count": 1,
     "metadata": {},
     "output_type": "execute_result"
    }
   ],
   "source": [
    "import astropy.units as u\n",
    "import astropy.constants as C\n",
    "import importlib\n",
    "import units.smm as smu\n",
    "importlib.reload(smu)"
   ]
  },
  {
   "cell_type": "code",
   "execution_count": 4,
   "metadata": {},
   "outputs": [
    {
     "data": {
      "text/latex": [
       "$1137.76 \\; \\mathrm{hitpts}$"
      ],
      "text/plain": [
       "<Quantity 1137.76 hitpts>"
      ]
     },
     "execution_count": 4,
     "metadata": {},
     "output_type": "execute_result"
    }
   ],
   "source": [
    "smu.POWERED_EMITTER_DMG*8"
   ]
  },
  {
   "cell_type": "code",
   "execution_count": 14,
   "metadata": {},
   "outputs": [
    {
     "data": {
      "text/latex": [
       "$\\mathrm{\\frac{MeV}{s\\,cm^{3}}}$"
      ],
      "text/plain": [
       "Unit(\"MeV / (s cm3)\")"
      ]
     },
     "execution_count": 14,
     "metadata": {},
     "output_type": "execute_result"
    }
   ],
   "source": [
    "(u.MeV / u.s/ u.cm**3)"
   ]
  },
  {
   "cell_type": "code",
   "execution_count": 17,
   "metadata": {},
   "outputs": [
    {
     "data": {
      "text/plain": [
       "['ST', 'STflux']"
      ]
     },
     "execution_count": 17,
     "metadata": {},
     "output_type": "execute_result"
    }
   ],
   "source": [
    "u.ST.names"
   ]
  },
  {
   "cell_type": "code",
   "execution_count": 5,
   "metadata": {},
   "outputs": [
    {
     "data": {
      "text/plain": [
       "0.004206696793002915"
      ]
     },
     "execution_count": 5,
     "metadata": {},
     "output_type": "execute_result"
    }
   ],
   "source": [
    "(113/700)**3"
   ]
  },
  {
   "cell_type": "code",
   "execution_count": 2,
   "metadata": {},
   "outputs": [],
   "source": [
    "%config Application.logging_config = {'loggers': {'ct.sm': {'propagate': True, 'level': 'DEBUG', 'handlers': ['console']}}}"
   ]
  },
  {
   "cell_type": "code",
   "execution_count": 20,
   "metadata": {},
   "outputs": [
    {
     "data": {
      "text/plain": [
       "GasMixture(T=<Quantity 293.15 K>, V=<Quantity 1000. l>, nus={'N2': <Quantity 3743.41692471 mol>})"
      ]
     },
     "execution_count": 20,
     "metadata": {},
     "output_type": "execute_result"
    }
   ],
   "source": [
    "canist_ref = smu.GasMixture.pure('N2', 293.15*u.K, 1000*u.L, 90*smu.atm)\n",
    "canist_ref"
   ]
  },
  {
   "cell_type": "code",
   "execution_count": 14,
   "metadata": {},
   "outputs": [],
   "source": [
    "he = smu.HeatExchanger(191)\n",
    "# f'{(canist.T - he.approx_cool(canist)):.5g}'\n",
    "# he.cool(canist)"
   ]
  },
  {
   "cell_type": "code",
   "execution_count": 32,
   "metadata": {},
   "outputs": [],
   "source": [
    "loop = smu.GasMixture(0*u.K, ((15.68 + .2*2)*u.m**3).to(u.L))\n",
    "canist = canist_ref * 1"
   ]
  },
  {
   "cell_type": "code",
   "execution_count": 33,
   "metadata": {},
   "outputs": [],
   "source": [
    "pump = smu.Pump()\n",
    "canist.V += pump.V_in\n",
    "loop.V += pump.V_out    "
   ]
  },
  {
   "cell_type": "code",
   "execution_count": 34,
   "metadata": {},
   "outputs": [
    {
     "name": "stdout",
     "output_type": "stream",
     "text": [
      "5.170446323506409 kPa 551.0484772953529 kPa\n",
      "Changing canister to new...\n",
      "5.27884364306323 kPa 1092.7835406266563 kPa\n",
      "Changing canister to new...\n",
      "10.664358047496586 kPa 1625.5100418895684 kPa\n"
     ]
    }
   ],
   "source": [
    "for _ in range(40):\n",
    "    pump.pump(canist, loop)\n",
    "    he.cool(loop)\n",
    "print(canist.p.to(u.kPa), loop.p.to(u.kPa))\n",
    "print('Changing canister to new...')\n",
    "canist = canist_ref * 1\n",
    "canist.V += pump.V_in\n",
    "for _ in range(40):\n",
    "    pump.pump(canist, loop)\n",
    "    he.cool(loop)\n",
    "print(canist.p.to(u.kPa), loop.p.to(u.kPa))\n",
    "print('Changing canister to new...')\n",
    "canist = canist_ref * 1\n",
    "canist.V += pump.V_in\n",
    "for _ in range(40):\n",
    "    pump.pump(canist, loop)\n",
    "    he.cool(loop)\n",
    "print(canist.p.to(u.kPa), loop.p.to(u.kPa))\n",
    "# %config Application.log_level = 'INFO'\n",
    "# for _ in range(5):\n",
    "#     pump.pump(canist, loop)\n",
    "#     he.cool(loop)\n",
    "#     # he.cool(loop) # Gives better correlation with actual\n",
    "# %config Application.log_level = 30"
   ]
  },
  {
   "cell_type": "code",
   "execution_count": 19,
   "metadata": {},
   "outputs": [
    {
     "data": {
      "text/plain": [
       "(<Quantity 558.28368807 kPa>, <Quantity 289.8045406 K>)"
      ]
     },
     "execution_count": 19,
     "metadata": {},
     "output_type": "execute_result"
    }
   ],
   "source": [
    "loop.p.to(u.kPa), loop.T"
   ]
  },
  {
   "cell_type": "code",
   "execution_count": 433,
   "metadata": {},
   "outputs": [
    {
     "name": "stderr",
     "output_type": "stream",
     "text": [
      "[ct.sm.Pump] GasMixture(T=<Quantity 293.15 K>, V=<Quantity 200. l>, nus={'N2': <Quantity 623.90282079 mol>})\n",
      "[ct.sm.Pump] Source entropy 155.129 J / (K mol) -> Sink entropy 150000 J / (K mol)\n",
      "[ct.sm.Pump] Specific entropy change 149845 J / (K mol)\n",
      "[ct.sm.Pump] Specific power 0\n",
      "[ct.sm.Pump] Transferred 623.903 mol\n"
     ]
    },
    {
     "name": "stderr",
     "output_type": "stream",
     "text": [
      "[ct.sm.Pump] GasMixture(T=<Quantity 293.15 K>, V=<Quantity 200. l>, nus={'N2': <Quantity 519.91901732 mol>})\n",
      "[ct.sm.Pump] Source entropy 156.608 J / (K mol) -> Sink entropy 191.439 J / (K mol)\n",
      "[ct.sm.Pump] Specific entropy change 34.8311 J / (K mol)\n",
      "[ct.sm.Pump] Specific power 0\n",
      "[ct.sm.Pump] Transferred 519.919 mol\n",
      "[ct.sm.Pump] GasMixture(T=<Quantity 293.15 K>, V=<Quantity 200. l>, nus={'N2': <Quantity 433.26584777 mol>})\n",
      "[ct.sm.Pump] Source entropy 158.094 J / (K mol) -> Sink entropy 186.405 J / (K mol)\n",
      "[ct.sm.Pump] Specific entropy change 28.3109 J / (K mol)\n",
      "[ct.sm.Pump] Specific power 0\n",
      "[ct.sm.Pump] Transferred 433.266 mol\n",
      "[ct.sm.Pump] GasMixture(T=<Quantity 293.15 K>, V=<Quantity 200. l>, nus={'N2': <Quantity 361.05487314 mol>})\n",
      "[ct.sm.Pump] Source entropy 159.584 J / (K mol) -> Sink entropy 183.737 J / (K mol)\n",
      "[ct.sm.Pump] Specific entropy change 24.1532 J / (K mol)\n",
      "[ct.sm.Pump] Specific power 0\n",
      "[ct.sm.Pump] Transferred 361.055 mol\n",
      "[ct.sm.Pump] GasMixture(T=<Quantity 293.15 K>, V=<Quantity 200. l>, nus={'N2': <Quantity 300.87906095 mol>})\n",
      "[ct.sm.Pump] Source entropy 161.078 J / (K mol) -> Sink entropy 182.026 J / (K mol)\n",
      "[ct.sm.Pump] Specific entropy change 20.9473 J / (K mol)\n",
      "[ct.sm.Pump] Specific power 0\n",
      "[ct.sm.Pump] Transferred 300.879 mol\n"
     ]
    }
   ],
   "source": [
    "%config Application.log_level = 'INFO'\n",
    "for _ in range(5):\n",
    "    pump.pump(canist, loop)\n",
    "%config Application.log_level = 30"
   ]
  },
  {
   "cell_type": "code",
   "execution_count": null,
   "metadata": {},
   "outputs": [],
   "source": []
  },
  {
   "cell_type": "code",
   "execution_count": null,
   "metadata": {},
   "outputs": [],
   "source": []
  }
 ],
 "metadata": {
  "kernelspec": {
   "display_name": ".venv",
   "language": "python",
   "name": "python3"
  },
  "language_info": {
   "codemirror_mode": {
    "name": "ipython",
    "version": 3
   },
   "file_extension": ".py",
   "mimetype": "text/x-python",
   "name": "python",
   "nbconvert_exporter": "python",
   "pygments_lexer": "ipython3",
   "version": "3.10.5"
  }
 },
 "nbformat": 4,
 "nbformat_minor": 2
}
