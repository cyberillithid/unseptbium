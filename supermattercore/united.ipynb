{
 "cells": [
  {
   "cell_type": "code",
   "execution_count": 1,
   "metadata": {},
   "outputs": [
    {
     "data": {
      "text/plain": [
       "<module 'units.smm' from 'e:\\\\Code\\\\autism\\\\ss13\\\\supermattercore\\\\units\\\\smm.py'>"
      ]
     },
     "execution_count": 1,
     "metadata": {},
     "output_type": "execute_result"
    }
   ],
   "source": [
    "import astropy.units as u\n",
    "import astropy.constants as C\n",
    "import importlib\n",
    "import units.smm as smu\n",
    "import logging\n",
    "importlib.reload(smu)"
   ]
  },
  {
   "cell_type": "code",
   "execution_count": 2,
   "metadata": {},
   "outputs": [],
   "source": [
    "smu.PumpLogger.setLevel(logging.DEBUG)\n",
    "%config Application.logging_config = {'loggers': {'ct.sm': {'propagate': True, 'level': 'DEBUG', 'handlers': ['console']}}}"
   ]
  },
  {
   "cell_type": "code",
   "execution_count": 3,
   "metadata": {},
   "outputs": [],
   "source": [
    "core_room = smu.GasMixture(smu.T_MINIMAL, 15*smu.CELL_VOLUME, {})\n",
    "smcore = smu.Supermatter(core_room, smu.POWERED_EMITTER_DMG*8 / smu.SM_EER_EMIT)"
   ]
  },
  {
   "cell_type": "code",
   "execution_count": 4,
   "metadata": {},
   "outputs": [
    {
     "data": {
      "text/plain": [
       "GasMixture(T=<Quantity 293.15 K>, V=<Quantity 1000. l>, nus={'N2': <Quantity 3743.41692471 mol>})"
      ]
     },
     "execution_count": 4,
     "metadata": {},
     "output_type": "execute_result"
    }
   ],
   "source": [
    "canist_ref = smu.GasMixture.pure('N2', 293.15*u.K, 1000*u.L, 90*smu.atm)\n",
    "canist_ref"
   ]
  },
  {
   "cell_type": "code",
   "execution_count": 5,
   "metadata": {},
   "outputs": [],
   "source": [
    "cooled = smu.GasMixture(smu.T_MINIMAL, 70*u.L)\n",
    "cooling = smu.GasMixture(smu.T_MINIMAL, 15680*u.L)\n",
    "warm = smu.GasMixture(smu.T_MINIMAL, 1890*u.L)\n",
    "scalding = smu.GasMixture(smu.T_MINIMAL, 315*u.L)"
   ]
  },
  {
   "cell_type": "code",
   "execution_count": 6,
   "metadata": {},
   "outputs": [],
   "source": [
    "po1 = smu.Pump('PO1', P_max=45*u.kW, V_out=0*u.L, V_in=0.7*u.m**3) # Outlet Injector\n",
    "pi1 = smu.Pump('PI1', V_in=0*u.L, V_out=0.2*u.m**3) # Vent Pump\n",
    "hp1 = smu.Pump('HP1', P_max=45*u.kW)\n",
    "pc_hot =  smu.Pump('P[C]hot') # C2-P2 on pic\n",
    "pc_cold = smu.Pump('P[C]coldd') # C5-P6 on pic\n",
    "thot =  smu.Turbine('T(hot)1')\n",
    "tcold = smu.Turbine('T(cold)2')\n",
    "teg = smu.TEG(thot, tcold)\n",
    "he = smu.HeatExchanger(191)"
   ]
  },
  {
   "cell_type": "code",
   "execution_count": 7,
   "metadata": {},
   "outputs": [],
   "source": [
    "pc_hot.connect(canist_ref*1, warm)\n",
    "pc_cold.connect(canist_ref*1, cooling)\n",
    "hp1.connect(cooling, cooled)\n",
    "pi1.connect(core_room, scalding)\n",
    "po1.connect(warm, core_room)\n",
    "thot.connect(scalding, warm)\n",
    "tcold.connect(cooled, cooling)\n",
    "warm.V += 2*u.m**3 # Filters"
   ]
  },
  {
   "cell_type": "code",
   "execution_count": 8,
   "metadata": {},
   "outputs": [
    {
     "name": "stderr",
     "output_type": "stream",
     "text": [
      "[ct.sm.Pump] P[C]hot: Source entropy 155.129 J / (K mol) -> Sink entropy 150000 J / (K mol)\n",
      "[ct.sm.Pump] P[C]hot: Specific entropy change 149845 J / (K mol)\n",
      "[ct.sm.Pump] P[C]hot: Specific power 0 J / mol\n",
      "[ct.sm.Pump] P[C]hot: Transferred 623.903 mol in fact\n",
      "[ct.sm.Pump] P[C]coldd: Source entropy 155.129 J / (K mol) -> Sink entropy 150000 J / (K mol)\n",
      "[ct.sm.Pump] P[C]coldd: Specific entropy change 149845 J / (K mol)\n",
      "[ct.sm.Pump] P[C]coldd: Specific power 0 J / mol\n",
      "[ct.sm.Pump] P[C]coldd: Transferred 623.903 mol in fact\n",
      "[ct.sm.Pump] PO1: Source entropy 181.655 J / (K mol) -> Sink entropy 150000 J / (K mol)\n",
      "[ct.sm.Pump] PO1: Specific entropy change 149818 J / (K mol)\n",
      "[ct.sm.Pump] PO1: Specific power 0 J / mol\n",
      "[ct.sm.Pump] PO1: Transferred 87.5214 mol in fact\n",
      "[ct.sm.Pump] PI1: Source entropy 214.728 J / (K mol) -> Sink entropy 150000 J / (K mol)\n",
      "[ct.sm.Pump] PI1: Specific entropy change 149785 J / (K mol)\n",
      "[ct.sm.Pump] PI1: Specific power 0 J / mol\n",
      "[ct.sm.Pump] PI1: Transferred 87.5214 mol in fact\n",
      "[ct.sm] T(cold)2: merged: self.inlet.p=<Quantity 0. Pa>, self.outlet.p=<Quantity 93358.41523342 Pa>\n",
      "[ct.sm] T(hot)1: merged: self.inlet.p=<Quantity 233015.21074937 Pa>, self.outlet.p=<Quantity 261856.93029345 Pa>\n"
     ]
    },
    {
     "name": "stdout",
     "output_type": "stream",
     "text": [
      "[<Quantity 0. J>, <Quantity 0. J>, <Quantity 0. J>, <Quantity 0. J>]\n",
      "0.0 J\n"
     ]
    },
    {
     "name": "stderr",
     "output_type": "stream",
     "text": [
      "[ct.sm.Pump] P[C]hot: Source entropy 156.608 J / (K mol) -> Sink entropy 182.909 J / (K mol)\n",
      "[ct.sm.Pump] P[C]hot: Specific entropy change 26.3012 J / (K mol)\n",
      "[ct.sm.Pump] P[C]hot: Specific power 0 J / mol\n",
      "[ct.sm.Pump] P[C]hot: Transferred 519.919 mol in fact\n",
      "[ct.sm.Pump] P[C]coldd: Source entropy 156.608 J / (K mol) -> Sink entropy 191.476 J / (K mol)\n",
      "[ct.sm.Pump] P[C]coldd: Specific entropy change 34.8682 J / (K mol)\n",
      "[ct.sm.Pump] P[C]coldd: Specific power 0 J / mol\n",
      "[ct.sm.Pump] P[C]coldd: Transferred 519.919 mol in fact\n",
      "e:\\Code\\autism\\ss13\\.venv\\lib\\site-packages\\astropy\\units\\quantity.py:671: RuntimeWarning: invalid value encountered in divide\n",
      "  result = super().__array_ufunc__(function, method, *arrays, **kwargs)\n",
      "[ct.sm.Pump] PO1: Source entropy 177.285 J / (K mol) -> Sink entropy nan J / (K mol)\n",
      "[ct.sm.Pump] PO1: Specific entropy change nan J / (K mol)\n",
      "[ct.sm.Pump] PO1: Specific power 0 J / mol\n",
      "[ct.sm.Pump] PO1: Transferred 148.178 mol in fact\n",
      "[ct.sm.Pump] PI1: Source entropy 210.353 J / (K mol) -> Sink entropy 183.878 J / (K mol)\n",
      "[ct.sm.Pump] PI1: Specific entropy change -26.4746 J / (K mol)\n",
      "[ct.sm.Pump] PI1: Specific power 3104.41 J / mol\n",
      "[ct.sm.Pump] PI1: Transferred 9.66368 mol in fact\n",
      "[ct.sm] T(cold)2: merged: self.inlet.p=<Quantity 0. Pa>, self.outlet.p=<Quantity 171114.20619407 Pa>\n",
      "[ct.sm] T(hot)1: merged: self.inlet.p=<Quantity 258743.58051129 Pa>, self.outlet.p=<Quantity 443337.60175602 Pa>\n"
     ]
    },
    {
     "name": "stdout",
     "output_type": "stream",
     "text": [
      "[<Quantity 0. J>, <Quantity 0. J>, <Quantity 0. J>, <Quantity 30000. J>]\n",
      "0.0 J\n"
     ]
    },
    {
     "name": "stderr",
     "output_type": "stream",
     "text": [
      "[ct.sm.Pump] P[C]hot: Source entropy 158.094 J / (K mol) -> Sink entropy 178.539 J / (K mol)\n",
      "[ct.sm.Pump] P[C]hot: Specific entropy change 20.4454 J / (K mol)\n",
      "[ct.sm.Pump] P[C]hot: Specific power 0 J / mol\n",
      "[ct.sm.Pump] P[C]hot: Transferred 433.266 mol in fact\n",
      "[ct.sm.Pump] P[C]coldd: Source entropy 158.094 J / (K mol) -> Sink entropy 186.442 J / (K mol)\n",
      "[ct.sm.Pump] P[C]coldd: Specific entropy change 28.3486 J / (K mol)\n",
      "[ct.sm.Pump] P[C]coldd: Specific power 0 J / mol\n",
      "[ct.sm.Pump] P[C]coldd: Transferred 433.266 mol in fact\n",
      "[ct.sm.Pump] PO1: Source entropy 175.304 J / (K mol) -> Sink entropy 210.913 J / (K mol)\n",
      "[ct.sm.Pump] PO1: Specific entropy change 35.6097 J / (K mol)\n",
      "[ct.sm.Pump] PO1: Specific power 0 J / mol\n",
      "[ct.sm.Pump] PO1: Transferred 188.171 mol in fact\n",
      "[ct.sm.Pump] PI1: Source entropy 203.783 J / (K mol) -> Sink entropy 183.009 J / (K mol)\n",
      "[ct.sm.Pump] PI1: Specific entropy change -20.7748 J / (K mol)\n",
      "[ct.sm.Pump] PI1: Specific power 2436.05 J / mol\n",
      "[ct.sm.Pump] PI1: Transferred 12.315 mol in fact\n",
      "[ct.sm] T(cold)2: merged: self.inlet.p=<Quantity 0. Pa>, self.outlet.p=<Quantity 235867.89146207 Pa>\n",
      "[ct.sm] T(hot)1: merged: self.inlet.p=<Quantity 291530.8127976 Pa>, self.outlet.p=<Quantity 562991.04469666 Pa>\n"
     ]
    },
    {
     "name": "stdout",
     "output_type": "stream",
     "text": [
      "[<Quantity 0. J>, <Quantity 0. J>, <Quantity 0. J>, <Quantity 30000. J>]\n",
      "0.0 J\n"
     ]
    },
    {
     "name": "stderr",
     "output_type": "stream",
     "text": [
      "[ct.sm.Pump] P[C]hot: Source entropy 159.584 J / (K mol) -> Sink entropy 176.557 J / (K mol)\n",
      "[ct.sm.Pump] P[C]hot: Specific entropy change 16.973 J / (K mol)\n",
      "[ct.sm.Pump] P[C]hot: Specific power 0 J / mol\n",
      "[ct.sm.Pump] P[C]hot: Transferred 361.055 mol in fact\n",
      "[ct.sm.Pump] P[C]coldd: Source entropy 159.584 J / (K mol) -> Sink entropy 183.776 J / (K mol)\n",
      "[ct.sm.Pump] P[C]coldd: Specific entropy change 24.1917 J / (K mol)\n",
      "[ct.sm.Pump] P[C]coldd: Specific power 0 J / mol\n",
      "[ct.sm.Pump] P[C]coldd: Transferred 361.055 mol in fact\n",
      "[ct.sm.Pump] PO1: Source entropy 174.299 J / (K mol) -> Sink entropy 204.103 J / (K mol)\n",
      "[ct.sm.Pump] PO1: Specific entropy change 29.8042 J / (K mol)\n",
      "[ct.sm.Pump] PO1: Specific power 0 J / mol\n",
      "[ct.sm.Pump] PO1: Transferred 212.423 mol in fact\n",
      "[ct.sm.Pump] PI1: Source entropy 199.813 J / (K mol) -> Sink entropy 182.018 J / (K mol)\n",
      "[ct.sm.Pump] PI1: Specific entropy change -17.7951 J / (K mol)\n",
      "[ct.sm.Pump] PI1: Specific power 2086.65 J / mol\n",
      "[ct.sm.Pump] PI1: Transferred 14.3771 mol in fact\n",
      "[ct.sm] T(cold)2: merged: self.inlet.p=<Quantity 0. Pa>, self.outlet.p=<Quantity 289786.56960854 Pa>\n",
      "[ct.sm] T(hot)1: merged: self.inlet.p=<Quantity 329808.15599162 Pa>, self.outlet.p=<Quantity 635551.92044111 Pa>\n",
      "[ct.sm.Pump] P[C]hot: Source entropy 161.078 J / (K mol) -> Sink entropy 175.552 J / (K mol)\n"
     ]
    },
    {
     "name": "stdout",
     "output_type": "stream",
     "text": [
      "[<Quantity 0. J>, <Quantity 0. J>, <Quantity 0. J>, <Quantity 30000. J>]\n",
      "0.0 J\n"
     ]
    },
    {
     "name": "stderr",
     "output_type": "stream",
     "text": [
      "[ct.sm.Pump] P[C]hot: Specific entropy change 14.4733 J / (K mol)\n",
      "[ct.sm.Pump] P[C]hot: Specific power 0 J / mol\n",
      "[ct.sm.Pump] P[C]hot: Transferred 300.879 mol in fact\n",
      "[ct.sm.Pump] P[C]coldd: Source entropy 161.078 J / (K mol) -> Sink entropy 182.065 J / (K mol)\n",
      "[ct.sm.Pump] P[C]coldd: Specific entropy change 20.9865 J / (K mol)\n",
      "[ct.sm.Pump] P[C]coldd: Specific power 0 J / mol\n",
      "[ct.sm.Pump] P[C]coldd: Transferred 300.879 mol in fact\n",
      "[ct.sm.Pump] PO1: Source entropy 173.828 J / (K mol) -> Sink entropy 200.043 J / (K mol)\n",
      "[ct.sm.Pump] PO1: Specific entropy change 26.2151 J / (K mol)\n",
      "[ct.sm.Pump] PO1: Specific power 0 J / mol\n",
      "[ct.sm.Pump] PO1: Transferred 224.832 mol in fact\n",
      "[ct.sm.Pump] PI1: Source entropy 197.021 J / (K mol) -> Sink entropy 180.994 J / (K mol)\n",
      "[ct.sm.Pump] PI1: Specific entropy change -16.0264 J / (K mol)\n",
      "[ct.sm.Pump] PI1: Specific power 1879.26 J / mol\n",
      "[ct.sm.Pump] PI1: Transferred 15.9638 mol in fact\n",
      "[ct.sm] T(cold)2: merged: self.inlet.p=<Quantity 0. Pa>, self.outlet.p=<Quantity 334676.15586044 Pa>\n",
      "[ct.sm] T(hot)1: merged: self.inlet.p=<Quantity 372309.75368074 Pa>, self.outlet.p=<Quantity 672677.65325373 Pa>\n"
     ]
    },
    {
     "name": "stdout",
     "output_type": "stream",
     "text": [
      "[<Quantity 0. J>, <Quantity 0. J>, <Quantity 0. J>, <Quantity 30000. J>]\n",
      "0.0 J\n",
      "3054.0183738425935 kPa 3054.0183738425935 kPa\n",
      "334.52292608031905 kPa 672.6776532537343 kPa 372.30975368073933 kPa\n"
     ]
    }
   ],
   "source": [
    "%config Application.log_level = 'INFO'\n",
    "for _ in range(5):\n",
    "    print([x.pump() for x in [pc_hot, pc_cold, po1, pi1]])\n",
    "    print(teg.process())\n",
    "    (he.cool(cooling))\n",
    "%config Application.log_level = 30\n",
    "print(pc_hot.inlet.p.to(u.kPa), pc_cold.inlet.p.to(u.kPa))\n",
    "print(cooling.p.to(u.kPa), warm.p.to(u.kPa), scalding.p.to(u.kPa))"
   ]
  },
  {
   "cell_type": "code",
   "execution_count": 128,
   "metadata": {},
   "outputs": [
    {
     "ename": "NameError",
     "evalue": "name 'pump' is not defined",
     "output_type": "error",
     "traceback": [
      "\u001b[1;31m---------------------------------------------------------------------------\u001b[0m",
      "\u001b[1;31mNameError\u001b[0m                                 Traceback (most recent call last)",
      "Cell \u001b[1;32mIn[128], line 3\u001b[0m\n\u001b[0;32m      1\u001b[0m get_ipython()\u001b[38;5;241m.\u001b[39mrun_line_magic(\u001b[38;5;124m'\u001b[39m\u001b[38;5;124mconfig\u001b[39m\u001b[38;5;124m'\u001b[39m, \u001b[38;5;124m\"\u001b[39m\u001b[38;5;124mApplication.log_level = \u001b[39m\u001b[38;5;124m'\u001b[39m\u001b[38;5;124mINFO\u001b[39m\u001b[38;5;124m'\u001b[39m\u001b[38;5;124m\"\u001b[39m)\n\u001b[0;32m      2\u001b[0m \u001b[38;5;28;01mfor\u001b[39;00m _ \u001b[38;5;129;01min\u001b[39;00m \u001b[38;5;28mrange\u001b[39m(\u001b[38;5;241m5\u001b[39m):\n\u001b[1;32m----> 3\u001b[0m     \u001b[43mpump\u001b[49m\u001b[38;5;241m.\u001b[39mpump(canist, loop)\n\u001b[0;32m      4\u001b[0m get_ipython()\u001b[38;5;241m.\u001b[39mrun_line_magic(\u001b[38;5;124m'\u001b[39m\u001b[38;5;124mconfig\u001b[39m\u001b[38;5;124m'\u001b[39m, \u001b[38;5;124m'\u001b[39m\u001b[38;5;124mApplication.log_level = 30\u001b[39m\u001b[38;5;124m'\u001b[39m)\n",
      "\u001b[1;31mNameError\u001b[0m: name 'pump' is not defined"
     ]
    },
    {
     "name": "stderr",
     "output_type": "stream",
     "text": [
      "[IPKernelApp] Exception in execute request:\n",
      "\u001b[1;31m---------------------------------------------------------------------------\u001b[0m\n",
      "\u001b[1;31mNameError\u001b[0m                                 Traceback (most recent call last)\n",
      "Cell \u001b[1;32mIn[128], line 3\u001b[0m\n",
      "\u001b[0;32m      1\u001b[0m get_ipython()\u001b[38;5;241m.\u001b[39mrun_line_magic(\u001b[38;5;124m'\u001b[39m\u001b[38;5;124mconfig\u001b[39m\u001b[38;5;124m'\u001b[39m, \u001b[38;5;124m\"\u001b[39m\u001b[38;5;124mApplication.log_level = \u001b[39m\u001b[38;5;124m'\u001b[39m\u001b[38;5;124mINFO\u001b[39m\u001b[38;5;124m'\u001b[39m\u001b[38;5;124m\"\u001b[39m)\n",
      "\u001b[0;32m      2\u001b[0m \u001b[38;5;28;01mfor\u001b[39;00m _ \u001b[38;5;129;01min\u001b[39;00m \u001b[38;5;28mrange\u001b[39m(\u001b[38;5;241m5\u001b[39m):\n",
      "\u001b[1;32m----> 3\u001b[0m     \u001b[43mpump\u001b[49m\u001b[38;5;241m.\u001b[39mpump(canist, loop)\n",
      "\u001b[0;32m      4\u001b[0m get_ipython()\u001b[38;5;241m.\u001b[39mrun_line_magic(\u001b[38;5;124m'\u001b[39m\u001b[38;5;124mconfig\u001b[39m\u001b[38;5;124m'\u001b[39m, \u001b[38;5;124m'\u001b[39m\u001b[38;5;124mApplication.log_level = 30\u001b[39m\u001b[38;5;124m'\u001b[39m)\n",
      "\n",
      "\u001b[1;31mNameError\u001b[0m: name 'pump' is not defined\n"
     ]
    }
   ],
   "source": [
    "%config Application.log_level = 'INFO'\n",
    "for _ in range(5):\n",
    "    pump.pump(canist, loop)\n",
    "%config Application.log_level = 30"
   ]
  },
  {
   "cell_type": "code",
   "execution_count": null,
   "metadata": {},
   "outputs": [],
   "source": []
  },
  {
   "cell_type": "code",
   "execution_count": null,
   "metadata": {},
   "outputs": [],
   "source": []
  }
 ],
 "metadata": {
  "kernelspec": {
   "display_name": ".venv",
   "language": "python",
   "name": "python3"
  },
  "language_info": {
   "codemirror_mode": {
    "name": "ipython",
    "version": 3
   },
   "file_extension": ".py",
   "mimetype": "text/x-python",
   "name": "python",
   "nbconvert_exporter": "python",
   "pygments_lexer": "ipython3",
   "version": "3.10.5"
  }
 },
 "nbformat": 4,
 "nbformat_minor": 2
}
