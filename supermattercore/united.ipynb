{
 "cells": [
  {
   "cell_type": "code",
   "execution_count": 553,
   "metadata": {},
   "outputs": [
    {
     "data": {
      "text/plain": [
       "<module 'units.smm' from 'e:\\\\Code\\\\autism\\\\ss13\\\\supermattercore\\\\units\\\\smm.py'>"
      ]
     },
     "execution_count": 553,
     "metadata": {},
     "output_type": "execute_result"
    }
   ],
   "source": [
    "import astropy.units as u\n",
    "import astropy.constants as C\n",
    "import importlib\n",
    "import units.smm as smu\n",
    "importlib.reload(smu)"
   ]
  },
  {
   "cell_type": "code",
   "execution_count": 554,
   "metadata": {},
   "outputs": [],
   "source": [
    "%config Application.logging_config = {'loggers': {'ct.sm': {'propagate': True, 'level': 'DEBUG', 'handlers': ['console']}}}"
   ]
  },
  {
   "cell_type": "code",
   "execution_count": 555,
   "metadata": {},
   "outputs": [
    {
     "data": {
      "text/plain": [
       "GasMixture(T=<Quantity 293.15 K>, V=<Quantity 1000. l>, nus={'N2': <Quantity 3743.41692471 mol>})"
      ]
     },
     "execution_count": 555,
     "metadata": {},
     "output_type": "execute_result"
    }
   ],
   "source": [
    "canist = smu.GasMixture.pure('N2', 293.15*u.K, 1000*u.L, 90*smu.atm)\n",
    "canist"
   ]
  },
  {
   "cell_type": "code",
   "execution_count": 556,
   "metadata": {},
   "outputs": [],
   "source": [
    "he = smu.HeatExchanger(191)\n",
    "# f'{(canist.T - he.approx_cool(canist)):.5g}'\n",
    "# he.cool(canist)"
   ]
  },
  {
   "cell_type": "code",
   "execution_count": 557,
   "metadata": {},
   "outputs": [],
   "source": [
    "loop = smu.GasMixture(0*u.K, ((1.47 + .2 + 13.37 + .77 + 0.07 + .2)*u.m**3).to(u.L))"
   ]
  },
  {
   "cell_type": "code",
   "execution_count": 558,
   "metadata": {},
   "outputs": [],
   "source": [
    "pump = smu.Pump()\n",
    "canist.V += pump.V_in\n",
    "loop.V += pump.V_out"
   ]
  },
  {
   "cell_type": "code",
   "execution_count": 559,
   "metadata": {},
   "outputs": [
    {
     "data": {
      "text/plain": [
       "GasMixture(T=<Quantity 293.15 K>, V=<Quantity 1000. l>, nus={'N2': <Quantity 3119.51410393 mol>})"
      ]
     },
     "execution_count": 559,
     "metadata": {},
     "output_type": "execute_result"
    }
   ],
   "source": [
    "canist * (1000*u.L / canist.V)"
   ]
  },
  {
   "cell_type": "code",
   "execution_count": 560,
   "metadata": {},
   "outputs": [
    {
     "name": "stderr",
     "output_type": "stream",
     "text": [
      "[ct.sm.Pump] Source entropy 185.221 J / (K mol) -> Sink entropy 176.838 J / (K mol)\n",
      "[ct.sm.Pump] Specific entropy change -8.38347 J / (K mol)\n",
      "[ct.sm.Pump] Specific power 976.133 J / mol\n",
      "[ct.sm.Pump] Transferred 16.2739 mol\n",
      "[ct.sm.Pump] Specific entropy change -8.38347 J / (K mol)\n",
      "[ct.sm.Pump] Specific power 976.133 J / mol\n",
      "[ct.sm.Pump] Transferred 16.2739 mol\n",
      "[ct.sm.Pump] Source entropy 186.735 J / (K mol) -> Sink entropy 176.802 J / (K mol)\n",
      "[ct.sm.Pump] Specific entropy change -9.9334 J / (K mol)\n",
      "[ct.sm.Pump] Specific power 1156.12 J / mol\n",
      "[ct.sm.Pump] Transferred 13.5616 mol\n",
      "[ct.sm.Pump] Source entropy 188.25 J / (K mol) -> Sink entropy 176.772 J / (K mol)\n",
      "[ct.sm.Pump] Specific entropy change -11.4772 J / (K mol)\n",
      "[ct.sm.Pump] Specific power 1335.23 J / mol\n",
      "[ct.sm.Pump] Transferred 11.3013 mol\n",
      "[ct.sm.Pump] Source entropy 189.764 J / (K mol) -> Sink entropy 176.748 J / (K mol)\n",
      "[ct.sm.Pump] Specific entropy change -13.0159 J / (K mol)\n",
      "[ct.sm.Pump] Specific power 1513.6 J / mol\n",
      "[ct.sm.Pump] Transferred 9.41777 mol\n",
      "[ct.sm.Pump] Source entropy 191.279 J / (K mol) -> Sink entropy 176.728 J / (K mol)\n",
      "[ct.sm.Pump] Specific entropy change -14.5505 J / (K mol)\n",
      "[ct.sm.Pump] Specific power 1691.33 J / mol\n",
      "[ct.sm.Pump] Transferred 7.84815 mol\n"
     ]
    }
   ],
   "source": [
    "for _ in range(20):\n",
    "    pump.pump(canist, loop)\n",
    "    he.cool(loop)\n",
    "%config Application.log_level = 'INFO'\n",
    "for _ in range(5):\n",
    "    pump.pump(canist, loop)\n",
    "    he.cool(loop)\n",
    "    # he.cool(loop) # Gives better correlation with actual\n",
    "%config Application.log_level = 30"
   ]
  },
  {
   "cell_type": "code",
   "execution_count": 433,
   "metadata": {},
   "outputs": [
    {
     "name": "stderr",
     "output_type": "stream",
     "text": [
      "[ct.sm.Pump] GasMixture(T=<Quantity 293.15 K>, V=<Quantity 200. l>, nus={'N2': <Quantity 623.90282079 mol>})\n",
      "[ct.sm.Pump] Source entropy 155.129 J / (K mol) -> Sink entropy 150000 J / (K mol)\n",
      "[ct.sm.Pump] Specific entropy change 149845 J / (K mol)\n",
      "[ct.sm.Pump] Specific power 0\n",
      "[ct.sm.Pump] Transferred 623.903 mol\n"
     ]
    },
    {
     "name": "stderr",
     "output_type": "stream",
     "text": [
      "[ct.sm.Pump] GasMixture(T=<Quantity 293.15 K>, V=<Quantity 200. l>, nus={'N2': <Quantity 519.91901732 mol>})\n",
      "[ct.sm.Pump] Source entropy 156.608 J / (K mol) -> Sink entropy 191.439 J / (K mol)\n",
      "[ct.sm.Pump] Specific entropy change 34.8311 J / (K mol)\n",
      "[ct.sm.Pump] Specific power 0\n",
      "[ct.sm.Pump] Transferred 519.919 mol\n",
      "[ct.sm.Pump] GasMixture(T=<Quantity 293.15 K>, V=<Quantity 200. l>, nus={'N2': <Quantity 433.26584777 mol>})\n",
      "[ct.sm.Pump] Source entropy 158.094 J / (K mol) -> Sink entropy 186.405 J / (K mol)\n",
      "[ct.sm.Pump] Specific entropy change 28.3109 J / (K mol)\n",
      "[ct.sm.Pump] Specific power 0\n",
      "[ct.sm.Pump] Transferred 433.266 mol\n",
      "[ct.sm.Pump] GasMixture(T=<Quantity 293.15 K>, V=<Quantity 200. l>, nus={'N2': <Quantity 361.05487314 mol>})\n",
      "[ct.sm.Pump] Source entropy 159.584 J / (K mol) -> Sink entropy 183.737 J / (K mol)\n",
      "[ct.sm.Pump] Specific entropy change 24.1532 J / (K mol)\n",
      "[ct.sm.Pump] Specific power 0\n",
      "[ct.sm.Pump] Transferred 361.055 mol\n",
      "[ct.sm.Pump] GasMixture(T=<Quantity 293.15 K>, V=<Quantity 200. l>, nus={'N2': <Quantity 300.87906095 mol>})\n",
      "[ct.sm.Pump] Source entropy 161.078 J / (K mol) -> Sink entropy 182.026 J / (K mol)\n",
      "[ct.sm.Pump] Specific entropy change 20.9473 J / (K mol)\n",
      "[ct.sm.Pump] Specific power 0\n",
      "[ct.sm.Pump] Transferred 300.879 mol\n"
     ]
    }
   ],
   "source": [
    "%config Application.log_level = 'INFO'\n",
    "for _ in range(5):\n",
    "    pump.pump(canist, loop)\n",
    "%config Application.log_level = 30"
   ]
  },
  {
   "cell_type": "code",
   "execution_count": null,
   "metadata": {},
   "outputs": [],
   "source": []
  },
  {
   "cell_type": "code",
   "execution_count": null,
   "metadata": {},
   "outputs": [],
   "source": []
  }
 ],
 "metadata": {
  "kernelspec": {
   "display_name": ".venv",
   "language": "python",
   "name": "python3"
  },
  "language_info": {
   "codemirror_mode": {
    "name": "ipython",
    "version": 3
   },
   "file_extension": ".py",
   "mimetype": "text/x-python",
   "name": "python",
   "nbconvert_exporter": "python",
   "pygments_lexer": "ipython3",
   "version": "3.10.5"
  }
 },
 "nbformat": 4,
 "nbformat_minor": 2
}
