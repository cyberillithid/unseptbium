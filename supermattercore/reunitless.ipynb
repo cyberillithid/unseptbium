{
 "cells": [
  {
   "cell_type": "code",
   "execution_count": 34,
   "metadata": {},
   "outputs": [],
   "source": [
    "import importlib\n",
    "import logging\n",
    "\n",
    "from tqdm import tqdm\n",
    "\n",
    "from datetime import datetime, timedelta\n",
    "\n",
    "from IPython.display import display_latex\n",
    "import units.smuless as smu\n",
    "importlib.reload(smu)\n",
    "# logging config\n",
    "smu.PumpLogger.setLevel(logging.DEBUG)\n",
    "smu.SmLogger.setLevel(logging.DEBUG)\n",
    "%config Application.logging_config = {'loggers': {'ct.sm': {'propagate': True, 'level': 'DEBUG', 'handlers': ['console']}}}"
   ]
  },
  {
   "cell_type": "code",
   "execution_count": 35,
   "metadata": {},
   "outputs": [
    {
     "data": {
      "text/latex": [
       "Gas mixture:\n",
       " T = 293.15 K,  V =  1000.00 L;\n",
       " p =  9119.25 kPa,  nu = 3743.42 mol\n",
       "(Mole fractions:\n",
       "N2: 100.00%)"
      ],
      "text/plain": [
       "GasMixture(T=293.15, V=1, nus={'N2': 3743.416924714803})"
      ]
     },
     "execution_count": 35,
     "metadata": {},
     "output_type": "execute_result"
    }
   ],
   "source": [
    "canist_ref = smu.GasMixture.pure('N2', 293.15, 1, 90*101325)\n",
    "canist_ref"
   ]
  },
  {
   "cell_type": "code",
   "execution_count": 192,
   "metadata": {},
   "outputs": [],
   "source": [
    "class SmModel:\n",
    "    he_i = None\n",
    "    teg_pwr = 0#*u.J\n",
    "    def __init__(self):\n",
    "        self.core_room = smu.GasMixture(smu.T_MINIMAL, 15*smu.CELL_VOLUME, {})\n",
    "        self.core_room._gr = 15\n",
    "        self.smcore = smu.Supermatter(self.core_room) #\n",
    "        # pipe networks with pipelines as base\n",
    "        self.cooled   = smu.PipeNetwork({'cooled':   smu.GasMixture(0,   .070)})\n",
    "        self.cooling  = smu.PipeNetwork({'cooling':  smu.GasMixture(0, 15.680)})\n",
    "        self.warm     = smu.PipeNetwork({'warm':     smu.GasMixture(0,  1.890)})\n",
    "        self.warm.add('filter1', 1)\n",
    "        self.warm.add('filter2', 1)\n",
    "        self.warm.add('nopump',   .2) # empty for waste or whatever\n",
    "        self.scalding = smu.PipeNetwork({'scalding': smu.GasMixture(0, .315)})\n",
    "        # connectors\n",
    "        self.c_hot =  smu.PipeNetwork({'':canist_ref*1})\n",
    "        self.c_cold = smu.PipeNetwork({'':canist_ref*1})\n",
    "        # pumps\n",
    "        self.po1 = smu.OutletInjector('PO1', P_max=30e3, target_V=0.700) # Outlet Injector\n",
    "        self.pi1 = smu.VentPump('PI1', V_out=0.700, ex_P = 100e3) # , V_in=0*u.L, V_out=0.2*u.m**3) # Vent Pump\n",
    "        self.hp1 = smu.Pump('HP1', P_max=45e3)\n",
    "        self.pc_hot =  smu.Pump('P[C]hot') # C2-P2 on pic\n",
    "        self.pc_cold = smu.Pump('P[C]cold') # C5-P6 on pic\n",
    "        # TEG and HE\n",
    "        self.t_hot =  smu.Turbine('T(hot)1')\n",
    "        self.t_cold = smu.Turbine('T(cold)2')\n",
    "        self.teg = smu.TEG(self.t_hot, self.t_cold)\n",
    "        self.he = smu.HeatExchanger(191)\n",
    "        # -- connecting devices --\n",
    "        self.pc_hot.connect( self.c_hot,     self.warm)\n",
    "        self.pc_cold.connect(self.c_cold,    self.cooling)\n",
    "        self.hp1.connect(    self.cooling,   self.cooled)\n",
    "        self.pi1.connect(    self.core_room, self.scalding)\n",
    "        self.po1.connect(    self.warm,      self.core_room)\n",
    "        self.t_hot.connect(  self.scalding,  self.warm)\n",
    "        self.t_cold.connect( self.cooled,    self.cooling)\n",
    "\n",
    "    def energize_core(self, n_pulses: int):\n",
    "        self.smcore.eer = smu.POWERED_EMITTER_DMG*n_pulses/smu.SM_EER_EMIT\n",
    "\n",
    "    def pump_cold(self):\n",
    "        if self.he_i is None: self.he_i = 0\n",
    "        if self.he_i > 1: \n",
    "            self.he.cool(self.cooling.gases['cooling'])\n",
    "        [x.equalize() for x in [self.c_cold, self.cooling]]\n",
    "        self.pc_cold.pump()\n",
    "        self.he_i += 1\n",
    "\n",
    "    def pump_hot_teg(self):\n",
    "        pwr_lost = [x.pump() for x in [self.pc_hot, self.pi1, self.po1]]\n",
    "        self.teg_pwr = self.teg.process()\n",
    "        [x.equalize() for x in [self.c_hot, self.warm, self.scalding]]\n",
    "\n",
    "    def full_tick(self):\n",
    "        self.pump_cold()\n",
    "        self.hp1.pump()\n",
    "        self.pump_hot_teg()\n",
    "        self.smcore.process()\n",
    "        [x.equalize() for x in [self.c_hot, self.warm, self.scalding, self.c_cold, self.cooling, self.cooled]]\n",
    "        self.core_room.react()\n",
    "\n",
    "    @property\n",
    "    def reftime(self):\n",
    "        # t0 = time(0,0,0)\n",
    "        if self.he_i is None: return timedelta(seconds=0)\n",
    "        dt = timedelta(seconds=self.he_i*2)\n",
    "        return (dt)\n",
    "\n",
    "    def _repr_latex_(self) -> str:\n",
    "        return '\\n\\n'.join([\n",
    "            f'Ticks spent: {self.he_i} ; server time: {self.reftime}; ',\n",
    "            f'Last power: {self.teg_pwr/1e3:.2f} kW',\n",
    "            self.smcore._repr_latex_(),\n",
    "            # 'C[hot]: '  + self.c_hot._repr_latex_()[25:],\n",
    "            # 'C[cold]: ' + self.c_cold._repr_latex_()[25:],\n",
    "            'scalding: '+ self.scalding._repr_latex_()[25:],\n",
    "            'warm: ' +    self.warm._repr_latex_()[25:],\n",
    "            'cooling: ' + self.cooling._repr_latex_()[25:],\n",
    "            'cooled: ' +  self.cooled._repr_latex_()[25:],\n",
    "        ])\n"
   ]
  },
  {
   "cell_type": "code",
   "execution_count": 193,
   "metadata": {},
   "outputs": [],
   "source": [
    "def try_run(n: int, queue_hot: list[smu.GasMixture], queue_cold: list[smu.GasMixture], dbg=True) -> tuple[SmModel,tuple]:\n",
    "    m = SmModel()\n",
    "    if len(queue_hot) and 'N2' not in queue_hot[0].nus:\n",
    "        # replacing \n",
    "        chot = queue_hot.pop(0)\n",
    "        m.c_hot.gases[''] = chot\n",
    "        m.c_hot.equalize()\n",
    "    if len(queue_cold) and 'N2' not in queue_cold[0].nus:\n",
    "        # replacing \n",
    "        ccold = queue_cold.pop(0)\n",
    "        m.c_cold.gases[''] = ccold\n",
    "        m.c_cold.equalize()\n",
    "    while len(queue_hot) + len(queue_cold) > 0 and m.c_cold.gases[''].p + m.c_hot.gases[''].p > 1000 :\n",
    "        m.pump_cold()\n",
    "        m.pump_hot_teg()\n",
    "        if len(queue_cold) and m.c_cold.gases[''].p < 1000:\n",
    "            m.c_cold.gases[''] = queue_cold.pop(0)\n",
    "        if len(queue_hot) and m.c_hot.gases[''].p < 1000:\n",
    "            m.c_hot.gases[''] = queue_hot.pop(0)\n",
    "    if dbg:\n",
    "        print(f'Pumping ended by {m.reftime}')\n",
    "    m.energize_core(n)\n",
    "    delam = False\n",
    "    T0 = m.core_room.T - 5\n",
    "    for i in range(10800):\n",
    "        m.full_tick()\n",
    "        if m.core_room.T > 5000:\n",
    "            if dbg: print('delam')\n",
    "            delam = True\n",
    "            break\n",
    "        if i % 100 == 0:\n",
    "            if m.core_room.T < T0:\n",
    "                break\n",
    "            T0 = m.core_room.T\n",
    "    if i==10800 and dbg:\n",
    "        print('too long')\n",
    "    if dbg:\n",
    "        print(f'{m.teg_pwr/1e3:.2f} kW at {m.reftime}')\n",
    "        display_latex(m.smcore)\n",
    "    return m, (delam, )"
   ]
  },
  {
   "cell_type": "code",
   "execution_count": 194,
   "metadata": {},
   "outputs": [
    {
     "data": {
      "text/plain": [
       "7599375.0"
      ]
     },
     "execution_count": 194,
     "metadata": {},
     "output_type": "execute_result"
    }
   ],
   "source": [
    "m = SmModel()\n",
    "m.c_cold.gases[''].p"
   ]
  },
  {
   "cell_type": "code",
   "execution_count": 203,
   "metadata": {},
   "outputs": [
    {
     "name": "stdout",
     "output_type": "stream",
     "text": [
      "ncold+1=1 nhot+1=1 best: n= 4, T =  4412.16 K, power  513.15 kW, 1:01:50 to stable-ish\n",
      "ncold+1=1 nhot+1=2 best: n= 5, T =  4964.83 K, power  635.64 kW, 0:56:46 to stable-ish\n",
      "ncold+1=1 nhot+1=3 best: n= 5, T =  4765.49 K, power  636.25 kW, 0:58:36 to stable-ish\n",
      "ncold+1=1 nhot+1=4 best: n= 5, T =  4656.45 K, power  635.54 kW, 0:57:14 to stable-ish\n",
      "ncold+1=1 nhot+1=5 best: n= 5, T =  4579.10 K, power  637.02 kW, 0:59:26 to stable-ish\n",
      "ncold+1=2 nhot+1=1 best: n= 7, T =  4854.87 K, power  882.21 kW, 1:20:04 to stable-ish\n",
      "ncold+1=2 nhot+1=2 best: n= 8, T =  4732.55 K, power  979.95 kW, 1:10:12 to stable-ish\n",
      "ncold+1=2 nhot+1=3 best: n= 9, T =  4901.27 K, power  1084.32 kW, 1:05:16 to stable-ish\n",
      "ncold+1=2 nhot+1=4 best: n= 9, T =  4697.61 K, power  1080.60 kW, 1:03:54 to stable-ish\n",
      "ncold+1=2 nhot+1=5 best: n= 9, T =  4556.90 K, power  1079.03 kW, 1:06:06 to stable-ish\n",
      "ncold+1=3 nhot+1=1 best: n= 9, T =  4992.15 K, power  1106.73 kW, 1:41:46 to stable-ish\n",
      "ncold+1=3 nhot+1=2 best: n= 11, T =  4904.39 K, power  1288.75 kW, 1:18:26 to stable-ish\n",
      "ncold+1=3 nhot+1=3 best: n= 12, T =  4801.93 K, power  1385.98 kW, 1:05:18 to stable-ish\n",
      "ncold+1=3 nhot+1=4 best: n= 13, T =  4849.98 K, power  1476.79 kW, 1:03:54 to stable-ish\n",
      "ncold+1=3 nhot+1=5 best: n= 14, T =  4987.00 K, power  1555.26 kW, 1:06:06 to stable-ish\n",
      "ncold+1=4 nhot+1=1 best: n= 9, T =  4720.48 K, power  1082.96 kW, 2:13:28 to stable-ish\n",
      "ncold+1=4 nhot+1=2 best: n= 11, T =  4536.07 K, power  1266.02 kW, 1:43:28 to stable-ish\n",
      "ncold+1=4 nhot+1=3 best: n= 13, T =  4848.23 K, power  1426.11 kW, 1:33:28 to stable-ish\n",
      "ncold+1=4 nhot+1=4 best: n= 14, T =  4831.65 K, power  1502.78 kW, 1:27:14 to stable-ish\n",
      "ncold+1=4 nhot+1=5 best: n= 15, T =  4931.48 K, power  1575.27 kW, 1:26:06 to stable-ish\n",
      "ncold+1=5 nhot+1=1 best: n= 9, T =  4543.85 K, power  1061.28 kW, 2:35:10 to stable-ish\n",
      "ncold+1=5 nhot+1=2 best: n= 12, T =  4830.65 K, power  1302.97 kW, 2:05:10 to stable-ish\n",
      "ncold+1=5 nhot+1=3 best: n= 13, T =  4561.59 K, power  1392.62 kW, 1:48:30 to stable-ish\n",
      "ncold+1=5 nhot+1=4 best: n= 15, T =  4970.59 K, power  1528.35 kW, 1:41:50 to stable-ish\n",
      "ncold+1=5 nhot+1=5 best: n= 15, T =  4578.75 K, power  1548.01 kW, 1:36:06 to stable-ish\n"
     ]
    }
   ],
   "source": [
    "best = None\n",
    "for ncold in range(5):\n",
    "    best = None\n",
    "    for nhot in range(5):\n",
    "        n0 = 4 if best is None else best[0]-1\n",
    "        best = None\n",
    "        for n in range(n0,60):\n",
    "            m, (delam, ) = try_run(n, [canist_ref*i for i in [1]*ncold], [canist_ref*i for i in [1]*nhot], False)\n",
    "            if delam: break\n",
    "            best = (n, m.core_room.T, m.teg_pwr, m.reftime)\n",
    "        n, T, P, t = best\n",
    "        print(f'{ncold+1=} {nhot+1=} best: {n=: 2}, T = {T: 6.2f} K, power {P/1e3: 5.2f} kW, {t} to stable-ish')"
   ]
  },
  {
   "cell_type": "code",
   "execution_count": 197,
   "metadata": {},
   "outputs": [
    {
     "name": "stdout",
     "output_type": "stream",
     "text": [
      "Pumping ended by 0:03:22\n",
      "520.56 kW at 1:36:44\n"
     ]
    },
    {
     "data": {
      "text/latex": [
       "Supermatter Core: temp 2963.41 K, pres 4294.32 kPa, EER 55.44, EPR 1.26, N2: 96.80%, O2: 3.20%, Ex*: 0.00%"
      ]
     },
     "metadata": {},
     "output_type": "display_data"
    },
    {
     "data": {
      "text/latex": [
       "Ticks spent: 2902 ; server time: 1:36:44; \n",
       "\n",
       "Last power: 520.56 kW\n",
       "\n",
       "Supermatter Core: temp 2963.41 K, pres 4294.32 kPa, EER 55.44, EPR 1.26, N2: 96.80%, O2: 3.20%, Ex*: 0.00%\n",
       "\n",
       "scalding:  {scalding (V = 315 L ) , PI1 (V = 700 L ) , T(hot)1 (V = 400 L ) }, total volume 1415 L;\n",
       "- first member props: \n",
       " T = 2963.75 K,  V =  315.00 L;\n",
       " p =  3707.17 kPa,  nu = 47.41 mol\n",
       "(Mole fractions:\n",
       "N2: 96.81%, O2: 3.19%, Ex*: 0.00%)\n",
       "\n",
       "warm:  {warm (V = 1890 L ) , filter1 (V = 1000 L ) , filter2 (V = 1000 L ) , nopump (V = 200 L ) , P[C]hot (V = 200 L ) , PO1 (V = 700 L ) , T(hot)1 (V = 200 L ) }, total volume 5190 L;\n",
       "- first member props: \n",
       " T = 1558.93 K,  V =  1890.00 L;\n",
       " p =  2448.42 kPa,  nu = 357.21 mol\n",
       "(Mole fractions:\n",
       "N2: 96.87%, O2: 3.13%, Ex*: 0.00%)\n",
       "\n",
       "cooling:  {cooling (V = 15680 L ) , P[C]cold (V = 200 L ) , HP1 (V = 200 L ) , T(cold)2 (V = 200 L ) }, total volume 16280 L;\n",
       "- first member props: \n",
       " T = 647.40 K,  V =  15680.00 L;\n",
       " p =  1152.84 kPa,  nu = 3360.04 mol\n",
       "(Mole fractions:\n",
       "N2: 100.00%)\n",
       "\n",
       "cooled:  {cooled (V = 70 L ) , HP1 (V = 200 L ) , T(cold)2 (V = 400 L ) }, total volume 670 L;\n",
       "- first member props: \n",
       " T = 643.56 K,  V =  70.00 L;\n",
       " p =  2033.42 kPa,  nu = 26.62 mol\n",
       "(Mole fractions:\n",
       "N2: 100.00%)"
      ],
      "text/plain": [
       "<__main__.SmModel at 0x172294b92d0>"
      ]
     },
     "execution_count": 197,
     "metadata": {},
     "output_type": "execute_result"
    }
   ],
   "source": [
    "try_run(4, [canist_ref*1], [])[0]"
   ]
  },
  {
   "cell_type": "code",
   "execution_count": 49,
   "metadata": {},
   "outputs": [],
   "source": [
    "canist_he = canist_ref*.5\n",
    "canist_he.nus = {'He': canist_ref.nus['N2']}"
   ]
  },
  {
   "cell_type": "code",
   "execution_count": 146,
   "metadata": {},
   "outputs": [
    {
     "name": "stderr",
     "output_type": "stream",
     "text": [
      "  0%|          | 0/5 [00:00<?, ?it/s]"
     ]
    },
    {
     "data": {
      "text/latex": [
       "Supermatter Core: temp 293.15 K, pres 236.10 kPa, EER 0.00, EPR 0.70, N2: 100.00%"
      ]
     },
     "metadata": {},
     "output_type": "display_data"
    },
    {
     "name": "stderr",
     "output_type": "stream",
     "text": [
      " 20%|██        | 1/5 [00:00<00:02,  1.70it/s]"
     ]
    },
    {
     "data": {
      "text/latex": [
       "Supermatter Core: temp 293.15 K, pres 460.32 kPa, EER 0.00, EPR 1.36, N2: 100.00%"
      ]
     },
     "metadata": {},
     "output_type": "display_data"
    },
    {
     "name": "stderr",
     "output_type": "stream",
     "text": [
      " 40%|████      | 2/5 [00:01<00:01,  1.75it/s]"
     ]
    },
    {
     "data": {
      "text/latex": [
       "Supermatter Core: temp 293.15 K, pres 673.18 kPa, EER 0.00, EPR 1.99, N2: 100.00%"
      ]
     },
     "metadata": {},
     "output_type": "display_data"
    },
    {
     "name": "stderr",
     "output_type": "stream",
     "text": [
      " 60%|██████    | 3/5 [00:01<00:01,  1.76it/s]"
     ]
    },
    {
     "data": {
      "text/latex": [
       "Supermatter Core: temp 293.15 K, pres 882.95 kPa, EER 0.00, EPR 2.62, N2: 100.00%"
      ]
     },
     "metadata": {},
     "output_type": "display_data"
    },
    {
     "name": "stderr",
     "output_type": "stream",
     "text": [
      " 80%|████████  | 4/5 [00:02<00:00,  1.77it/s]"
     ]
    },
    {
     "data": {
      "text/latex": [
       "Supermatter Core: temp 293.15 K, pres 1091.07 kPa, EER 0.00, EPR 3.23, N2: 100.00%"
      ]
     },
     "metadata": {},
     "output_type": "display_data"
    },
    {
     "name": "stderr",
     "output_type": "stream",
     "text": [
      "100%|██████████| 5/5 [00:02<00:00,  1.77it/s]\n"
     ]
    }
   ],
   "source": [
    "m = SmModel()\n",
    "# m.c_cold.gases[''] = canist_he*1\n",
    "# m.c_cold.equalize()\n",
    "# m.c_hot.gases[''] = canist_he*1\n",
    "# m.c_hot.equalize()\n",
    "for i in tqdm(range(5)):\n",
    "    for _ in range(60):\n",
    "        m.pump_cold()\n",
    "        m.pump_hot_teg()\n",
    "    #reload canister twice\n",
    "    if i < 5:\n",
    "        m.c_hot.gases['']  = canist_ref*1\n",
    "        m.c_cold.gases[''] = canist_ref*1\n",
    "    # print('Cooling [HE]')\n",
    "    # display_latex(m.cooling.gases['cooling'].p.to(u.kPa).round(2))\n",
    "    # print('Warm')\n",
    "    # display_latex(m.warm.gases['warm'].p.to(u.kPa).round(2))\n",
    "    # print('Core room')\n",
    "    display_latex(m.smcore)"
   ]
  },
  {
   "cell_type": "code",
   "execution_count": 147,
   "metadata": {},
   "outputs": [],
   "source": [
    "m.energize_core(16)"
   ]
  },
  {
   "cell_type": "code",
   "execution_count": 148,
   "metadata": {},
   "outputs": [
    {
     "name": "stderr",
     "output_type": "stream",
     "text": [
      "  1%|          | 28/5000 [00:00<01:11, 69.52it/s]"
     ]
    },
    {
     "name": "stderr",
     "output_type": "stream",
     "text": [
      " 58%|█████▊    | 2900/5000 [00:35<00:25, 81.22it/s]"
     ]
    },
    {
     "name": "stdout",
     "output_type": "stream",
     "text": [
      "stable-ish?\n"
     ]
    },
    {
     "name": "stderr",
     "output_type": "stream",
     "text": [
      "\n"
     ]
    }
   ],
   "source": [
    "T0 = m.smcore.room.T * 1 - 5\n",
    "for i in tqdm(range(5000)):\n",
    "    m.full_tick()\n",
    "    if i % 100 == 0:\n",
    "        if m.smcore.room.T < T0:\n",
    "            print('stable-ish?')\n",
    "            break\n",
    "        T0 = m.smcore.room.T * 1\n",
    "        if T0>5000:\n",
    "            print('delam')\n",
    "            break"
   ]
  },
  {
   "cell_type": "code",
   "execution_count": 163,
   "metadata": {},
   "outputs": [
    {
     "data": {
      "text/plain": [
       "6.0"
      ]
     },
     "execution_count": 163,
     "metadata": {},
     "output_type": "execute_result"
    }
   ],
   "source": [
    "10800*2/60/60"
   ]
  },
  {
   "cell_type": "code",
   "execution_count": null,
   "metadata": {},
   "outputs": [],
   "source": []
  }
 ],
 "metadata": {
  "kernelspec": {
   "display_name": ".venv",
   "language": "python",
   "name": "python3"
  },
  "language_info": {
   "codemirror_mode": {
    "name": "ipython",
    "version": 3
   },
   "file_extension": ".py",
   "mimetype": "text/x-python",
   "name": "python",
   "nbconvert_exporter": "python",
   "pygments_lexer": "ipython3",
   "version": "3.10.5"
  }
 },
 "nbformat": 4,
 "nbformat_minor": 2
}
