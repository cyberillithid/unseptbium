{
 "cells": [
  {
   "cell_type": "code",
   "execution_count": 2,
   "metadata": {},
   "outputs": [],
   "source": [
    "import matplotlib.pyplot as plt\n",
    "import numpy as np\n",
    "from scipy import constants as C\n",
    "import sympy as sy"
   ]
  },
  {
   "cell_type": "code",
   "execution_count": 97,
   "metadata": {},
   "outputs": [
    {
     "data": {
      "text/latex": [
       "$\\displaystyle \\frac{c y}{\\sqrt{c^{2} + x y^{2}}}$"
      ],
      "text/plain": [
       "c*y/sqrt(c**2 + x*y**2)"
      ]
     },
     "execution_count": 97,
     "metadata": {},
     "output_type": "execute_result"
    }
   ],
   "source": [
    "x,y,b,c=sy.symbols('x y b c', real=True, positive=True)\n",
    "# sy.solve(sy.integrate(1/(-b*y**4),y)-x-c,y)[\n",
    "# sy.root(3*b*x+c**-3,-3).simplify()\n",
    "p_e = sy.solve(sy.integrate(1/(-(y/c)**3),y)-x-b,y)[0] #t =\n",
    "p_e2 = p_e.subs({b:sy.solve(p_e.subs({x:0})-y,b)[0]}).simplify()\n",
    "p_e2.subs({c:sy.root(2*c**2,3)}).simplify()"
   ]
  },
  {
   "cell_type": "markdown",
   "metadata": {},
   "source": [
    "$y = y_0/\\sqrt{ct + 1}$, $c=y_0^2/\\lambda^3$\n",
    "\n",
    "$y(t)=y_1$ @ $t=(y_0^2/y_1^2 - 1)/c$"
   ]
  },
  {
   "cell_type": "code",
   "execution_count": 109,
   "metadata": {},
   "outputs": [
    {
     "data": {
      "text/latex": [
       "$\\displaystyle - \\frac{1}{c} + \\frac{y^{2}}{b^{2} c}$"
      ],
      "text/plain": [
       "-1/c + y**2/(b**2*c)"
      ]
     },
     "execution_count": 109,
     "metadata": {},
     "output_type": "execute_result"
    }
   ],
   "source": [
    "sy.solve(y/sy.root(c*x+1,2)-b, x)[0].expand()"
   ]
  },
  {
   "cell_type": "code",
   "execution_count": 117,
   "metadata": {},
   "outputs": [
    {
     "data": {
      "text/plain": [
       "92.86400831770452"
      ]
     },
     "execution_count": 117,
     "metadata": {},
     "output_type": "execute_result"
    }
   ],
   "source": [
    "P0/(ck*5474+1)**.5"
   ]
  },
  {
   "cell_type": "code",
   "execution_count": 120,
   "metadata": {},
   "outputs": [
    {
     "data": {
      "text/plain": [
       "3395700.0"
      ]
     },
     "execution_count": 120,
     "metadata": {},
     "output_type": "execute_result"
    }
   ],
   "source": [
    "((P0/10)**2-1)/ck"
   ]
  },
  {
   "cell_type": "code",
   "execution_count": 116,
   "metadata": {},
   "outputs": [
    {
     "data": {
      "text/plain": [
       "[<matplotlib.lines.Line2D at 0x20b03ba22c0>]"
      ]
     },
     "execution_count": 116,
     "metadata": {},
     "output_type": "execute_result"
    },
    {
     "data": {
      "image/png": "[encoded data removed]",
      "text/plain": [
       "<Figure size 640x480 with 1 Axes>"
      ]
     },
     "metadata": {},
     "output_type": "display_data"
    }
   ],
   "source": [
    "lamda = 700\n",
    "P0 = 100\n",
    "ck = P0**2/lamda**3\n",
    "t_ = np.linspace(1,1e5,2000)\n",
    "# plt.plot(t_, lamda**1.5*P0/(lamda**3+t_*P0**2)**.5)\n",
    "plt.plot(t_, P0/(ck*t_+1)**.5)"
   ]
  },
  {
   "cell_type": "code",
   "execution_count": 183,
   "metadata": {},
   "outputs": [],
   "source": [
    "Eer = 200\n",
    "ThP = 5.5e3*Eer # in Watts\n",
    "cv = 20 # N2...\n",
    "nu_canister = 3743 * 3 # 3 full in cool loop\n",
    "cool_V = 15.61# m3\n",
    "\n",
    "hot1_V = 1.995\n",
    "scalding_V = .315\n",
    "room_V = 37.5\n",
    "\n",
    "hot_V = hot1_V + scalding_V + room_V + 2 # pumps and turbines merged, filters ignd\n",
    "cool_V += 1.07 #pumps and turbines merged\n"
   ]
  },
  {
   "cell_type": "markdown",
   "metadata": {},
   "source": [
    "$(1-\\sqrt[-3]{k_1 T_d^3+1})=\\Delta T_eq/T_d$"
   ]
  },
  {
   "cell_type": "code",
   "execution_count": 184,
   "metadata": {},
   "outputs": [
    {
     "data": {
      "text/plain": [
       "(0.4898031881734794, 2.7128768717500816e-11)"
      ]
     },
     "execution_count": 184,
     "metadata": {},
     "output_type": "execute_result"
    }
   ],
   "source": [
    "Cve = cool_V / AIR_VMOLAR * cv\n",
    "dTeq = ThP / cv / nu_canister\n",
    "k1 =  3*C.sigma*91*2/Cve\n",
    "dTeq, k1"
   ]
  },
  {
   "cell_type": "markdown",
   "metadata": {},
   "source": [
    "Second approx: Imply that turbines consume just 0.4m3 every time.\n",
    "\n",
    "Ignoring pumps, that means that we have nets $V_h,V_c$, with $T_h,T_c$ and other args.\n",
    "\n",
    "$\\Delta T_h c_{v,m} \\nu_h = \\Delta Q_{sm} - \\Delta E_{TEG}$\n",
    "\n",
    "$\\Delta T_c c_{v,m} \\nu_c = (1-\\eta_T)\\Delta E_{TEG} - \\Delta Q_{HE}$."
   ]
  },
  {
   "cell_type": "markdown",
   "metadata": {},
   "source": [
    "$\\nu_1=\\nu_h V_t/V_h; \\nu_2=\\nu_c V_t/V_c$, $V_t=0.4$ m3;\n",
    "\n",
    "$\\tilde{C} = \\dfrac{C_1C_2}{C_1+C_2} = \\dfrac{\\nu_1\\nu_2}{\\nu_1+\\nu_2} = V_t \\dfrac{\\nu_c\\nu_h}{V_c\\nu_h + V_h\\nu_c}$\n",
    "\n",
    "$\\Delta E_{TEG} = (T_1-T_2)\\tilde{C}$"
   ]
  },
  {
   "cell_type": "markdown",
   "metadata": {},
   "source": [
    "$(T_h - T'_h)c_{v,m}\\nu_h = k_Q\\eta_rP_{sm} - (T_h-T_c)\\tilde{C}$,\n",
    "\n",
    "$(T_c-T'_c)c_{v,m}\\nu_c = (1-\\eta_T)(T_h-T_c)\\tilde{C} - c_{v,m}\\nu_c\\left(\n",
    "    T_d(1-\\sqrt[-3]{k_1T_d^3+1})-k_2\n",
    "\\right)$"
   ]
  },
  {
   "cell_type": "markdown",
   "metadata": {},
   "source": [
    "Stationary sol'n gets deltas = 0, i.e.,\n",
    "($P_\\Theta = k_Q\\eta_rP_{sm}$ -- `ThP`)\n",
    "\n",
    "$T_h - T_c = P_\\Theta / \\tilde{C}$,\n",
    "\n",
    "$(1-\\eta_T)(T_h-T_c)\\tilde{C} = c_{v,m}\\nu_c \\Delta T_{rad}$"
   ]
  },
  {
   "cell_type": "code",
   "execution_count": 185,
   "metadata": {},
   "outputs": [
    {
     "data": {
      "text/latex": [
       "$\\displaystyle \\frac{V_{h} \\nu_{c}}{V_{c} \\nu_{h} + V_{h} \\nu_{c}}$"
      ],
      "text/plain": [
       "V_h*\\nu_c/(V_c*\\nu_h + V_h*\\nu_c)"
      ]
     },
     "execution_count": 185,
     "metadata": {},
     "output_type": "execute_result"
    }
   ],
   "source": [
    "_vc, _vh,_vt,_nuh,_nuc =sy.symbols('V_c V_h V_t \\\\nu_h \\\\nu_c')\n",
    "_nu1,_nu2 = _vt * _nuh/_vh, _vt * _nuc/_vc\n",
    "((_nu1*_nu2/(_nu1+_nu2))/_nu1).simplify()"
   ]
  },
  {
   "cell_type": "code",
   "execution_count": 218,
   "metadata": {},
   "outputs": [
    {
     "data": {
      "text/plain": [
       "(404.6613122272687, 565139.864864865)"
      ]
     },
     "execution_count": 218,
     "metadata": {},
     "output_type": "execute_result"
    }
   ],
   "source": [
    "eta_C = 0.4 *cv* (nu_canister / (cool_V+hot_V))\n",
    "nu1,nu2 = 0.4*nu_canister/hot_V, 0.4*nu_canister/cool_V\n",
    "eta_C\n",
    "Eer = 113\n",
    "ThP = 5.5e3*Eer\n",
    "ThP/eta_C, ThP/eta_C*nu1*cv*.65"
   ]
  },
  {
   "cell_type": "markdown",
   "metadata": {},
   "source": [
    "More precise mathmodel"
   ]
  },
  {
   "cell_type": "code",
   "execution_count": null,
   "metadata": {},
   "outputs": [],
   "source": [
    "Vc1 = 13.37+1.47+0.77 + 3*.2 # this is wat is cooled/ cool turb out\n",
    "Vc2 = .67 #cool turbine inp\n",
    "Vh2 = 1.995 + .2 +.7 + 2 # filters / hot turb out\n",
    "Vh1 = .315 + .4 + .2 # hot turb in\n",
    "Vh0 = 37.5 # room"
   ]
  },
  {
   "cell_type": "markdown",
   "metadata": {},
   "source": [
    "Stationary:\n",
    "\n",
    "$\\dot\\nu_{c1} = \\Delta\\nu_{T2} - \\Delta\\nu_{HP1} = 0$\n",
    "\n",
    "$\\dot\\nu_{c2} = \\Delta\\nu_{HP1} - \\Delta\\nu_{T2} = 0$\n",
    "\n",
    "$\\dot\\nu_{h2} = \\Delta\\nu_{T1} - \\Delta\\nu_{PO1} = 0$\n",
    "\n",
    "$\\dot\\nu_{h0} = \\Delta\\nu_{PO1} - \\Delta\\nu_{PI1} = 0$\n",
    "\n",
    "$\\dot\\nu_{h1} = \\Delta\\nu_{PI1} - \\Delta\\nu_{T1} = 0$\n",
    "\n",
    "This means, that $\\Delta\\nu_{T2} = \\Delta\\nu_{HP1}$, and\n",
    "$\\Delta\\nu_{PI1} = \\Delta\\nu_{PO1} = \\Delta\\nu_{T1}$.\n",
    "\n",
    "First let's assume that it's purely power rating-limited. This means, that\n",
    "\n",
    "$\\Delta\\nu_{PI1} = N_{45}/N_{s,h2,h0} = \\Delta\\nu_{PO1} = N_{30}/N_{s,h0,h1} = \\Delta\\nu_{T1}$;\n",
    "\n",
    "$\\Delta\\nu_{HP1} = N_{45}/N_{s,c1,c2} = \\Delta\\nu_{T2}$."
   ]
  },
  {
   "cell_type": "markdown",
   "metadata": {},
   "source": [
    "$N_{s,h2,h0} = 3/2 N_{s,h0,h1}$;\n",
    "\n",
    "$T_{h0} \\log\\dfrac{1+c_1T_{h0}^{2/3}/p_{h0}}{1+c_1T_{h2}^{2/3}/p_{h2}} = \\dfrac{3}{2} T_{h1} \\log\\dfrac{1+c_1T_{h1}^{2/3}/p_{h1}}{1+c_1T_{h0}^{2/3}/p_{h0}} = -\\dfrac{5N_{s,h}}{2R}$\n",
    "\n",
    "$T_{c2} \\log\\dfrac{1+c_1T_{c2}^{2/3}/p_{c2}}{1+c_1T_{c1}^{2/3}/p_{c1}} = - \\dfrac{5N_{s,c}}{2R}$"
   ]
  },
  {
   "cell_type": "markdown",
   "metadata": {},
   "source": [
    "$\\Delta\\nu_{T1} = \\dfrac{1}{RT_{h2}} P_{h2} V_i = N_{45}/N_{s,h}$,\n",
    "\n",
    "$\\Delta\\nu_{T2} = \\dfrac{1}{RT_{c2}} P_{c2} V_i = N_{45}/N_{s,c}$,"
   ]
  },
  {
   "cell_type": "code",
   "execution_count": 232,
   "metadata": {},
   "outputs": [
    {
     "data": {
      "text/plain": [
       "5.648529113255366"
      ]
     },
     "execution_count": 232,
     "metadata": {},
     "output_type": "execute_result"
    }
   ],
   "source": [
    "c1p = (20*.028)**(2/3)*8.314"
   ]
  },
  {
   "cell_type": "code",
   "execution_count": 219,
   "metadata": {},
   "outputs": [],
   "source": [
    "dTeq = ThP*(1-.65) / cv / nu_canister"
   ]
  },
  {
   "cell_type": "code",
   "execution_count": 220,
   "metadata": {},
   "outputs": [
    {
     "data": {
      "text/plain": [
       "[0.484292902306527 - 572.08038658823*I,\n",
       " 0.484292902306528 + 572.08038658823*I,\n",
       " 0.484292902305594 + 0.279606637513811*I,\n",
       " 0.484292902307461 - 0.279606637513811*I,\n",
       " -571.596776979974 - 6.12452084887657e-15*I,\n",
       " 572.565362784587 + 6.12452084887657e-15*I]"
      ]
     },
     "execution_count": 220,
     "metadata": {},
     "output_type": "execute_result"
    }
   ],
   "source": [
    "[el.subs({c:dTeq,b:k1}).evalf() for el in sy.solve(x*(1-sy.root((b*x**3+1),-3))-c,x)]"
   ]
  },
  {
   "cell_type": "code",
   "execution_count": 221,
   "metadata": {},
   "outputs": [],
   "source": [
    "import astropy.units as u\n",
    "from astropy.units import Quantity as uQ"
   ]
  },
  {
   "cell_type": "code",
   "execution_count": 225,
   "metadata": {},
   "outputs": [
    {
     "data": {
      "text/latex": [
       "$\\mathrm{J}$"
      ],
      "text/plain": [
       "Unit(\"J\")"
      ]
     },
     "execution_count": 225,
     "metadata": {},
     "output_type": "execute_result"
    }
   ],
   "source": [
    "(u.Pa * u.m**3).compose()[0]"
   ]
  },
  {
   "cell_type": "code",
   "execution_count": 131,
   "metadata": {},
   "outputs": [
    {
     "data": {
      "text/plain": [
       "(0.0002, 883.7654020661274, 4418827.010330637, 1)"
      ]
     },
     "execution_count": 131,
     "metadata": {},
     "output_type": "execute_result"
    }
   ],
   "source": [
    "V1 = 0.07 #m3\n",
    "V = V1*10 #m3\n",
    "AIR_PCRIT = 3771e3 # Pa\n",
    "AIR_TCRIT = 132.65 # K, \n",
    "R_IDEAL_GAS = 8.31\n",
    "AIR_VMOLAR = R_IDEAL_GAS * AIR_TCRIT / AIR_PCRIT\n",
    "qSol = 200 # W/m2\n",
    "S=2\n",
    "F=0.04\n",
    "cv = 20 #J/mol/K\n",
    "# res = []\n",
    "nu = 4e3 #mol\n",
    "T0 = 5000.\n",
    "Vm = V/nu\n",
    "eta = min(1, AIR_VMOLAR/Vm)\n",
    "dQsol = eta*S * qSol*F\n",
    "dQr0 = eta*S * C.sigma*(T0-3.15)**4\n",
    "C1V = cv*nu # total heat capacity of gas\n",
    "dQsol/C1V, dQr0/C1V, dQr0/dQsol, eta"
   ]
  },
  {
   "cell_type": "code",
   "execution_count": 51,
   "metadata": {},
   "outputs": [],
   "source": [
    "def eval_cooling(nu: float, T0: float, N:int=1000):\n",
    "    Vm = V/nu\n",
    "    eta = min(1, AIR_VMOLAR/Vm)\n",
    "    dQsol = eta*S * qSol*F\n",
    "    dQr0 = eta*S * C.sigma*(T0-3.15)**4\n",
    "    C1V = cv*nu # total heat capacity of gas\n",
    "\n",
    "    T_semilin = []\n",
    "    T_proper = []\n",
    "    Ts = T0\n",
    "    for i in range(N):\n",
    "        dQrs = eta*S * C.sigma*(Ts-3.15)**4 # for only-radiat-iter\n",
    "        T_semilin.append(Ts+i*dQsol/C1V)\n",
    "        Ts -= dQrs/C1V\n",
    "    Tp = T0\n",
    "    for i in range(N):\n",
    "        dQrp = eta*S * C.sigma*(Tp-3.15)**4 # for full-iter\n",
    "        T_proper.append(Tp)\n",
    "        Tp += (dQsol - dQrp)/C1V\n",
    "\n",
    "    nu_eta = V/AIR_VMOLAR # critical mnt\n",
    "    Cve = max(nu, nu_eta)*cv\n",
    "    b_ = C.sigma*S/Cve\n",
    "    c_ = 1/(T0-3.15)**3\n",
    "    T_lin = [(3*b_*i+c_)**(-1/3.) + (i)*(dQsol)/C1V + 3.15for i in range(N)]\n",
    "    return T_lin, T_semilin, T_proper"
   ]
  },
  {
   "cell_type": "code",
   "execution_count": 52,
   "metadata": {},
   "outputs": [],
   "source": [
    "b__ = C.sigma*S/(V/AIR_VMOLAR*cv)\n",
    "c__ = 1/(1e3-3.15)**3"
   ]
  },
  {
   "cell_type": "code",
   "execution_count": 53,
   "metadata": {},
   "outputs": [
    {
     "data": {
      "text/plain": [
       "806.136600185627"
      ]
     },
     "execution_count": 53,
     "metadata": {},
     "output_type": "execute_result"
    }
   ],
   "source": [
    "(1/b__)**.25"
   ]
  },
  {
   "cell_type": "code",
   "execution_count": 57,
   "metadata": {},
   "outputs": [
    {
     "data": {
      "text/plain": [
       "230.33537265887787"
      ]
     },
     "execution_count": 57,
     "metadata": {},
     "output_type": "execute_result"
    },
    {
     "data": {
      "image/png": "[encoded data removed]",
      "text/plain": [
       "<Figure size 640x480 with 1 Axes>"
      ]
     },
     "metadata": {},
     "output_type": "display_data"
    }
   ],
   "source": [
    "Ns_ = [*range(1,192,1)]\n",
    "rr = eval_cooling(3743.5, 4000, 19200)\n",
    "plt.plot(rr[2])\n",
    "plt.plot(rr[0])\n",
    "rr[2][-1]\n",
    "# T0 = 400\n",
    "# refs = [eval_cooling(3743,   T0, N) for N in Ns_]\n",
    "# rets = [abs(x[0][-1]-x[2][-1])/T0 for x in refs]\n",
    "# plt.plot(Ns_, rets)"
   ]
  },
  {
   "cell_type": "code",
   "execution_count": 345,
   "metadata": {},
   "outputs": [
    {
     "data": {
      "text/plain": [
       "Text(0, 0.5, '$T_50$')"
      ]
     },
     "execution_count": 345,
     "metadata": {},
     "output_type": "execute_result"
    },
    {
     "data": {
      "image/png": "[encoded data removed]",
      "text/plain": [
       "<Figure size 640x480 with 1 Axes>"
      ]
     },
     "metadata": {},
     "output_type": "display_data"
    }
   ],
   "source": [
    "N=50\n",
    "nus_ = np.linspace(110,5e3,1000)\n",
    "refs = [eval_cooling(1e3, nu, N) for nu in nus_]\n",
    "rets = [x[0][-1]-x[2][-1] for x in refs]\n",
    "plt.plot(nus_, [x[2][-1] for x in refs], label='full-iter')\n",
    "plt.plot(nus_, [x[1][-1] for x in refs], '--', label='lin-sol+iter-rad')\n",
    "plt.plot(nus_, [x[0][-1] for x in refs], '-.', label='lin-sol+analyt-rad')\n",
    "plt.xlabel('$T_0$')\n",
    "plt.legend()\n",
    "plt.ylabel(f'$T_{N}$')"
   ]
  },
  {
   "cell_type": "code",
   "execution_count": 326,
   "metadata": {},
   "outputs": [
    {
     "data": {
      "text/plain": [
       "[<matplotlib.lines.Line2D at 0x26613a3c2b0>]"
      ]
     },
     "execution_count": 326,
     "metadata": {},
     "output_type": "execute_result"
    },
    {
     "data": {
      "image/png": "[encoded data removed]",
      "text/plain": [
       "<Figure size 640x480 with 1 Axes>"
      ]
     },
     "metadata": {},
     "output_type": "display_data"
    }
   ],
   "source": [
    "plt.plot(nus_, rets)"
   ]
  }
 ],
 "metadata": {
  "kernelspec": {
   "display_name": ".venv",
   "language": "python",
   "name": "python3"
  },
  "language_info": {
   "codemirror_mode": {
    "name": "ipython",
    "version": 3
   },
   "file_extension": ".py",
   "mimetype": "text/x-python",
   "name": "python",
   "nbconvert_exporter": "python",
   "pygments_lexer": "ipython3",
   "version": "3.10.5"
  }
 },
 "nbformat": 4,
 "nbformat_minor": 2
}
