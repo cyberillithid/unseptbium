{
 "cells": [
  {
   "cell_type": "markdown",
   "metadata": {},
   "source": [
    "A place to keep all proper mathematical derivations."
   ]
  },
  {
   "cell_type": "code",
   "execution_count": 1,
   "metadata": {},
   "outputs": [],
   "source": [
    "import matplotlib.pyplot as plt\n",
    "import numpy as np\n",
    "from scipy import constants as C\n",
    "import sympy as sy"
   ]
  },
  {
   "cell_type": "markdown",
   "metadata": {},
   "source": []
  },
  {
   "cell_type": "code",
   "execution_count": 23,
   "metadata": {},
   "outputs": [],
   "source": [
    "x = sy.Symbol('x', real = True, positive = True)"
   ]
  },
  {
   "cell_type": "code",
   "execution_count": 24,
   "metadata": {},
   "outputs": [
    {
     "data": {
      "text/plain": [
       "[0.869565217391304]"
      ]
     },
     "execution_count": 24,
     "metadata": {},
     "output_type": "execute_result"
    }
   ],
   "source": [
    "sy.solve(sy.Eq((1-x) - .15*x,0))"
   ]
  },
  {
   "cell_type": "code",
   "execution_count": 2,
   "metadata": {},
   "outputs": [],
   "source": [
    "P, P0, tau, lamda = sy.symbols('P P_0 \\\\tau \\\\lambda', real=True, positive=True)\n",
    "C = sy.Symbol('C', real=True)"
   ]
  },
  {
   "cell_type": "code",
   "execution_count": 26,
   "metadata": {},
   "outputs": [
    {
     "data": {
      "text/latex": [
       "$\\displaystyle - C + \\frac{\\lambda^{3}}{2 P^{2}}$"
      ],
      "text/plain": [
       "-C + \\lambda**3/(2*P**2)"
      ]
     },
     "execution_count": 26,
     "metadata": {},
     "output_type": "execute_result"
    }
   ],
   "source": [
    "sy.integrate(1/-(P/lamda)**3, P) - C"
   ]
  },
  {
   "cell_type": "code",
   "execution_count": 27,
   "metadata": {},
   "outputs": [
    {
     "data": {
      "text/latex": [
       "$\\displaystyle - \\lambda^{\\frac{3}{2}} \\sqrt{\\frac{1}{2 C + \\tau}}$"
      ],
      "text/plain": [
       "-\\lambda**(3/2)*sqrt(1/(2*C + \\tau))"
      ]
     },
     "execution_count": 27,
     "metadata": {},
     "output_type": "execute_result"
    }
   ],
   "source": [
    "P_t = sy.solve(_-tau/2, P)[0]\n",
    "P_t"
   ]
  },
  {
   "cell_type": "code",
   "execution_count": 28,
   "metadata": {},
   "outputs": [
    {
     "data": {
      "text/latex": [
       "$\\displaystyle \\frac{\\lambda^{3}}{2 P_{0}^{2}}$"
      ],
      "text/plain": [
       "\\lambda**3/(2*P_0**2)"
      ]
     },
     "execution_count": 28,
     "metadata": {},
     "output_type": "execute_result"
    }
   ],
   "source": [
    "sy.solve(P_t.subs({tau: 0})+ P0, C)[0]"
   ]
  },
  {
   "cell_type": "code",
   "execution_count": 29,
   "metadata": {},
   "outputs": [
    {
     "data": {
      "text/latex": [
       "$\\displaystyle - \\frac{P_{0} \\lambda^{\\frac{3}{2}}}{\\sqrt{P_{0}^{2} \\tau + \\lambda^{3}}}$"
      ],
      "text/plain": [
       "-P_0*\\lambda**(3/2)/sqrt(P_0**2*\\tau + \\lambda**3)"
      ]
     },
     "execution_count": 29,
     "metadata": {},
     "output_type": "execute_result"
    }
   ],
   "source": [
    "cf = P_t.subs({C:_}).simplify()\n",
    "cf"
   ]
  },
  {
   "cell_type": "code",
   "execution_count": 31,
   "metadata": {},
   "outputs": [
    {
     "data": {
      "text/latex": [
       "$\\displaystyle - \\frac{\\lambda^{3}}{P_{0}^{2}} + \\frac{\\lambda^{3}}{P^{2}}$"
      ],
      "text/plain": [
       "-\\lambda**3/P_0**2 + \\lambda**3/P**2"
      ]
     },
     "execution_count": 31,
     "metadata": {},
     "output_type": "execute_result"
    }
   ],
   "source": [
    "sy.solve(P+cf, tau)[0]"
   ]
  },
  {
   "cell_type": "code",
   "execution_count": 32,
   "metadata": {},
   "outputs": [
    {
     "data": {
      "text/plain": [
       "7803.23844995565"
      ]
     },
     "execution_count": 32,
     "metadata": {},
     "output_type": "execute_result"
    }
   ],
   "source": [
    "700**3/100**2 - 700**3/113.776**2"
   ]
  },
  {
   "cell_type": "code",
   "execution_count": 35,
   "metadata": {},
   "outputs": [
    {
     "data": {
      "text/plain": [
       "9.6"
      ]
     },
     "execution_count": 35,
     "metadata": {},
     "output_type": "execute_result"
    }
   ],
   "source": [
    ".16*60"
   ]
  },
  {
   "cell_type": "code",
   "execution_count": 34,
   "metadata": {},
   "outputs": [
    {
     "data": {
      "text/plain": [
       "2.1675"
      ]
     },
     "execution_count": 34,
     "metadata": {},
     "output_type": "execute_result"
    }
   ],
   "source": [
    "(7803/60)/60 "
   ]
  },
  {
   "cell_type": "code",
   "execution_count": 19,
   "metadata": {},
   "outputs": [
    {
     "data": {
      "text/latex": [
       "$\\displaystyle -100.507632054235$"
      ],
      "text/plain": [
       "-100.507632054235"
      ]
     },
     "execution_count": 19,
     "metadata": {},
     "output_type": "execute_result"
    }
   ],
   "source": [
    "_.subs({P0: 109.6, lamda: 700, tau: 90*60}).evalf()"
   ]
  },
  {
   "cell_type": "code",
   "execution_count": 117,
   "metadata": {},
   "outputs": [
    {
     "data": {
      "text/plain": [
       "100.87997103100399"
      ]
     },
     "execution_count": 117,
     "metadata": {},
     "output_type": "execute_result"
    }
   ],
   "source": [
    "113.76 / ((120*60) * 113.76**2/700**3 + 1 )**.5"
   ]
  },
  {
   "cell_type": "markdown",
   "metadata": {},
   "source": [
    "# prev"
   ]
  },
  {
   "cell_type": "code",
   "execution_count": 2,
   "metadata": {},
   "outputs": [
    {
     "data": {
      "text/latex": [
       "$\\displaystyle \\frac{c y}{\\sqrt{c^{2} + x y^{2}}}$"
      ],
      "text/plain": [
       "c*y/sqrt(c**2 + x*y**2)"
      ]
     },
     "execution_count": 2,
     "metadata": {},
     "output_type": "execute_result"
    }
   ],
   "source": [
    "x,y,b,c=sy.symbols('x y b c', real=True, positive=True)\n",
    "# sy.solve(sy.integrate(1/(-b*y**4),y)-x-c,y)[\n",
    "# sy.root(3*b*x+c**-3,-3).simplify()\n",
    "p_e = sy.solve(sy.integrate(1/(-(y/c)**3),y)-x-b,y)[0] #t =\n",
    "p_e2 = p_e.subs({b:sy.solve(p_e.subs({x:0})-y,b)[0]}).simplify()\n",
    "p_e2.subs({c:sy.root(2*c**2,3)}).simplify()"
   ]
  },
  {
   "cell_type": "markdown",
   "metadata": {},
   "source": [
    "$y = y_0/\\sqrt{ct + 1}$, $c=y_0^2/\\lambda^3$\n",
    "\n",
    "$y(t)=y_1$ @ $t=(y_0^2/y_1^2 - 1)/c$"
   ]
  },
  {
   "cell_type": "code",
   "execution_count": 13,
   "metadata": {},
   "outputs": [
    {
     "data": {
      "text/latex": [
       "$\\displaystyle - \\frac{1}{c} + \\frac{y^{2}}{b^{2} c}$"
      ],
      "text/plain": [
       "-1/c + y**2/(b**2*c)"
      ]
     },
     "execution_count": 13,
     "metadata": {},
     "output_type": "execute_result"
    }
   ],
   "source": [
    "sy.solve(y/sy.root(c*x+1,2)-b, x)[0].expand()"
   ]
  },
  {
   "cell_type": "code",
   "execution_count": 14,
   "metadata": {},
   "outputs": [
    {
     "ename": "NameError",
     "evalue": "name 'P0' is not defined",
     "output_type": "error",
     "traceback": [
      "\u001b[1;31m---------------------------------------------------------------------------\u001b[0m",
      "\u001b[1;31mNameError\u001b[0m                                 Traceback (most recent call last)",
      "Cell \u001b[1;32mIn[14], line 1\u001b[0m\n\u001b[1;32m----> 1\u001b[0m \u001b[43mP0\u001b[49m\u001b[38;5;241m/\u001b[39m(ck\u001b[38;5;241m*\u001b[39m\u001b[38;5;241m5474\u001b[39m\u001b[38;5;241m+\u001b[39m\u001b[38;5;241m1\u001b[39m)\u001b[38;5;241m*\u001b[39m\u001b[38;5;241m*\u001b[39m\u001b[38;5;241m.5\u001b[39m\n",
      "\u001b[1;31mNameError\u001b[0m: name 'P0' is not defined"
     ]
    }
   ],
   "source": [
    "P0/(ck*5474+1)**.5"
   ]
  },
  {
   "cell_type": "code",
   "execution_count": 15,
   "metadata": {},
   "outputs": [
    {
     "ename": "NameError",
     "evalue": "name 'P0' is not defined",
     "output_type": "error",
     "traceback": [
      "\u001b[1;31m---------------------------------------------------------------------------\u001b[0m",
      "\u001b[1;31mNameError\u001b[0m                                 Traceback (most recent call last)",
      "Cell \u001b[1;32mIn[15], line 1\u001b[0m\n\u001b[1;32m----> 1\u001b[0m ((\u001b[43mP0\u001b[49m\u001b[38;5;241m/\u001b[39m\u001b[38;5;241m10\u001b[39m)\u001b[38;5;241m*\u001b[39m\u001b[38;5;241m*\u001b[39m\u001b[38;5;241m2\u001b[39m\u001b[38;5;241m-\u001b[39m\u001b[38;5;241m1\u001b[39m)\u001b[38;5;241m/\u001b[39mck\n",
      "\u001b[1;31mNameError\u001b[0m: name 'P0' is not defined"
     ]
    }
   ],
   "source": [
    "((P0/10)**2-1)/ck"
   ]
  },
  {
   "cell_type": "markdown",
   "metadata": {},
   "source": [
    "Second approx: Imply that turbines consume just 0.4m3 every time.\n",
    "\n",
    "Ignoring pumps, that means that we have nets $V_h,V_c$, with $T_h,T_c$ and other args.\n",
    "\n",
    "$\\Delta T_h c_{v,m} \\nu_h = \\Delta Q_{sm} - \\Delta E_{TEG}$\n",
    "\n",
    "$\\Delta T_c c_{v,m} \\nu_c = (1-\\eta_T)\\Delta E_{TEG} - \\Delta Q_{HE}$."
   ]
  },
  {
   "cell_type": "markdown",
   "metadata": {},
   "source": [
    "$\\nu_1=\\nu_h V_t/V_h; \\nu_2=\\nu_c V_t/V_c$, $V_t=0.4$ m3;\n",
    "\n",
    "$\\tilde{C} = \\dfrac{C_1C_2}{C_1+C_2} = \\dfrac{\\nu_1\\nu_2}{\\nu_1+\\nu_2} = V_t \\dfrac{\\nu_c\\nu_h}{V_c\\nu_h + V_h\\nu_c}$\n",
    "\n",
    "$\\Delta E_{TEG} = (T_1-T_2)\\tilde{C}$"
   ]
  },
  {
   "cell_type": "markdown",
   "metadata": {},
   "source": [
    "$(T_h - T'_h)c_{v,m}\\nu_h = k_Q\\eta_rP_{sm} - (T_h-T_c)\\tilde{C}$,\n",
    "\n",
    "$(T_c-T'_c)c_{v,m}\\nu_c = (1-\\eta_T)(T_h-T_c)\\tilde{C} - c_{v,m}\\nu_c\\left(\n",
    "    T_d(1-\\sqrt[-3]{k_1T_d^3+1})-k_2\n",
    "\\right)$"
   ]
  },
  {
   "cell_type": "markdown",
   "metadata": {},
   "source": [
    "Stationary sol'n gets deltas = 0, i.e.,\n",
    "($P_\\Theta = k_Q\\eta_rP_{sm}$ -- `ThP`)\n",
    "\n",
    "$T_h - T_c = P_\\Theta / \\tilde{C}$,\n",
    "\n",
    "$(1-\\eta_T)(T_h-T_c)\\tilde{C} = c_{v,m}\\nu_c \\Delta T_{rad}$"
   ]
  },
  {
   "cell_type": "code",
   "execution_count": 19,
   "metadata": {},
   "outputs": [
    {
     "data": {
      "text/latex": [
       "$\\displaystyle \\frac{V_{h} \\nu_{c}}{V_{c} \\nu_{h} + V_{h} \\nu_{c}}$"
      ],
      "text/plain": [
       "V_h*\\nu_c/(V_c*\\nu_h + V_h*\\nu_c)"
      ]
     },
     "execution_count": 19,
     "metadata": {},
     "output_type": "execute_result"
    }
   ],
   "source": [
    "_vc, _vh,_vt,_nuh,_nuc =sy.symbols('V_c V_h V_t \\\\nu_h \\\\nu_c')\n",
    "_nu1,_nu2 = _vt * _nuh/_vh, _vt * _nuc/_vc\n",
    "((_nu1*_nu2/(_nu1+_nu2))/_nu1).simplify()"
   ]
  },
  {
   "cell_type": "code",
   "execution_count": 20,
   "metadata": {},
   "outputs": [
    {
     "data": {
      "text/plain": [
       "(404.6613122272687, 565139.864864865)"
      ]
     },
     "execution_count": 20,
     "metadata": {},
     "output_type": "execute_result"
    }
   ],
   "source": [
    "eta_C = 0.4 *cv* (nu_canister / (cool_V+hot_V))\n",
    "nu1,nu2 = 0.4*nu_canister/hot_V, 0.4*nu_canister/cool_V\n",
    "eta_C\n",
    "Eer = 113\n",
    "ThP = 5.5e3*Eer\n",
    "ThP/eta_C, ThP/eta_C*nu1*cv*.65"
   ]
  },
  {
   "cell_type": "markdown",
   "metadata": {},
   "source": [
    "More precise mathmodel"
   ]
  },
  {
   "cell_type": "code",
   "execution_count": 21,
   "metadata": {},
   "outputs": [],
   "source": [
    "Vc1 = 13.37+1.47+0.77 + 3*.2 # this is wat is cooled/ cool turb out\n",
    "Vc2 = .67 #cool turbine inp\n",
    "Vh2 = 1.995 + .2 +.7 + 2 # filters / hot turb out\n",
    "Vh1 = .315 + .4 + .2 # hot turb in\n",
    "Vh0 = 37.5 # room"
   ]
  },
  {
   "cell_type": "markdown",
   "metadata": {},
   "source": [
    "Stationary:\n",
    "\n",
    "$\\dot\\nu_{c1} = \\Delta\\nu_{T2} - \\Delta\\nu_{HP1} = 0$\n",
    "\n",
    "$\\dot\\nu_{c2} = \\Delta\\nu_{HP1} - \\Delta\\nu_{T2} = 0$\n",
    "\n",
    "$\\dot\\nu_{h2} = \\Delta\\nu_{T1} - \\Delta\\nu_{PO1} = 0$\n",
    "\n",
    "$\\dot\\nu_{h0} = \\Delta\\nu_{PO1} - \\Delta\\nu_{PI1} = 0$\n",
    "\n",
    "$\\dot\\nu_{h1} = \\Delta\\nu_{PI1} - \\Delta\\nu_{T1} = 0$\n",
    "\n",
    "This means, that $\\Delta\\nu_{T2} = \\Delta\\nu_{HP1} = \\dot\\nu_c$, and\n",
    "$\\Delta\\nu_{PI1} = \\Delta\\nu_{PO1} = \\Delta\\nu_{T1} = \\dot\\nu_h$.\n",
    "\n",
    "First let's assume that it's purely power rating-limited. This means, that\n",
    "\n",
    "$\\Delta\\nu_{PI1} = N_{45}/N_{s,h2,h0} = \\Delta\\nu_{PO1} = N_{30}/N_{s,h0,h1} = \\Delta\\nu_{T1}$;\n",
    "\n",
    "$\\Delta\\nu_{HP1} = N_{45}/N_{s,c1,c2} = \\Delta\\nu_{T2}$."
   ]
  },
  {
   "cell_type": "markdown",
   "metadata": {},
   "source": [
    "$N_{s,h2,h0} = 3/2 N_{s,h0,h1}$;\n",
    "\n",
    "$T_{h0} \\log\\dfrac{1+c_1T_{h0}^{2/3}/p_{h0}}{1+c_1T_{h2}^{2/3}/p_{h2}} = \\dfrac{3}{2} T_{h1} \\log\\dfrac{1+c_1T_{h1}^{2/3}/p_{h1}}{1+c_1T_{h0}^{2/3}/p_{h0}} = -\\dfrac{5N_{s,h}}{2R}$\n",
    "\n",
    "$T_{c2} \\log\\dfrac{1+c_1T_{c2}^{2/3}/p_{c2}}{1+c_1T_{c1}^{2/3}/p_{c1}} = - \\dfrac{5N_{s,c}}{2R}$"
   ]
  },
  {
   "cell_type": "markdown",
   "metadata": {},
   "source": [
    "$\\dot\\nu_h = \\Delta\\nu_{T1} = \\dfrac{1}{RT_{h2}} P_{h2} V_i = N_{45}/N_{s,h}$,\n",
    "\n",
    "$\\dot\\nu_c = \\Delta\\nu_{T2} = \\dfrac{1}{RT_{c2}} P_{c2} V_i = N_{45}/N_{s,c}$,"
   ]
  },
  {
   "cell_type": "markdown",
   "metadata": {},
   "source": [
    "$\\dfrac{5N_{s,c}}{2R} \\dfrac{P_{c2}V_i}{T_{c2}} = \\dfrac{5}{2}N_{45}$,\n",
    "\n",
    "$\\dfrac{5N_{s,c}}{2R} \\dfrac{P_{c2}V_i}{T_{c2}} = \\dfrac{5}{2}N_{45}$,\n",
    "\n"
   ]
  },
  {
   "cell_type": "markdown",
   "metadata": {},
   "source": [
    "$-{P_{c2}} \\log\\dfrac{1+c_1T_{c2}^{2/3}/p_{c2}}{1+c_1T_{c1}^{2/3}/p_{c1}} = \\dfrac{5N_{45}}{2V_i}$\n",
    "\n",
    "$-P_{h2} \\log\\dfrac{1+c_1T_{h0}^{2/3}/p_{h0}}{1+c_1T_{h2}^{2/3}/p_{h2}}  = \\dfrac{5N_{45}}{2V_i} \\dfrac{T_{h2}}{T_{h0}}$"
   ]
  },
  {
   "cell_type": "markdown",
   "metadata": {},
   "source": [
    "As well as: $\\nu_{h1}+\\nu_{h2}+\\nu_{h0}=3\\nu_C$;\n",
    "$\\nu_{c1}+\\nu_{c2}=3\\nu_C$; $\\nu_C$ -- single engine N2 canister"
   ]
  },
  {
   "cell_type": "markdown",
   "metadata": {},
   "source": [
    "Now we take note of heats:\n",
    "\n",
    "$\\nu_{h1} c_v T_{h1} = (\\nu_{h1} - \\dot\\nu_h) c_v T_{h1} + \\dot\\nu_h c_v T_{h0}$\n",
    "=> $T_{h1} = T_{h0} = T_h$\n",
    "\n",
    "$\\nu_{h2} c_v T_{h2} = (\\nu_{h2} - \\dot\\nu_h) c_v T_{h2} + \\dot\\nu_h c_v T_{h1} - \\Delta E_{TEG}$ => $\\dot\\nu_h c_v T_{h2} = \\dot\\nu_h c_v T_{h1} - \\Delta E_{TEG}$\n",
    "\n",
    "=> $T_{h2} = T_w = T_h - \\dfrac{\\Delta E_{TEG}}{\\dot\\nu_h c_v}$\n",
    "\n",
    "$\\nu_{h0} c_v T_{h0} = (\\nu_{h0} - \\dot\\nu_h) c_v T_{h0} + \\dot\\nu_h c_v T_{h2} + \\Delta Q_{SM}$ => $\\dot\\nu_h c_v T_{h0} = \\dot\\nu_h c_v T_{h2} + \\Delta Q_{SM}$\n",
    "\n",
    "=> $\\Delta E_{TEG} = \\Delta Q_{SM}$\n",
    "\n",
    "$\\Delta E_{TEG} = (T_{h01} - T_{c2}) c_v \\dfrac{\\dot\\nu_h \\dot\\nu_c}{\\dot\\nu_h+\\dot\\nu_c} = N_\\Theta$ ($N_\\Theta$ -- `ThP`)\n",
    "\n",
    "$\\nu_{c1} c_v T_{c1} = (\\nu_{c1} - \\dot\\nu_c) c_v T_{c1} + \\dot\\nu_c c_v T_{c2} + (1-\\eta_T)\\Delta E_{TEG} - \\Delta Q_{HE}$\n",
    "\n",
    "$\\nu_{c2} c_v T_{c2} = (\\nu_{c2} -\\dot\\nu_c) c_V T_{c2} + \\dot\\nu_c c_v T_{c1}$ => $T_{c2}=T_{c1}$\n",
    "\n",
    "$(1-\\eta_T)\\Delta E_{TEG} = \\Delta Q_{HE} = c_v \\nu_c \\Delta T_{rad} = c_v \\nu_{c1} \\left(\n",
    "    T_d(1 - \\dfrac{1}{\\sqrt[3]{k_1T_d^3+1}})-k_2\n",
    " \\right)$"
   ]
  },
  {
   "cell_type": "markdown",
   "metadata": {},
   "source": [
    "$\\Delta T_{Eq} = (1-\\eta_T) \\Delta E_{TEG} / c_v / \\nu_{c1}$"
   ]
  },
  {
   "cell_type": "markdown",
   "metadata": {},
   "source": [
    "$\\Delta E_{TEG} = (T_h - T_c) \\tilde{C} = N_\\Theta$\n",
    "\n",
    "$\\dot\\nu_h = \\dfrac{P_{h2} V_i}{RT_w}$,\n",
    "$\\dot\\nu_c = \\dfrac{P_{c2} V_i}{RT_c}$,\n",
    "\n",
    "$\\tilde{C} = c_v (\\dot\\nu_h^{-1} + \\dot\\nu_c^{-1})^{-1} =\n",
    "\\dfrac{c_v V_i}{R}(\\dfrac{T_w}{P_{h2}}+\\dfrac{T_c}{P_{c2}})^{-1} =\n",
    "\\dfrac{c_v V_i}{R}\\dfrac{P_{c2}P_{h2}}{T_wP_{c2}+T_cP_{h2}}$\n"
   ]
  },
  {
   "cell_type": "markdown",
   "metadata": {},
   "source": [
    "$-{P_{c2}} \\log\\dfrac{1+c_1T_c^{2/3}/p_{c2}}{1+c_1T_c^{2/3}/p_{c1}} = \\dfrac{5N_{45}}{2V_i}$\n",
    "\n",
    "$-P_{h2} \\dfrac{T_h}{T_w} \\log\\dfrac{1+c_1T_h^{2/3}/p_{h0}}{1+c_1T_w^{2/3}/p_{h2}}  = \\dfrac{5N_{45}}{2V_i}$"
   ]
  },
  {
   "cell_type": "code",
   "execution_count": 22,
   "metadata": {},
   "outputs": [],
   "source": [
    "Ph1,Ph2,Ph0,Pc1,Pc2 = sy.symbols('P_{h1} P_{h2} P_{h0} P_{c1} P_{c2}', real=True, positive=True)\n",
    "Th,Tc,Tw = sy.symbols('T_h T_c T_w', real=True, positive=True)\n",
    "PTh = sy.symbols('N_\\Theta', real=True, positive=True)"
   ]
  },
  {
   "cell_type": "code",
   "execution_count": 23,
   "metadata": {},
   "outputs": [],
   "source": [
    "_cv, _vi, _Vc1, _R, _c1, _c2, _eta, _k1, _k2, _nuc = sy.symbols('c_v V_i V_{c1} R c_1 c_2 \\\\eta_T k_1 k_2 \\\\nu_c')\n",
    "cv = 20\n",
    "vi = 0.4\n",
    "R = 8.314\n",
    "mu = .028\n",
    "c_1 = R*(mu*cv)**(2/3.)\n",
    "c_2 = 45000 * 5 /2/vi\n",
    "eta=.65"
   ]
  },
  {
   "cell_type": "code",
   "execution_count": 574,
   "metadata": {},
   "outputs": [],
   "source": [
    "nu_c1 = Pc1*Vc1/_R/Tc # pV = nu RT\n",
    "seq1 = sy.Eq((1-_eta)*PTh, _cv*nu_c1*Tc*(1-sy.root(_k1*Tc+1,-3)))\n",
    "# unkn: Pc1, Tc\n",
    "# - neu -\n",
    "dnh = Ph2*_vi/_R/Tw\n",
    "seqTh = sy.Eq(Th, Tw + PTh/dnh/_cv)\n",
    "# -\n",
    "tilde_C = _cv*_vi/_R * (Pc2*Ph2)/(Tw*Pc2+Tc*Ph2)\n",
    "seq2=sy.Eq(Th, PTh/tilde_C - Tc) # D E TEG / D Q SM\n",
    "#unkn: Pc2,Ph2,Tc,Th,Tw + {Pc1 up}\n",
    "seq3=sy.Eq(\n",
    "    (1+_c1*sy.root(sy.Pow(Th, 2),3)/Ph0),\n",
    "    sy.exp(-_c2*Tw/(Ph2*Th)) * (1+_c1*sy.root(sy.Pow(Tw, 2),3)/Ph2)\n",
    ")\n",
    "#unkn: Ph2,Th,Ph0,Tw + {Pc1, Pc2, Tc up}\n",
    "seq4=sy.Eq(\n",
    "    (1+_c1*sy.root(sy.Pow(Tc, 2),3)/Pc2),\n",
    "     sy.exp( -_c2/Pc2) * (1+_c1*sy.root(sy.Pow(Tc, 2),3)/Pc1)\n",
    ")\n",
    "#unkn: Pc2,Tc,Pc1 + {Ph2, Th,Ph0,Tw up}\n",
    "seq5 = sy.Eq(\n",
    "    (1+_c1*sy.root(sy.Pow(Th, 2),3)/Ph0)**5, \n",
    "    (1+_c1*sy.root(sy.Pow(Th, 2),3)/Ph1)**3 * (1+_c1*sy.root(sy.Pow(Tw, 2),3)/Ph2)**2 \n",
    ")\n",
    "\n",
    "sPh2 = sy.Eq((Ph1*Vh1 + Ph0*Vh0)/_R/Th + Ph2*Vh2/_R/Tw, 3*_nuc )\n",
    "# sy.solve(sPh2, Ph2)[0]\n",
    "sPc1 = sy.Eq(nu_c1 + Pc2*Vc2/_R/Tc, 3*_nuc)\n",
    "\n",
    "#unkn: Pc2,Tc,Pc1 + {Ph2, Th,Ph0,Tw up}"
   ]
  },
  {
   "cell_type": "code",
   "execution_count": 583,
   "metadata": {},
   "outputs": [
    {
     "data": {
      "text/latex": [
       "$\\displaystyle T_{h} = \\frac{N_{\\Theta} R T_{w}}{P_{h2} V_{i} c_{v}} + T_{w}$"
      ]
     },
     "metadata": {},
     "output_type": "display_data"
    },
    {
     "data": {
      "text/latex": [
       "$\\displaystyle T_{h} = \\frac{N_{\\Theta} R \\left(P_{c2} T_{w} + P_{h2} T_{c}\\right)}{P_{c2} P_{h2} V_{i} c_{v}} - T_{c}$"
      ]
     },
     "metadata": {},
     "output_type": "display_data"
    },
    {
     "data": {
      "text/latex": [
       "$\\displaystyle N_{\\Theta} \\left(1 - \\eta_{T}\\right) = \\frac{16.21 P_{c1} c_{v} \\left(1 - \\frac{1}{\\sqrt[3]{T_{c} k_{1} + 1}}\\right)}{R}$"
      ]
     },
     "metadata": {},
     "output_type": "display_data"
    },
    {
     "data": {
      "text/latex": [
       "$\\displaystyle 1 + \\frac{T_{h}^{\\frac{2}{3}} c_{1}}{P_{h0}} = \\left(1 + \\frac{T_{w}^{\\frac{2}{3}} c_{1}}{P_{h2}}\\right) e^{- \\frac{T_{w} c_{2}}{P_{h2} T_{h}}}$"
      ]
     },
     "metadata": {},
     "output_type": "display_data"
    },
    {
     "data": {
      "text/latex": [
       "$\\displaystyle 1 + \\frac{T_{c}^{\\frac{2}{3}} c_{1}}{P_{c2}} = \\left(1 + \\frac{T_{c}^{\\frac{2}{3}} c_{1}}{P_{c1}}\\right) e^{- \\frac{c_{2}}{P_{c2}}}$"
      ]
     },
     "metadata": {},
     "output_type": "display_data"
    },
    {
     "data": {
      "text/latex": [
       "$\\displaystyle \\left(1 + \\frac{T_{h}^{\\frac{2}{3}} c_{1}}{P_{h0}}\\right)^{5} = \\left(1 + \\frac{T_{h}^{\\frac{2}{3}} c_{1}}{P_{h1}}\\right)^{3} \\left(1 + \\frac{T_{w}^{\\frac{2}{3}} c_{1}}{P_{h2}}\\right)^{2}$"
      ]
     },
     "metadata": {},
     "output_type": "display_data"
    },
    {
     "data": {
      "text/latex": [
       "$\\displaystyle \\frac{4.895 P_{h2}}{R T_{w}} + \\frac{37.5 P_{h0} + 0.915 P_{h1}}{R T_{h}} = 3 \\nu_{c}$"
      ]
     },
     "metadata": {},
     "output_type": "display_data"
    },
    {
     "data": {
      "text/latex": [
       "$\\displaystyle \\frac{16.21 P_{c1}}{R T_{c}} + \\frac{0.67 P_{c2}}{R T_{c}} = 3 \\nu_{c}$"
      ]
     },
     "metadata": {},
     "output_type": "display_data"
    }
   ],
   "source": [
    "from IPython.display import display_latex\n",
    "sysv = []\n",
    "for qq in [seqTh,seq2,seq1,seq3,seq4,seq5,sPh2,sPc1]:\n",
    "    display_latex(qq)\n",
    "    sysv.append(qq.subs({\n",
    "       _cv:20, _vi:.4, _Vc1:Vc1,\n",
    "        _R:8.314, _c1:c_1, _c2:c_2, _eta:.65, _k1:k1,\n",
    "        _nuc:nu_canister,\n",
    "        PTh: 20*5.5e3\n",
    "    }))"
   ]
  },
  {
   "cell_type": "code",
   "execution_count": 584,
   "metadata": {},
   "outputs": [],
   "source": [
    "_Pc1 = sy.solve(sysv[-1],Pc1)[0]\n",
    "_Ph2 = sy.solve(sysv[-2],Ph2)[0]"
   ]
  },
  {
   "cell_type": "code",
   "execution_count": 585,
   "metadata": {},
   "outputs": [],
   "source": [
    "sysv2 = [k.subs({Pc1:_Pc1, Ph2:_Ph2}) for k in sysv[:-2]]"
   ]
  },
  {
   "cell_type": "code",
   "execution_count": 586,
   "metadata": {},
   "outputs": [],
   "source": [
    "_Pc2 = sy.solve(sysv2[1],Pc2)[0]\n",
    "_Th = sy.solve(sysv2[0], Th)[0]\n",
    "sysv3 = [k.subs({Pc2:_Pc2,Th:_Th}) for k in sysv2[2:]]\n",
    "# unkn: Ph0, Ph2, Tc, Tw"
   ]
  },
  {
   "cell_type": "code",
   "execution_count": 587,
   "metadata": {},
   "outputs": [],
   "source": [
    "dxS = lambda x0,x1,x2,x3: [(k.lhs.subs({Ph0:x0,Ph1:x1,Tc:x2,Tw:x3}) - k.rhs.subs({Ph0:x0,Ph1:x1,Tc:x2,Tw:x3})).evalf() for k in sysv3]"
   ]
  },
  {
   "cell_type": "code",
   "execution_count": 588,
   "metadata": {},
   "outputs": [
    {
     "data": {
      "text/plain": [
       "[38498.8496297248,\n",
       " -2.90773269671637e+22,\n",
       " 0.997132812370702,\n",
       " 0.00487219660113111]"
      ]
     },
     "execution_count": 588,
     "metadata": {},
     "output_type": "execute_result"
    }
   ],
   "source": [
    "dxS(1e5,1e5,300,300)"
   ]
  },
  {
   "cell_type": "code",
   "execution_count": 589,
   "metadata": {},
   "outputs": [],
   "source": [
    "import scipy.optimize"
   ]
  },
  {
   "cell_type": "code",
   "execution_count": 590,
   "metadata": {},
   "outputs": [
    {
     "data": {
      "text/plain": [
       " message: The iteration is not making good progress, as measured by the \n",
       "            improvement from the last ten iterations.\n",
       " success: False\n",
       "  status: 5\n",
       "     fun: [ 5.734e-06  1.018e-01  8.811e-01  1.176e-04]\n",
       "       x: [ 4.262e+05 -1.426e+06 -5.487e+04  1.785e+00]\n",
       "  method: hybr\n",
       "    nfev: 181\n",
       "    fjac: [[-9.701e-04  1.000e+00  4.220e-08  2.013e-03]\n",
       "           [-1.629e-01 -2.145e-03 -7.010e-05  9.866e-01]\n",
       "           [-9.866e-01 -6.292e-04  1.130e-05 -1.629e-01]\n",
       "           [-2.705e-07 -1.854e-07  1.000e+00  7.101e-05]]\n",
       "       r: [-2.830e-07 -6.906e-09 -1.362e-03  2.027e-03 -6.130e-12\n",
       "           -2.287e-01 -6.058e-05 -1.386e+00  7.997e-06 -3.252e-06]\n",
       "     qtf: [ 1.018e-01 -2.369e-04 -5.212e-04  8.811e-01]"
      ]
     },
     "execution_count": 590,
     "metadata": {},
     "output_type": "execute_result"
    }
   ],
   "source": [
    "scipy.optimize.root(lambda x:[float(abs(v)) for v in dxS(*x)],[1e5,1e5,300,300])"
   ]
  },
  {
   "cell_type": "code",
   "execution_count": 507,
   "metadata": {},
   "outputs": [],
   "source": [
    "x_0 = [30e5,80e5,3000,4000]"
   ]
  },
  {
   "cell_type": "code",
   "execution_count": 511,
   "metadata": {},
   "outputs": [
    {
     "name": "stdout",
     "output_type": "stream",
     "text": [
      "[-2668.73295617106, 0.00371533284481484, -2.46206033671648e-7, 0.00153258096160691]\n",
      "[-2759.83388235583, 0.00341623420958959, -2.45339380255949e-7, 0.00153345211377953]\n",
      "[-2844.08525479498, 0.00314360417921489, -2.44390034875863e-7, 0.00152915383197660]\n",
      "[-2921.74426857850, 0.00289601405957085, -2.43357706986025e-7, 0.00140479889066447]\n",
      "[-2993.06132135397, 0.00278663457676176, -2.42242392589631e-7, 0.00268303623758104]\n",
      "[-3058.27694926511, 0.00259814727924579, -2.41044278537217e-7, 0.00277885652167786]\n",
      "[-3117.62545743150, 0.00241867011646513, -2.39763825682360e-7, 0.00278320683651412]\n",
      "[-3171.33382490280, 0.00225454757656696, -2.38401723251513e-7, 0.00278406402385167]\n",
      "[-3219.62384552890, 0.00210474193663690, -2.36958938137910e-7, 0.00278425687372996]\n",
      "[-3262.71347183321, 0.00196806000011784, -2.35436735995798e-7, 0.00278421507309545]\n",
      "[-3300.81264291224, 0.00184337115991295, -2.33836544016874e-7, 0.00278404705765767]\n",
      "[-3334.12878553118, 0.00172963181033514, -2.32160094926215e-7, 0.00278379088710179]\n",
      "[-3362.86315579543, 0.00162588550544229, -2.30409300416845e-7, 0.00278346455164935]\n",
      "[-3387.21397304449, 0.00153125753073446, -2.28586330974778e-7, 0.00278307918124998]\n",
      "[-3407.37562961666, 0.00144494879244628, -2.26693574245651e-7, 0.00278264316309684]\n",
      "[-3423.53989334750, 0.00136622959707122, -2.24733654907716e-7, 0.00278216357631766]\n",
      "[-3435.88943261693, 0.00129443410970564, -2.22709199526605e-7, 0.00278164677189996]\n",
      "[-3444.61007063989, 0.00122895435184978, -2.20623233460060e-7, 0.00278109855904751]\n",
      "[-3449.87904524409, 0.00116923572684735, -2.18478760527496e-7, 0.00278052436694343]\n",
      "[-3451.87234499025, 0.00111477211435895, -2.16279000486708e-7, 0.00277992928454052]\n"
     ]
    }
   ],
   "source": [
    "for i in range(20):\n",
    "    dx_0 = np.array([float(x) for x in dxS(*x_0)])\n",
    "    # print(dx_0)\n",
    "    A = np.zeros((4,4))\n",
    "    for i in range(4):\n",
    "        x_1 = x_0\n",
    "        x_1[i] *= 1.001\n",
    "        dx_1 = (np.array([float(x) for x in dxS(*x_1)]) - dx_0)/float(x_1[i]*.001)\n",
    "        A[i,:]=dx_1\n",
    "    ddx = np.linalg.solve(A.T, dx_0)\n",
    "    # print(ddx)\n",
    "    x_1 = x_0 - ddx*0.05\n",
    "    # print(x_1)\n",
    "    x_0=x_1\n",
    "    print(dxS(*x_1))"
   ]
  },
  {
   "cell_type": "code",
   "execution_count": 513,
   "metadata": {},
   "outputs": [
    {
     "data": {
      "text/plain": [
       "array([1.20261325e+06, 5.01114399e+08, 4.73723977e+03, 1.28536538e+03])"
      ]
     },
     "execution_count": 513,
     "metadata": {},
     "output_type": "execute_result"
    }
   ],
   "source": [
    "x_0"
   ]
  },
  {
   "cell_type": "code",
   "execution_count": 219,
   "metadata": {},
   "outputs": [],
   "source": [
    "dTeq = ThP*(1-.65) / cv / nu_canister"
   ]
  },
  {
   "cell_type": "code",
   "execution_count": 220,
   "metadata": {},
   "outputs": [
    {
     "data": {
      "text/plain": [
       "[0.484292902306527 - 572.08038658823*I,\n",
       " 0.484292902306528 + 572.08038658823*I,\n",
       " 0.484292902305594 + 0.279606637513811*I,\n",
       " 0.484292902307461 - 0.279606637513811*I,\n",
       " -571.596776979974 - 6.12452084887657e-15*I,\n",
       " 572.565362784587 + 6.12452084887657e-15*I]"
      ]
     },
     "execution_count": 220,
     "metadata": {},
     "output_type": "execute_result"
    }
   ],
   "source": [
    "[el.subs({c:dTeq,b:k1}).evalf() for el in sy.solve(x*(1-sy.root((b*x**3+1),-3))-c,x)]"
   ]
  }
 ],
 "metadata": {
  "kernelspec": {
   "display_name": ".venv",
   "language": "python",
   "name": "python3"
  },
  "language_info": {
   "codemirror_mode": {
    "name": "ipython",
    "version": 3
   },
   "file_extension": ".py",
   "mimetype": "text/x-python",
   "name": "python",
   "nbconvert_exporter": "python",
   "pygments_lexer": "ipython3",
   "version": "3.10.5"
  }
 },
 "nbformat": 4,
 "nbformat_minor": 2
}
